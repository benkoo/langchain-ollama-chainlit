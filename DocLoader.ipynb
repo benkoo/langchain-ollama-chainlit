{
 "cells": [
  {
   "cell_type": "code",
   "execution_count": null,
   "metadata": {},
   "outputs": [],
   "source": [
    "%pip install langchain langchain-openai langchain-community faiss-cpu tiktoken"
   ]
  },
  {
   "cell_type": "code",
   "execution_count": 2,
   "metadata": {},
   "outputs": [],
   "source": [
    "from langchain_openai import OpenAI \n",
    "from langchain_community.document_loaders import TextLoader\n",
    "from langchain.text_splitter import RecursiveCharacterTextSplitter\n",
    "from langchain_openai import OpenAIEmbeddings\n",
    "from langchain_community.vectorstores import FAISS\n",
    "from langchain_core.vectorstores import VectorStoreRetriever\n",
    "from langchain.chains import RetrievalQA\n",
    "import os\n",
    "from dotenv import load_dotenv"
   ]
  },
  {
   "cell_type": "code",
   "execution_count": 3,
   "metadata": {},
   "outputs": [],
   "source": [
    "load_dotenv()\n",
    "\n",
    "os.environ['OPENAI_API_KEY'] = os.getenv(\"OPENAI_API_KEY\")"
   ]
  },
  {
   "cell_type": "code",
   "execution_count": null,
   "metadata": {},
   "outputs": [],
   "source": []
  },
  {
   "cell_type": "code",
   "execution_count": 4,
   "metadata": {},
   "outputs": [],
   "source": [
    "\n",
    "loader = TextLoader(\"metallica.txt\")"
   ]
  },
  {
   "cell_type": "code",
   "execution_count": 5,
   "metadata": {},
   "outputs": [],
   "source": [
    "documents = loader.load()"
   ]
  },
  {
   "cell_type": "code",
   "execution_count": 6,
   "metadata": {},
   "outputs": [
    {
     "data": {
      "text/plain": [
       "[Document(page_content='Metallica is an American heavy metal band. The band was formed in 1981 in Los Angeles by vocalist and guitarist James Hetfield and drummer Lars Ulrich, and has been based in San Francisco for most of its career.[1][2] The band\\'s fast tempos, instrumentals and aggressive musicianship made them one of the founding \"big four\" bands of thrash metal, alongside Megadeth, Anthrax and Slayer. Metallica\\'s current lineup comprises founding members and primary songwriters Hetfield and Ulrich, longtime lead guitarist Kirk Hammett and bassist Robert Trujillo. Guitarist Dave Mustaine, who formed Megadeth after being fired from Metallica, and bassists Ron McGovney, Cliff Burton and Jason Newsted are former members of the band.\\n\\nMetallica first found commercial success with the release of its third album, Master of Puppets (1986), which is cited as one of the heaviest metal albums and the band\\'s best work. The band\\'s next album, ...And Justice for All (1988), gave Metallica its first Grammy Award nomination. Its fifth album, Metallica (1991), was a turning point for the band that saw them transition from their thrash roots; it appealed to a more mainstream audience, achieving substantial commercial success and selling more than 16 million copies in the United States to date, making it the best-selling album of the SoundScan era. After experimenting with different genres and directions in subsequent releases, Metallica returned to its thrash metal roots with its ninth album, Death Magnetic (2008), which drew similar praise to that of the band\\'s earlier albums. The band\\'s eleventh and most recent album, 72 Seasons, was released in 2023.\\n\\nIn 2000, Metallica led the case against the peer-to-peer file sharing service Napster, in which the band and several other artists filed lawsuits against the service for sharing their copyright-protected material without consent, eventually reaching a settlement. Metallica was the subject of the acclaimed 2004 documentary film Metallica: Some Kind of Monster, which documented the troubled production of the band\\'s eighth album, St. Anger (2003), and the internal struggles within the band at the time. In 2009, Metallica was inducted into the Rock and Roll Hall of Fame. The band co-wrote the screenplay for and starred alongside Dane DeHaan in the 2013 concert film Metallica: Through the Never, in which the band performed live against a fictional thriller storyline.\\n\\nMetallica has released eleven studio albums, four live albums (including two performances with the San Francisco Symphony), twelve video albums, one cover album, two extended plays, 37 singles and 39 music videos. The band has won ten Grammy Awards from 26 nominations and had six consecutive studio albums – from Metallica through Hardwired... to Self-Destruct (2016) – debut at number one on the Billboard 200. Metallica ranks as one of the most commercially successful bands of all time, having sold more than 125 million albums worldwide as of 2018.[3] Metallica has been listed as one of the greatest artists of all time by magazines such as Rolling Stone, which ranked the band in 61st place on its list of 100 greatest artists of all time.[4] As of 2017, Metallica is the third-best-selling music artist since Nielsen SoundScan began tracking sales in 1991,[5] selling 58 million albums in the United States.[6]\\nHistory\\n1981–1984: Formation, early years, and Kill \\'Em All\\nThe classic Metallica logo, designed by James Hetfield and used on most of the band\\'s releases[7][8]\\n\\nMetallica was formed in Los Angeles in late 1981 when Danish drummer Lars Ulrich placed an advertisement in a Los Angeles newspaper, The Recycler, which read, \"Drummer looking for other metal musicians to jam with Tygers of Pan Tang, Diamond Head and Iron Maiden.\"[9] Guitarists James Hetfield and Hugh Tanner of Leather Charm answered the advertisement. Although he had not formed a band, Ulrich asked Metal Blade Records founder Brian Slagel if he could record a song for the label\\'s upcoming compilation album, Metal Massacre. Slagel accepted, and Ulrich recruited Hetfield to sing and play rhythm guitar.[9] The band was officially formed on October 28, 1981, five months after Ulrich and Hetfield first met.[10][11]\\nMetallica founding members James Hetfield (top) and Lars Ulrich (bottom)\\n\\nThe band name came from Ulrich\\'s friend Ron Quintana, who was brainstorming names for a fanzine and was considering MetalMania or Metallica. After hearing the two names, Ulrich wanted the latter for his band, so he suggested Quintana use MetalMania instead.[12] Dave Mustaine replied to an advertisement for a lead guitarist; Ulrich and Hetfield recruited him after seeing his expensive guitar equipment. In early 1982, Metallica recorded its first original song, \"Hit the Lights\", for the Metal Massacre I compilation. Hetfield sang and played both bass and rhythm guitar, while Lars Ulrich played drums and Lloyd Grant was credited with a guitar solo.[9] Metal Massacre I was released on June 14, 1982; early pressings listed the band incorrectly as \"Mettallica\", angering the band.[13] The song generated word of mouth, and the band played its first live performance on March 14, 1982, at Radio City in Anaheim, California, with newly recruited bassist Ron McGovney.[14] Their first live success came early; they were chosen to open for British heavy metal band Saxon at one gig of their 1982 U.S. tour. This was Metallica\\'s second gig. Metallica recorded its first demo, Power Metal, whose name was inspired by Quintana\\'s early business cards, in early 1982.\\n\\nThe term \"thrash metal\" was coined in February 1984 by Kerrang! journalist Malcolm Dome in reference to Anthrax\\'s song \"Metal Thrashing Mad\".[15] Prior to this, Hetfield referred to Metallica\\'s sound as \"power metal\". In late 1982, Ulrich and Hetfield attended a show at the West Hollywood nightclub Whisky a Go Go, which featured bassist Cliff Burton in the band Trauma. The two were \"blown away\" by Burton\\'s use of a wah-wah pedal and asked him to join Metallica. Hetfield and Mustaine wanted McGovney to leave because they thought he \"didn\\'t contribute anything, he just followed.\"[16] Although Burton initially declined the offer, by the end of the year, he had accepted on the condition that the band move to El Cerrito in the San Francisco Bay Area.[16] Metallica\\'s first live performance with Burton was at the nightclub The Stone in March 1983, and the first recording to feature Burton was the Megaforce demo (1983).[16]\\n\\nMetallica was ready to record their debut album, but when Metal Blade was unable to cover the cost, they began looking for other options. Concert promoter Jonathan \"Jonny Z\" Zazula, who had heard the demo No Life \\'til Leather (1982), offered to broker a record deal between Metallica and New York City–based record labels. After those record labels showed no interest, Zazula borrowed enough money to cover the recording budget and signed Metallica to his own label, Megaforce Records.[17]\\nDave Mustaine (pictured in 2009) went on to found rival band Megadeth after being fired from the band in 1983.\\n\\nIn May 1983, Metallica traveled to Rochester, New York, to record its debut album, Metal Up Your Ass, which was produced by Paul Curcio.[18] The other members decided to eject Mustaine from the band because of his drug and alcohol abuse and violent behavior just before the recording sessions on April 11, 1983.[19] Exodus guitarist Kirk Hammett replaced Mustaine the same afternoon.[17] Metallica\\'s first live performance with Hammett was on April 16, 1983, at a nightclub in Dover, New Jersey, called The Showplace;[16] the support act was Anthrax\\'s original lineup, which included Dan Lilker and Neil Turbin.[20] This was the first time the two bands performed live together.[16]\\nKirk Hammett (pictured in 2010) replaced Mustaine in 1983, and has been with the band ever since.\\n\\nMustaine, who went on to form Megadeth, has expressed his dislike for Hammett in interviews, saying Hammett \"stole\" his job.[21] Mustaine was \"pissed off\" because he believes Hammett became popular by playing guitar leads that Mustaine had actually written.[22] In a 1985 interview with Metal Forces, Mustaine said, \"It\\'s real funny how Kirk Hammett ripped off every lead break I\\'d played on that No Life \\'til Leather tape and got voted No. 1 guitarist in your magazine.\"[23] On Megadeth\\'s debut album, Killing Is My Business... and Business Is Good! (1985), Mustaine included the song \"Mechanix\", which Metallica had previously reworked and retitled \"The Four Horsemen\" on Kill \\'Em All. Mustaine said he did this to \"straighten Metallica up\" because Metallica referred to Mustaine as a drunk and said he could not play guitar.[23]\\n\\nBecause of conflicts with its record label and the distributors\\' refusal to release an album titled Metal Up Your Ass, the album was renamed Kill \\'Em All. It was released on Megaforce Records in the U.S. and on Music for Nations in Europe, and peaked at number 155 on the Billboard 200 in 1986.[24][a] Although the album was not initially a financial success, it earned Metallica a growing fan base in the underground metal scene.[25] To support the release, Metallica embarked on the Kill \\'Em All for One tour with Raven.[26] In February 1984, Metallica supported Venom on the Seven Dates of Hell tour, during which the bands performed in front of 7,000 people at the Aardschok Festival in Zwolle, Netherlands.[27]\\n1984–1986: Ride the Lightning, Master of Puppets, and Burton\\'s death\\nCliff Burton (pictured in 1985) replaced Ron McGovney as the bassist in 1982 and played with the band until his death in 1986.\\n\\nMetallica recorded its second studio album, Ride the Lightning, at Sweet Silence Studios in Copenhagen, Denmark, from February to March 1984. It was released in August 1984 and reached number 100 on the Billboard 200.[28] A French printing press mistakenly printed green covers for the album, which are now considered collectors\\' items. Mustaine received writing credit for \"Ride the Lightning\" and \"The Call of Ktulu\".[27]\\n\\nElektra Records A&R director Michael Alago and co-founder of Q-Prime Management Cliff Burnstein attended a Metallica concert in September 1984; they were impressed with the performance, signed Metallica to Elektra and made the band a client of Q-Prime Management.[29] Metallica\\'s growing success was such that the band\\'s British label, Music for Nations, released \"Creeping Death\" as a limited-edition single, which sold 40,000 copies as an import in the U.S. Two of the three songs on the record – cover versions of Diamond Head\\'s \"Am I Evil?\" and Blitzkrieg\\'s \"Blitzkrieg\" – appeared on the 1988 Elektra reissue of Kill \\'Em All.[30] Metallica embarked on its first major European tour with Tank to an average crowd of 1,300. Returning to the U.S., it embarked on a co-headlining tour with W.A.S.P. and support from Armored Saint. Metallica played its largest show at the Monsters of Rock festival at Donington Park, England, on August 17, 1985, with Bon Jovi and Ratt, playing to 70,000 people. At a show in Oakland, California, at the Day on the Green festival, the band played to a crowd of 60,000.[29]\\n\\nMetallica\\'s third studio album, Master of Puppets, was recorded at Sweet Silence Studios from September to December 1985 and released in March 1986. The album reached number 29 on the Billboard 200 and spent 72 weeks on the chart.[31] It was the band\\'s first album to be certified Gold on November 4, 1986, and was certified six times Platinum in 2003.[32] Steve Huey of AllMusic considered the album \"the band\\'s greatest achievement\".[33] Following the release of the album, Metallica supported Ozzy Osbourne on a U.S. tour.[29] Hetfield broke his wrist while skateboarding; he continued with the tour, performing vocals, with guitar technician John Marshall playing rhythm guitar.[34]\\n\\nOn September 27, 1986, during the European leg of Metallica\\'s Damage, Inc. Tour, members drew cards to determine which bunks on the tour bus they would sleep in. Burton won and chose to sleep in Hammett\\'s bunk. At around sunrise near Dörarp, Sweden, the bus driver lost control and skidded, which caused the bus to overturn several times. Ulrich, Hammett and Hetfield sustained no serious injuries; however, Burton was pinned under the bus and died. Hetfield said:\\n\\n    I saw the bus lying right on him. I saw his legs sticking out. I freaked. The bus driver, I recall, was trying to yank the blanket out from under him to use for other people. I just went, \"Don\\'t fucking do that!\" I already wanted to kill the [bus driver]. I don\\'t know if he was drunk or if he hit some ice. All I knew was, he was driving and Cliff wasn\\'t alive anymore.[34]\\n\\n1986–1994: Newsted joins, ...And Justice for All and Metallica\\nJason Newsted (pictured in 2013) joined Metallica soon after Cliff Burton\\'s death in 1986.\\n\\nBurton\\'s death left Metallica\\'s future in doubt. The three remaining members decided Burton would want them to carry on, and with the Burton family\\'s blessings, the band sought a replacement.[35] Roughly 40 people – including Hammett\\'s childhood friend, Les Claypool of Primus; Troy Gregory of Prong; and Jason Newsted, formerly of Flotsam and Jetsam – auditioned for the band to fill Burton\\'s spot. Newsted learned Metallica\\'s entire setlist; after the audition, Metallica invited him to Tommy\\'s Joynt in San Francisco. Hetfield, Ulrich and Hammett decided on Newsted as Burton\\'s replacement; his first live performance with Metallica was at the Country Club in Reseda, California. The members initiated Newsted by tricking him into eating a ball of wasabi.[35] The band finished its tour in February 1987.\\n\\nAfter Newsted joined Metallica, the band left their El Cerrito practice space – a suburban house formerly rented by sound engineer Mark Whitaker and dubbed \"the Metalli-mansion\" – and relocated to the adjacent cities of Berkeley and Albany before eventually settling in the Marin County city of San Rafael, north of San Francisco.[36][37] In March 1987, Hetfield again broke his wrist while skateboarding, forcing the band to cancel an appearance on Saturday Night Live. In August 1987, an all-covers extended play (EP), titled The $5.98 E.P. - Garage Days Re-Revisited, was released. The EP was recorded in an effort to use the band\\'s newly constructed recording studio, test Newsted\\'s talents, and to relieve grief and stress following the death of Burton. A video titled Cliff \\'Em All commemorating Burton\\'s three years in Metallica was released in 1987; the video included bass solos, home videos and pictures.[38]\\nMetallica performing during its Damaged Justice Tour in 1988\\n\\nMetallica\\'s first studio album since Burton\\'s death, ...And Justice for All, was recorded from January to May 1988 and released in September. The album was a commercial success, reaching number 6 on the Billboard 200, and was the band\\'s first album to enter the top 10.[28] The album was certified Platinum nine weeks after its release.[39] There were complaints about the production, however; Steve Huey of AllMusic said Ulrich\\'s drums were clicking more than thudding, and the guitars \"buzz thinly\".[40] To promote the album, Metallica embarked on a tour called Damaged Justice.[41]\\n\\nIn 1989, Metallica received its first Grammy Award nomination for ...And Justice for All in the new Best Hard Rock/Metal Performance Vocal or Instrument category. Metallica was the favorite to win, but the award was given to Jethro Tull for the album Crest of a Knave.[42] The award was controversial with fans and the press; Metallica was standing off-stage waiting to receive the award after performing the song \"One\". Jethro Tull had been advised by its manager not to attend the ceremony because he was expecting Metallica to win.[42] The award was named in Entertainment Weekly\\'s \"Grammy\\'s 10 Biggest Upsets\" list.[43]\\n\\nFollowing the release of ...And Justice for All, Metallica released its debut music video for the song \"One\", which the band performed in an abandoned warehouse. The footage was remixed with the film Johnny Got His Gun. Rather than organize an ongoing licensing deal, Metallica purchased the rights to the film. The remixed video was submitted to MTV with an alternative, performance-only version that was held back in case MTV banned the remixed version. MTV accepted the remixed version; the video was viewers\\' first exposure to Metallica. In 1999, it was voted number 38 in MTV\\'s \"Top 100 Videos of All Time\" countdown[44] and was featured on the network\\'s 25th-anniversary edition of ADD Video, which showcased the most popular videos on MTV in the last 25 years.[45]\\n\\nIn October 1990, Metallica entered One on One Recording\\'s studio in North Hollywood to record its next album. Bob Rock, who had worked with Aerosmith, The Cult, Bon Jovi and Mötley Crüe, was hired as the producer. Metallica – also known as The Black Album – was remixed three times, cost US$1 million,[46] and ended Hammett and Ulrich\\'s marriages.[citation needed] Although the release was delayed until 1991, Metallica debuted at number one in 10 countries, selling 650,000 units in the U.S. during its first week.[47] The album brought Metallica mainstream attention; it has been certified 16 times Platinum in the U.S., which makes it the 25th-best-selling album in the country.[48] The making of Metallica and the following tour was documented in A Year and a Half in the Life of Metallica. The tour in support of the album, called the Wherever We May Roam Tour, lasted 14 months and included dates in the U.S., Japan and the U.K.[46] In September 1991, 1.6 million rock music fans converged in Moscow to enjoy the first open-air rock concert to be held in the former Soviet Union; it was part of the Monsters of Rock series.[49] However, in a June 2020 interview, Lars estimated the attendance at about a half million during their time slot.[50] In April 1992, Metallica appeared at The Freddie Mercury Tribute Concert and performed a three-song set.[51] Hetfield later performed \"Stone Cold Crazy\" with the remaining members of Queen and Tony Iommi.[51]\\n\\nOn August 8, 1992, during the co-headlining Guns N\\' Roses/Metallica Stadium Tour at the Olympic Stadium in Montreal, Hetfield suffered second- and third-degree burns to his arms, face, hands and legs. There had been some confusion with the new pyrotechnics setup, which resulted in Hetfield walking into a 12-foot (3.7 m) flame during \"Fade to Black\".[52] Newsted said Hetfield\\'s skin was \"bubbling like on The Toxic Avenger\".[53] Metallica returned to the stage 17 days later with guitar technician and Metal Church member John Marshall replacing Hetfield on guitar for the remainder of the tour, although Hetfield was able to sing. Later in 1993, Metallica went on the Nowhere Else to Roam Tour, playing five shows in Mexico City. Live Shit: Binge & Purge, the band\\'s first box set, was released in November 1993. The collection contains three live CDs, three home videos, and a book filled with riders and letters.[53]\\n1994–2001: Load, Reload, Napster controversy and Newsted\\'s departure\\nJames Hetfield performing with the band during its tour for Load in 1996\\n\\nAfter almost three years of touring to promote Metallica, including a headlining performance at Woodstock \\'94, Metallica returned to the studio to write and record its sixth studio album. The band went on a brief hiatus in the summer of 1995 and played a short tour, Escape from the Studio \\'95, which comprised three outdoor shows, including a headline show at Donington Park supported by Slayer, Skid Row, Slash\\'s Snakepit, Therapy? and Corrosion of Conformity. The band spent about a year writing and recording new songs, resulting in the release of Load in 1996. Load debuted at number one on the Billboard 200 and ARIA Charts; it was the band\\'s second number one album.[28] The cover art, Blood and Semen III, was created by Andres Serrano, who pressed a mixture of his own semen and blood between sheets of plexiglass.[54] The release marked another change in the band\\'s musical direction and a new image; the band members\\' hair was cut. Metallica headlined the alternative rock festival Lollapalooza festival in mid-1996.[55][56]\\n\\nDuring early production of the album, the band had recorded enough material to fill a double album. It was decided that half of the songs were to be released; the band would continue to work on the remaining songs and release them the following year. This resulted in follow-up album, titled Reload. The cover art was again created by Serrano, this time using a mixture of blood and urine.[54] Reload, too, debuted at number one on the Billboard 200 and reached number two on the Top Canadian Album chart.[28] Hetfield said in the 2004 documentary film Metallica: Some Kind of Monster that the band initially thought some of the songs on these albums were of average quality; these were \"polished and reworked\" until judged releasable.[57] To promote Reload, Metallica performed \"Fuel\" and \"The Memory Remains\" with Marianne Faithfull on NBC\\'s Saturday Night Live in December 1997.[58]\\n\\nIn 1998, Metallica compiled a double album of cover songs, titled Garage Inc. The first disc contained newly recorded covers of songs by Diamond Head, Killing Joke, the Misfits, Thin Lizzy, Mercyful Fate, Black Sabbath and others, and the second disc featured the original version of The $5.98 E.P. – Garage Days Re-Revisited, which had become a scarce collectors\\' item. The album entered the Billboard 200 at number two.[58][59]\\n\\nOn April 21 and 22, 1999, Metallica recorded two performances with the San Francisco Symphony, which was conducted by Michael Kamen, who had previously worked with producer Rock on \"Nothing Else Matters\". Kamen approached Metallica in 1991 with the idea of pairing the band\\'s music with a symphony orchestra. Kamen and his staff of over 100 composed additional orchestral material for Metallica songs. Metallica wrote two new Kamen-scored songs for the event: \"No Leaf Clover\" and \"-Human\". The audio recording and concert footage were released in 1999 as the album and concert film S&M. It entered the Billboard 200 at number two and the Australian ARIA charts and Top Internet Albums chart at number one.[28]\\n\\nIn 2000, Metallica discovered that a demo of its song \"I Disappear\", which was supposed to be released in combination with the Mission: Impossible II soundtrack, was receiving radio airplay. Tracing the source of the leak, the band found the file on the Napster peer-to-peer file-sharing network and also found that the band\\'s entire catalogue was freely available.[60] Metallica filed a lawsuit at the U.S. District Court, Central District of California, alleging that Napster violated three areas of the law: copyright infringement, unlawful use of digital audio interface device and the Racketeer Influenced and Corrupt Organizations Act (RICO).[61]\\nLars Ulrich led the case against Napster for Metallica.\\n\\nUlrich provided a statement to the Senate Judiciary Committee regarding copyright infringement on July 11, 2000.[60] Federal Judge Marilyn Hall Patel ordered the site to place a filter on the program within 72 hours or be shut down.[62] A settlement between Metallica and Napster was reached when German media conglomerate Bertelsmann BMG showed interest in purchasing the rights to Napster for $94 million. Under the terms of settlement, Napster agreed to block users who shared music by artists who do not want their music shared.[63] On June 3, 2002, Napster filed for Chapter 11 protection under U.S. bankruptcy laws. On September 3, 2002, an American bankruptcy judge blocked the sale of Napster to Bertelsmann and forced Napster to liquidate its assets, according to Chapter 7 of the U.S. bankruptcy laws.[64]\\n\\nAt the 2000 MTV Video Music Awards, Ulrich appeared with host Marlon Wayans in a skit that criticized the idea of using Napster to share music. Wayans played a college student listening to Metallica\\'s \"I Disappear\". Ulrich walked in and asked for an explanation, and he responded to Wayans\\' excuse that using Napster was just \"sharing\" by saying that Wayans\\' idea of sharing was \"borrowing things that were not yours without asking.\" He called in the Metallica road crew, who proceeded to confiscate all of Wayans\\' belongings, leaving him almost naked in an empty room. Napster creator Shawn Fanning responded later in the ceremony by presenting an award wearing a Metallica shirt that read: \"I borrowed this shirt from a friend. Maybe, if I like it, I\\'ll buy one of my own.\" Ulrich was later booed on stage at the award show when he introduced the final musical act, Blink-182.[65][66]\\nLongtime producer Bob Rock recorded bass for St. Anger following Newsted\\'s departure in 2001.\\n\\nNewsted left Metallica on January 17, 2001, just as plans were being made to enter the recording studio. He said he left the band for \"private and personal reasons, and the physical damage I have done to myself over the years while playing the music that I love.\"[67] During a Playboy interview with Metallica, Newsted said he wanted to release an album with his side project, Echobrain. Hetfield was opposed to the idea and said, \"When someone does a side project, it takes away from the strength of Metallica\" and that a side project is \"like cheating on your wife in a way.\"[55] Newsted said Hetfield had recorded vocals for a song used in the film South Park: Bigger, Longer & Uncut, and appeared on two Corrosion of Conformity albums. Hetfield replied: \"My name isn\\'t on those records. And I\\'m not out trying to sell them\" and raised questions such as, \"Where would it end? Does he start touring with it? Does he sell shirts? Is it his band?\"[55]\\n2001–2006: Some Kind of Monster, St. Anger, and Trujillo joins\\n\\nIn April 2001, filmmakers Joe Berlinger and Bruce Sinofsky began following Metallica to document the recording process of the band\\'s next studio album. Over two years they recorded more than 1,000 hours of footage. On July 19, 2001, before preparations to enter the recording studio, Hetfield entered rehab to treat his \"alcoholism and other addictions\". All recording plans were put on hold and the band\\'s future was in doubt.[68] Hetfield left rehab on December 4, 2001,[68] and the band returned to the recording studio on April 12, 2002. Hetfield was required to limit his work to four hours a day between noon and 4 pm, and to spend the rest of his time with his family.[57] The footage recorded by Berlinger and Sinofsky was compiled into the documentary Metallica: Some Kind of Monster, which premiered at the Sundance Film Festival in January 2004. In the documentary, Newsted said his former bandmates\\' decision to hire a therapist to help solve their problems which he felt they could have solved on their own was \"really fucking lame and weak\".[57]\\nRobert Trujillo joined Metallica in 2003 after the recording of St. Anger.\\n\\nIn June 2003, Metallica\\'s eighth studio album, St. Anger, debuted at number one on the Billboard 200, and drew mixed reactions from critics. Ulrich\\'s \"steely\" sounding snare drum and the absence of guitar solos received particular criticism.[69] Kevin Forest Moreau of Shakingthrough.net said, \"the guitars stumble in a monotone of mid-level, processed rattle; the drums don\\'t propel as much as struggle to disguise an all-too-turgid pace; and the rage is both unfocused and leavened with too much narcissistic navel-gazing\".[70] Brent DiCrescenzo of Pitchfork described it as \"an utter mess\".[71] However, Blender magazine called it the \"grimiest and grimmest of the band\\'s Bob Rock productions\", and New York Magazine called it \"utterly raw and rocking\".[72] The title track, \"St. Anger\", won the Grammy Award for Best Metal Performance in 2004; it was used as the official theme song for WWE\\'s SummerSlam 2003.[73]\\n\\nFor the duration of St. Anger\\'s recording period, producer Bob Rock played bass on the album and in several live shows at which Metallica performed during that time.[57] Once the record was completed, the band started to hold auditions for Newsted\\'s permanent replacement. Bassists Pepper Keenan, Jeordie White, Scott Reeder, Eric Avery, Danny Lohner, and Chris Wyse—among others—auditioned for the role. After three months of auditions, Robert Trujillo, formerly of Suicidal Tendencies and Ozzy Osbourne\\'s band, was chosen as the new bassist.[57] Newsted, who had joined Canadian thrash metal band Voivod by that time, was Trujillo\\'s replacement in Osbourne\\'s band during the 2003 Ozzfest tour, which included Voivod.[74]\\n\\nBefore the band\\'s set at the 2004 Download Festival, Ulrich was rushed to the hospital after having an anxiety seizure and was unable to perform.[75] Hetfield searched for last-minute volunteers to replace Ulrich. Slayer drummer Dave Lombardo and Slipknot drummer Joey Jordison volunteered. Lombardo performed \"Battery\" and \"The Four Horsemen\", Ulrich\\'s drum technician Flemming Larsen performed \"Fade to Black\", and Jordison performed the remainder of the set.[76] Having toured for two years in support of St. Anger on the Summer Sanitarium Tour 2003 and the Madly in Anger with the World Tour, with multi-platinum rock band Godsmack in support, Metallica took a break from performing and spent most of 2005 with friends and family. The band opened for The Rolling Stones at SBC Park in San Francisco on November 13 and 15, 2005.[77]\\n2006–2013: Death Magnetic and Rock and Roll Hall of Fame induction\\n\\nIn February 2006, Metallica announced on its official website that after 15 years, long-time producer Bob Rock would not be producing the band\\'s next studio album. Instead, the band chose to work with producer Rick Rubin.[78] Around the same time, a petition signed by 1,500 fans was posted online in an attempt to encourage the band to prohibit Rock from producing Metallica albums, saying he had too much influence on the band\\'s sound and musical direction. Rock said the petition hurt his children\\'s feelings; he said, \"sometimes, even with a great coach, a team keeps losing. You have to get new blood in there.\"[79]\\n\\nIn December 2006, Metallica released a DVD titled The Videos 1989–2004, which sold 28,000 copies in its first week and entered the Billboard Top Videos chart at number three.[80] Metallica recorded a guitar-based interpretation of Ennio Morricone\\'s \"The Ecstasy of Gold\" for a tribute album titled We All Love Ennio Morricone, which was released in February 2007. The track received a Grammy nomination at the 50th Grammy Awards for the category \"Best Rock Instrumental Performance\".[81] A recording of \"The Ecstasy of Gold\" has been played to introduce Metallica\\'s performances since the 1980s.[82]\\nMetallica performing in London in 2008\\n\\nMetallica scheduled the release of the album Death Magnetic as September 12, 2008, and the band filmed a music video for the album\\'s first single, \"The Day That Never Comes\". On September 2, 2008, a record store in France began selling copies of Death Magnetic nearly two weeks before its scheduled worldwide release date,[83] which resulted in the album being made available on peer-to-peer clients. This prompted the band\\'s UK distributor Vertigo Records to officially release the album on September 10, 2008. Rumors of Metallica or Warner Bros. taking legal action against the French retailer were unconfirmed, though drummer Lars Ulrich responded to the leak by saying, \"...We\\'re ten days from release. I mean, from here, we\\'re golden. If this thing leaks all over the world today or tomorrow, happy days. Happy days. Trust me\",[84] and, \"By 2008 standards, that\\'s a victory. If you\\'d told me six months ago that our record wouldn\\'t leak until 10 days out, I would have signed up for that.\"[85]\\n\\nDeath Magnetic debuted at number one in the U.S., selling 490,000 units; Metallica became the first band to have five consecutive studio albums debut at number one in the history of the Billboard 200.[86] A week after its release, Death Magnetic remained at number one on the Billboard 200 and the European album chart; it also became the fastest selling album of 2008 in Australia.[87] Death Magnetic remained at number one on the Billboard 200 album chart for three consecutive weeks. Metallica was one of two artists whose album—the other being Jack Johnson\\'s album Sleep Through the Static—remained on the Billboard 200 for three consecutive weeks at number one in 2008. Death Magnetic also remained at number one on Billboard\\'s Hard Rock, Modern Rock/Alternative and Rock album charts for five consecutive weeks. The album reached number one in 32 countries outside the U.S., including the UK, Canada, and Australia.[88][89] In November 2008, Metallica\\'s record deal with Warner Bros. ended and the band considered releasing its next album through the internet.[90][91]\\n\\nOn January 14, 2009, it was announced that Metallica would be inducted into the Rock and Roll Hall of Fame on April 4, 2009,[92] and that former bassist Jason Newsted—who left the band in 2001—would perform with the band at the ceremony.[93] Initially, it was announced that the matter had been discussed and that bassist Trujillo had agreed not to play because he \"wanted to see the Black Album band\".[94] However, during the band\\'s set of \"Master of Puppets\" and \"Enter Sandman\", both Trujillo and Newsted were on stage.[95] Ray Burton, father of the late Cliff Burton, accepted the honor on his behalf. Although he was not to be inducted with them, Metallica invited Dave Mustaine to take part in the induction ceremony. Mustaine declined because of his touring commitments in Europe.[96]\\nMetallica performing in London in 2009\\n\\nMetallica, Slayer, Megadeth, and Anthrax performed on the same bill for the first time on June 16, 2010, at Warsaw Babice Airport, Poland, as a part of the Sonisphere Festival series. The show in Sofia, Bulgaria, on June 22, 2010, was broadcast via satellite to cinemas.[97] The bands also played concerts in Bucharest on June 26, 2010, and Istanbul on June 27, 2010. On June 28, 2010, Death Magnetic was certified double platinum by the RIAA.[98] Metallica\\'s World Magnetic Tour ended in Melbourne on November 21, 2010. The band had been touring for more than two years in support of Death Magnetic. To accompany the final tour dates in Australia and New Zealand, a live, limited edition EP of past performances in Australia called Six Feet Down Under was released.[99] The EP was followed by Six Feet Down Under (Part II), which was released on November 12, 2010.[100] Part 2 contains a further eight songs recorded during the first two Oceanic Legs of the World Magnetic Tour. On November 26, 2010, Metallica released a live EP titled Live at Grimey\\'s, which was recorded in June 2008 at Grimey\\'s Record Store, just before the band\\'s appearance at Bonnaroo Music Festival that year.[101][102]\\n\\nIn a June 2009 interview with Italy\\'s Rock TV, Ulrich said Metallica was planning to continue touring until August 2010, and that there were no plans for a tenth album. He said he was sure the band would collaborate with producer Rick Rubin again.[103] According to Blabbermouth.net, the band was considering recording its next album in the second half of 2011.[104] In November 2010, during an interview with The Pulse of Radio, Ulrich said Metallica would return to writing in 2011. Ulrich said, \"There\\'s a bunch of balls in the air for 2011, but I think the main one is we really want to get back to writing again. We haven\\'t really written since, what, \\'06, \\'07, and we want to get back to kind of just being creative again. Right now we are going to just chill out and then probably start up again in, I\\'d say, March or April, and start probably putting the creative cap back on and start writing some songs.\"[105]\\nMetallica performing in Sacramento in 2009\\n\\nOn November 9, 2010, Metallica announced it would be headlining the Rock in Rio festival in Rio de Janeiro on September 25, 2011.[106][107] On December 13, 2010, the band announced it would again play as part of the \"big four\" during the Sonisphere Festival at Knebworth House, Hertfordshire, on July 8, 2011. It was the first time all of the \"big four\" members played on the same stage in the UK.[108] On December 17, 2010, Another \"big four\" Sonisphere performance that would take place in France on July 9 was announced.[109] On January 25, 2011, another \"big four\" performance on April 23, 2011, at the Empire Polo Club in Indio, California, was announced. It was the first time all of the \"big four\" members played on the same stage in the U.S.[110] On February 17, 2011, a show in Gelsenkirchen, Germany, on July 2, 2011, was announced.[111] On February 22, a \"big four\" show in Milan on July 6, 2011, was announced.[112] On March 2, 2011, another \"big four\" concert, which took place in Gothenburg on July 3, 2011, was announced.[113] The final \"big four\" concert was in New York City, at Yankee Stadium, on September 14, 2011.[114]\\n\\nIn an interview at the April 2011 Big Four concert, Robert Trujillo said Metallica will work with Rick Rubin again as producer for the new album and were \"really excited to write some new music. There\\'s no shortage of riffage in Metallica world right now.\" He added, \"The first album with Rick was also the first album for me, so in a lot of ways, you\\'re kind of testing the water. Now that we\\'re comfortable with Rick and his incredible engineer, Greg Fidelman, who worked with Slayer, actually, on this last record—it\\'s my hero—it\\'s a great team. And it\\'s only gonna better; I really believe that. So I\\'m super-excited.\"[115] In June 2011, Rubin said Metallica had begun writing its new album.[116]\\n\\nOn June 15, 2011, Metallica announced that recording sessions with singer-songwriter Lou Reed had concluded. The album, which was titled Lulu, was recorded over several months and comprised ten songs[117] based on Frank Wedekind\\'s \"Lulu\" plays Earth Spirit and Pandora\\'s Box.[118] The album was released on October 31, 2011. The recording of the album was problematic at times; Lars Ulrich later said Lou Reed challenged him to a \"street fight\".[119] On October 16, 2011, Robert Trujillo confirmed that the band was back in the studio and writing new material. He said, \"The writing process for the new Metallica album has begun. We\\'ve been in the studio with Rick Rubin, working on a couple of things, and we\\'re going to be recording during the most of next year.\"[120]\\nMetallica performing in Bangalore in 2011\\n\\nMetallica was due to make its first appearance in India at the \"India Rocks\" concert, supporting the 2011 Indian Grand Prix.[121] However, the concert was canceled when the venue was proven to be unsafe.[122] Fans raided the stage during the event and the organizers were later arrested for fraud.[123] Metallica made its Indian debut in Bangalore on October 30, 2011.[124][125] On November 10, it was announced that Metallica would headline the main stage on Saturday June 9, 2012, at the Download Festival at Donington Park and that the band would play The Black Album in its entirety.[126] Metallica celebrated its 30th anniversary by playing four shows at the Fillmore in San Francisco in December 2011. The shows were exclusive to Met Club members and tickets were charged at $6 each or $19.81 for all four nights. The shows consisted of songs from the band\\'s career and featured guest appearances by artists who had either helped or had influenced Metallica. These shows were notable because Lloyd Grant, Dave Mustaine, Jason Newsted, Glenn Danzig, Ozzy Osbourne, Jerry Cantrell, Apocalyptica, members of Diamond Head, and King Diamond joined Metallica on stage for all appropriate songs.[127][128] In December 2011, Metallica began releasing songs that were written for Death Magnetic but were not included on the album online.[129] On December 13, 2011, the band released Beyond Magnetic, a digital EP release exclusively on iTunes.[130] It was released on CD in January 2012.[131]\\n\\nOn February 7, 2012, Metallica announced that it would start a new music festival called Orion Music + More, which took place on June 23 and 24, 2012, in Atlantic City. Metallica also confirmed that it would headline the festival on both days and would perform two of its most critically acclaimed albums in their entirety: The Black Album on one night, and Ride the Lightning on the other.[132] In a July 2012 interview with Canadian radio station 99.3 The Fox, Ulrich said Metallica would not release its new album until at least early 2014.[133]\\n\\nIn November 2012, Metallica left Warner Bros. Records and launched an independent record label, Blackened Recordings, which will produce the band\\'s future releases.[134][135] The band acquired the rights to all of its studio albums, which were all reissued through the new label. Blackened releases were licensed through Warner subsidiary Rhino Entertainment in North America and internationally through Universal Music.[136][137] On September 20, 2012, Metallica announced via its official website that a new DVD containing footage of shows it performed in Quebec in 2009 would be released that December; fans would get the chance to vote for two setlists that would appear on the DVD.[138] The film, titled Quebec Magnetic, was released in the U.S. on December 10, 2012.[139]\\n2013–2019: Metallica: Through the Never and Hardwired... to Self-Destruct\\nMetallica at the San Diego Comic-Con International in 2013\\n\\nIn an interview with Classic Rock on January 8, 2013, Ulrich said regarding the band\\'s upcoming album, \"What we\\'re doing now certainly sounds like a continuation [of Death Magnetic]\". He also said, \"I love Rick [Rubin]. We all love Rick. We\\'re in touch with Rick constantly. We\\'ll see where it goes. It would stun me if the record came out in 2013.\"[140] Also in 2013, the band starred in a 3D concert film titled Metallica: Through the Never, which was directed by Antal Nimród and was released in IMAX theaters on September 27.[141]\\n\\nIn an interview dated July 22, 2013, Ulrich told Ultimate Guitar, \"2014 will be all about making a new Metallica record\"; he said the album will most likely be released during 2015.[142] Kirk Hammett and Robert Trujillo later confirmed the band\\'s intention to enter the studio.[143] At the second Orion Music + More festival held in Detroit, the band played under the name \"Dehaan\"—a reference to actor Dane DeHaan, who starred in Metallica: Through the Never.[144] The band performed its debut album Kill \\'Em All in its entirety, celebrating the 30th anniversary of its release.[145]\\n\\nOn December 8, 2013, the band played a show called \"Freeze \\'Em All\" in Antarctica, becoming the first band to play on all seven continents.[146] The performance was filmed and released as a live album the same month.[147]\\n\\nAt the 56th Annual Grammy Awards in January 2014, Metallica performed \"One\" with Chinese pianist Lang Lang.[148] In March 2014, Metallica began a tour called \"Metallica By Request\", in which fans request songs for the band to perform.[149] A new song, titled \"Lords of Summer\" was written for the concerts and released as a \"first take\" demo in June 2014.[150] In June 2014, the band headlined the Glastonbury Festival in an attempt to attract new fans. Ulrich said, \"We have one shot, you never know if you\\'ll be invited back\".[151] In November 2014, Metallica performed at the closing ceremony of BlizzCon 2014.[152] In January 2015, Metallica announced a \"Metallica Night\" with the San Jose Sharks, which featured a Q&A session with the band and a charity auction benefiting the San Francisco Bay Chapter of the Sierra Club, but no performances.[153] They were announced to headline Lollapalooza in March 2015, returning to perform there for the first time in 20 years.[154] On May 2, 2015, Metallica performed their third annual Metallica Day at AT&T Park.[155] Metallica were also announced to play at X Games for the first time at X Games Austin 2015 in Austin, Texas.[156] On June 14, 2015, Hetfield and Hammett performed The Star-Spangled Banner live via electric guitars prior to game 5 of the NBA Finals between the Cleveland Cavaliers and Golden State Warriors at Oracle Arena in Oakland, California.[157][158][159] In late October, the band unveiled a new website with an introduction from Ulrich containing footage from the studio of the band working on new material.[160] On November 2, Metallica were announced to play \"The Night Before\" Super Bowl 50 at AT&T Park.[161] Metallica announced they would be opening the U.S. Bank Stadium on August 20, 2016, with Avenged Sevenfold and Volbeat as support.\\nMetallica performing in London in 2017\\n\\nIn April 2016, during the week leading up to Record Store Day, for which the band was its ambassador for 2016, Ulrich told Billboard that the band\\'s expanded role within the music industry had played a part in the amount of time that it had taken to write and record the album. \"The way we do things now is very different than the way we did things back in the days of Kill \\'Em All and Ride the Lightning. Nowadays we like to do so many different things.\" Ulrich was also optimistic that production of the album had almost reached its completion. \"Unless something radical happens it would be difficult for me to believe that it won\\'t come out in 2016\".[162] On August 18, 2016, the band announced via their website that their tenth studio album, Hardwired... to Self-Destruct, would be released worldwide on November 18, 2016, via their independent label, Blackened Recordings. They also unveiled the track listing, album artwork, and released a music video for the album\\'s first single, \"Hardwired\".[163] The album was released as scheduled[164] and debuted at number one on the Billboard 200.[165]\\n\\nMetallica announced they would be touring the US and Canada in summer of 2017 for the WorldWired Tour. The stadium tour also includes Avenged Sevenfold, Volbeat and Gojira as supporting acts.[166] On August 7, 2017, Metallica was invited by the San Francisco Giants again for the fifth annual \"Metallica Night\" with Hammett and Hetfield performing the national anthem.[167] In January 2018, the band announced that they would be reissuing The $5.98 E.P. – Garage Days Re-Revisited on April 13 for Record Store Day,[168] and the sixth annual \"Metallica Night\" was also announced a few weeks later, this time in April, with all proceeds going to the All Within My Hands Foundation, which the band created in late 2017.[169] In February 2018, the band announced a second set of North American tour dates, most of which for cities that they had not visited in up to thirty years.[170]\\n2019–present: Further activity and 72 Seasons\\nMetallica performing in Milan in 2019\\n\\nIn an interview with Australian magazine The Music\\'s official podcast in March 2019, Trujillo said that Metallica had begun jamming on new material for its next studio album. \"I\\'m excited about the next record because I believe it will also be a culmination of the two [previous] records and another journey. There\\'s no shortage of original ideas, that\\'s the beauty of being in this band.\" He estimated that the album would be released \"a lot sooner than the previous two did... this time around I think we\\'ll be able to jump on it a lot quicker and jump in the studio and start working. We\\'ve all vowed to get this one going sooner than later.\"[171] In an interview with Australian magazine Mixdown the following month, Hammett said that the band had tentative plans to enter the studio after the conclusion of its WorldWired Tour. He stated, \"We\\'re in our third year since Hardwired. Maybe we can get a bit more focus and go into the studio a bit sooner.\" After not contributing any writing to Hardwired... to Self-Destruct, Hammett said regarding his ideas for the new album, \"I have a ton of material. I\\'ve over-compensated, so I\\'m ready to go anytime.\"[172]\\n\\nIn March 2019, Metallica announced that its WorldWired Tour would continue into Australia and New Zealand in October with Slipknot in support.[173][174] Later that month, the band announced that it would perform at the grand opening of San Francisco\\'s new Chase Center with the San Francisco Symphony in September to celebrate the twenty-year anniversary of S&M.[175] The commemorative shows, titled S&M2, were screened in more than 3,000 theaters worldwide on October 9;[176][177] the event featured arrangements from the original S&M concerts as well as new arrangements for songs recorded since then[176][177] and a cover of the Alexander Mosolov piece Iron Foundry,[178] and were conducted by Edwin Outwater and San Francisco Symphony music director Michael Tilson Thomas.[179] S&M2 went on to earn $5.5 million at the box office, making it the biggest global rock event cinema release of all time; a second screening was later announced for October 30 as a result.[180][181][182] In August 2020, the band announced that they would release the S&M2 performances as an album, DVD and box set.[183][184]\\n\\nIn July 2019, Metallica announced a set of South American tour dates for April 2020 with Greta Van Fleet in support.[185][186] In September, ahead of that year\\'s Global Citizen Festival, it was announced that Metallica would perform at the following year\\'s festival in September 2020 alongside artists such as Billie Eilish, Miley Cyrus and Coldplay, in what would be the final event of Global Poverty Project\\'s year-long Global Goal Live: The Possible Dream campaign.[187] The following day, on September 27, Metallica announced that Hetfield had re-entered a rehabilitation program and that its Australia/New Zealand tour would be postponed.[188][189][190] In a statement by Ulrich, Hammett and Trujillo, the band spoke of the devastation of the news, saying that Hetfield \"[had] been struggling with addiction on and off for many years\" and that all tickets would be fully refunded.[188][189][190] Ulrich later added that Hetfield was \"in the process of healing himself\", and that the band hoped to return to Australia and New Zealand in 2020.[191] The band\\'s other commitments, including a benefit concert in March 2020, were still expected to continue as planned;[188] a further five US festival appearances were announced in October.[192] These shows were later postponed or cancelled due to the COVID-19 pandemic and to support Hetfield\\'s recovery.[193][194]\\n\\nIn March 2020, the band began a series on YouTube and Facebook called #MetallicaMondays, where they streamed full archived shows every Monday to relieve boredom while staying home and social distancing amid the pandemic.[195][196] In May 2020, while in quarantine, Metallica performed a virtual acoustic version of \"Blackened\",[197] titled \"Blackened 2020\", which was later made available for download.[198]\\n\\nIn an interview with Marc Benioff in April 2020, Ulrich stated that Metallica could work on its next studio album while in quarantine.[199] Trujillo told The Vinyl Guide in June that the band was \"excited about cultivating new ideas\" for its new album. \"We communicate every week, which is really great, so we have our connection intact [...] what we\\'ve started doing is basically just really concentrating on our home studios and being creative from our homes and navigating through ideas and building on new ideas. And that\\'s where we\\'re at right now\". He also said that the band was working towards eventually entering a studio to record the album.[200]\\n\\nOn August 10, 2020, Metallica played a show at Gundlach-Bundschu Winery in Sonoma, California, which was only attended by a few crew members, and it was recorded and played for drive-in movies across the U.S. and Canada on August 29.[201]\\n\\nIn May 2021, the band announced that they would do one more #MetallicaMondays on May 24 to benefit their All Within My Hands Foundation.[202] The concert dates to September 6, 2018, in Lincoln, Nebraska.[202] On Labor Day, September 6, 2021, the band\\'s All Within My Hands Foundation raised $377,450. Metallica teamed up with workwear brand Carhartt on the initiative, with the clothing brand donating all of their sales proceeds on the holiday to the band\\'s Metallica Scholars initiative, which provides opportunities to people interested in pursuing essential workforce jobs.[203]\\n\\nOn November 28, 2022, the band released the single \"Lux Æterna\".[204][205] On January 19, 2023, Metallica released the second single titled \"Screaming Suicide\".[206][207] On March 1, 2023, Metallica released the third single titled \"If Darkness Had a Son\".[208][209] On March 30, 2023, Metallica released a music video for the album\\'s title track, \"72 Seasons\".[210][211] The band released their eleventh studio album 72 Seasons on April 14, 2023.[212]\\nStyle and lyrical themes\\n\"Damage Inc.\" (1986)\\nDuration: 30 seconds.0:30\\n\"Damage Inc.\" (Master of Puppets), demonstrating Metallica\\'s fast tempo, and aggressive musicianship featured in early releases\\n\"Sad but True\" (1991)\\nDuration: 31 seconds.0:31\\n\"Sad but True\" (Metallica); Robert Palmer of Rolling Stone believed the band abandoned fast tempos to expand its music and expressive range in 1991\\n\"Purify\" (2003)\\nDuration: 29 seconds.0:29\\n\"Purify\" (St. Anger), demonstrating Metallica\\'s new musical approach with no guitar solos, a \"raw, unpolished\" sound, and Ulrich\\'s snare drum\\nProblems playing these files? See media help.\\n\\nMetallica\\'s sound has been described as heavy metal,[213][214][215][216][217] thrash metal,[213][216][217] speed metal,[213][217][218] and hard rock.[213] Metallica was influenced by early heavy metal and hard rock bands and artists Black Sabbath, Deep Purple, Kiss, Led Zeppelin, Queen, Ted Nugent, AC/DC, Rush, Aerosmith, and Judas Priest[219] and by new wave of British heavy metal (NWOBHM) bands Raven,[220] Venom, Motörhead, Saxon, Diamond Head, Blitzkrieg, and Iron Maiden as well as European bands Scorpions,[219] Accept,[221] and Mercyful Fate.[222] Early punk rock bands Ramones, Sex Pistols, and the Misfits also influenced Metallica\\'s style as did post-punk band Killing Joke[223] and hardcore punk acts Discharge,[224] GBH,[225] and Suicidal Tendencies.[226] Lars Ulrich has cited Iron Maiden as probably the biggest influence on Metallica\\'s career.[227] The band\\'s early releases contained fast tempos, harmonized leads, and nine-minute instrumental tracks. Steve Huey of AllMusic said Ride the Lightning featured \"extended, progressive epics; tight, concise groove-rockers\".[228] He also said Metallica expanded its compositional technique and range of expression to take on a more aggressive approach in following releases, and lyrics dealt with personal and socially conscious issues.[228] Religious and military leaders, rage, insanity, monsters, and drugs—among other themes—were explored on Master of Puppets.[229]\\n\\nIn 1991, Huey said Metallica with new producer Bob Rock simplified and streamlined its music for a more commercial approach to appeal to mainstream audiences.[230] Robert Palmer of Rolling Stone said the band abandoned its aggressive, fast tempos to expand its music and expressive range.[231] The change in direction proved commercially successful; Metallica was the band\\'s first album to peak at number one on the Billboard 200. Metallica noticed changes to the rock scene created by the grunge movement of the early-1990s. In Load—an album that has been described as having \"an almost alternative rock\" approach—the band changed musical direction again and focused on non-metal influences.[232] Metallica\\'s new lyrical approach moved away from drugs and monsters, and focused on anger, loss, and retribution. Some fans and critics were not pleased with this change, which included haircuts, the cover art of Load, and headlining the Lollapalooza festival of 1996.[56] David Fricke of Rolling Stone described the move as \"goodbye to the moldy stricture and dead-end Puritanism of no-frills thrash\", and called Load the heaviest record of 1996.[56] With the release of ReLoad in 1997, the band displayed blues and early hard rock influences, incorporating more rhythm and harmony in song structures.[232]\\n\\nSt. Anger marked another large change in the band\\'s sound. Guitar solos were excluded from the album, leaving a \"raw and unpolished sound\".[72] The band used drop C tuning; Ulrich\\'s snare drum received particular criticism. New York Magazine\\'s Ethan Brown said it \"reverberates with a thwong\". The album\\'s lyrics deal with Hetfield\\'s drug rehabilitation and include references to the devil, anti-drug themes, claustrophobia, impending doom, and religious hypocrisy.[233][234] At the advice of producer Rick Rubin, for its ninth studio album Death Magnetic, the band returned to standard tuning and guitar solos.[235] As a return to Metallica\\'s thrash roots, Death Magnetic was a riff-oriented album featuring intense guitar solos and subtle lyrics about suicide and redemption.[236]\\nAll Within My Hands Foundation\\n\\nIn February 2017, Metallica launched All Within My Hands Foundation, \"dedicated to creating sustainable communities by supporting workforce education, the fight against hunger, and other critical local services\". For example, the group works with various selected charities to organize volunteer projects at food banks. It also works with workforce training institutions on its Metallica Scholars grant program to help chosen students learn new trade skills.[237] The Foundation has also donated and further raised funds for World Central Kitchen\\'s Ukraine war relief efforts[238][239] and granted $200,000 for relief efforts after the destructive August 2023 Maui, Hawaii fire.[240] The band has also performed fundraising concerts for the Foundation.[241]\\nLegacy and influence\\n\\nMetallica has become one of the most influential heavy metal bands of all time and is credited as one of the \"big four\" of thrash metal, along with Slayer, Anthrax, and Megadeth.[242] The band has sold more than 125 million records worldwide,[3] including an RIAA-certified 66 million and Nielsen SoundScan-reported 58,000,000 in the US, making Metallica one of the most commercially successful bands of all time.[243][244] The writers of The Rolling Stone Encyclopedia of Rock & Roll said Metallica gave heavy metal \"a much-needed charge\".[245] Stephen Thomas Erlewine and Greg Prato of Allmusic said Metallica \"expanded the limits of thrash, using speed and volume not for their own sake, but to enhance their intricately structured compositions\", and called the band \"easily the best, most influential heavy metal band of the \\'80s, responsible for bringing the music back to Earth\".[246]\\n\\nJonathan Davis of Korn said he respects Metallica as his favorite band; he said, \"I love that they\\'ve done things their own way and they\\'ve persevered over the years and they\\'re still relevant to this day. I think they\\'re one of the greatest bands ever.\"[247] Godsmack drummer Shannon Larkin said Metallica has been the biggest influence on the band, stating, \"they really changed my life when I was 16 years old—I\\'d never heard anything that heavy\".[248] Chuck Billy of Testament has also cited Metallica as an influence on the band, as well as Hetfield as \"an inspiration with clever lyrics\"; he added, \"When I first started hearing Metallica it was something new to me the way his cadence of vocal styles sang to the music.\"[249][250] Vocalist and guitarist Robb Flynn of Machine Head said that when creating the band\\'s 2007 album, The Blackening, \"What we mean is an album that has the power, influence and epic grandeur of that album Master of Puppets—and the staying power—a timeless record like that\".[251] Gojira lead guitarist Christian Andreu said it was while listening to Ride the Lightning that he started making music; saying \"we find on the album \\'Fade to Black\\', \\'For Whom the Bell Tolls\\', emblematic pieces\".[252] Trivium guitarists Corey Beaulieu and Matt Heafy said that when they heard Metallica they wanted to start playing guitar.[253][254] M. Shadows of Avenged Sevenfold said touring with Metallica was the band\\'s career highlight, and said, \"Selling tons of records and playing huge shows will never compare to meeting your idols Metallica\".[255] God Forbid guitarists Doc and Dallas Coyle were inspired by Metallica as they grew up, and the band\\'s bassist John Outcalt admires Burton as a \"rocker\".[256] Ill Niño drummer Dave Chavarri said he finds early Metallica releases are \"heavy, raw, rebellious. It said, \\'fuck you\\'\",[257] and Adema drummer Kris Kohls said the band is influenced by Metallica.[258]\\n\\nOn April 4, 2009, Metallica were inducted into the Rock And Roll Hall Of Fame. They entered the Rock and Roll Hall of Fame the second year they were eligible and first year they were nominated. Metallica\\'s induction into the Hall included its current lineup, James Hetfield, Kirk Hammett, Robert Trujillo, and Lars Ulrich, and former members Jason Newsted and Cliff Burton.[259]\\n\\nMTV ranked Metallica the third \"Greatest Heavy Metal Band in History\".[247] Metallica was ranked 42nd on VH1\\'s \"100 Greatest Artists of All Time\",[260] was listed fifth on VH1\\'s \"100 Greatest Artists of Hard Rock\",[261] and the band was number one on VH1\\'s \"20 Greatest Metal Bands\" list.[262] Rolling Stone placed the band 61st on its list of \"The 100 Greatest Artists of All Time\";[263] its albums Master of Puppets and Metallica were ranked at numbers 167 and 252 respectively on the magazine\\'s list of The 500 Greatest Albums of All Time.[264] Master of Puppets was named in Q Magazine\\'s \"50 Heaviest Albums of All Time\",[265] and was ranked number one on IGN\\'s \"Top 25 Metal Albums\",[266] and number one on Metal-rules.com\\'s \"Top 100 Heavy Metal Albums\" list.[267] \"Enter Sandman\" was ranked number 399 on Rolling Stone\\'s \"500 Greatest Songs of All Time\".[268]\\n\\nKerrang! released a tribute album titled Master of Puppets: Remastered with the April 8, 2006, edition of the magazine to celebrate the 20th anniversary of Master of Puppets. The album featured cover versions of Metallica songs by Machine Head, Bullet for My Valentine, Chimaira, Mastodon, Mendeed, and Trivium—all of which are influenced by Metallica. At least 15 Metallica tribute albums have been released. On September 10, 2006, Metallica guest starred on The Simpsons\\' eighteenth-season premiere, \"The Mook, the Chef, the Wife and Her Homer\".[269] Hammett\\'s and Hetfield\\'s voices were used in three episodes of the animated television series Metalocalypse.[270] Finnish cello metal band Apocalyptica released a tribute album titled Plays Metallica by Four Cellos, which features eight Metallica songs played on cellos. A parody band named Beatallica plays music using a combination of The Beatles and Metallica songs. Beatallica faced legal troubles when Sony, which owns The Beatles\\' catalog, issued a cease and desist order, claiming \"substantial and irreparable injury\" and ordering the group to pay damages. Ulrich, a fan of Beatallica, asked Metallica\\'s lawyer Peter Paterno to help settle the case.[271]\\n\\nOn March 7, 1999, Metallica was inducted into the San Francisco Walk of Fame. The mayor of San Francisco, Willie Brown, proclaimed the day \"Official Metallica Day\".[272] The band was awarded the MTV Icon award in 2003, and a concert paying tribute to the band with artists performing its songs was held. Performances included Sum 41 and a medley of \"For Whom the Bell Tolls\", \"Enter Sandman\", and \"Master of Puppets\". Staind covered \"Nothing Else Matters\", Avril Lavigne played \"Fuel\", hip-hop artist Snoop Dogg performed \"Sad but True\", Korn played \"One\", and Limp Bizkit performed \"Welcome Home (Sanitarium)\".[273]\\n\\nThe Guitar Hero video game series included several of Metallica\\'s songs. \"One\" was used in Guitar Hero III. The album Death Magnetic was later released as purchasable, downloadable content for the game. \"Trapped Under Ice\" was featured in the sequel, Guitar Hero World Tour. In 2009, Metallica collaborated with the game\\'s developers to make Guitar Hero: Metallica, which included a number of Metallica\\'s songs. Harmonix\\' video game series Rock Band included \"Enter Sandman\" and \"Battery\"; \"Ride the Lightning\", \"Blackened\", and \"...And Justice for All\" were released as downloadable tracks. In 2013, due to expiring content licenses, \"Ride the Lightning\", \"Blackened\", and \"...And Justice for All\" are no longer available for download.[274]\\n\\nIn October 2020, Miley Cyrus announced that she was planning on recording a Metallica covers album and on January 7, 2021, she announced that she has recorded a cover version of \"Nothing Else Matters\" that would feature Elton John on piano, drummer Chad Smith from Red Hot Chili Peppers and cellist Yo-Yo Ma. The song was produced by Andrew Watt.[275]\\nFeuds\\nDave Mustaine/Megadeth\\n\\nFormer lead guitarist and Megadeth frontman Dave Mustaine has been involved in a historic feud with Metallica. During his time as a founding member during the first two years of the band, Mustaine\\'s tenure was marred by his alcoholism and even a physical altercation with James Hetfield.[276] Mustaine continued to make numerous inflammatory statements against his former band in the press due to buried tension primarily stemming from his firing in 1983 among other issues such as existing songwriting credits across Metallica\\'s first three albums.[277][278] By the late 1980s, it was believed that the feud had largely subsided; later confirmed after Megadeth were hired to open for Metallica on numerous European dates in 1993.[279] Despite this; Mustaine expressed his anger at Metallica during his appearance in the band\\'s documentary Metallica: Some Kind of Monster,[280] in a scene he later disapproved of as he felt he was mischaracterized, and that it did not represent the full extent of what happened during the meeting.[281] The two bands would again find themselves on friendlier terms in 2011 when both bands took part in the lauded \\'Big 4 Tour\\' which also included Slayer and Anthrax.[282] That same year, Mustaine took part in Metallica\\'s exclusive 30th anniversary show in San Francisco which invited other former members Ron McGovney, Lloyd Grant, and Jason Newsted.[283]\\nMötley Crüe\\n\\nOften clashing during the early 1980s, both bands were fighting for dominance in the Los Angeles rock scene during Metallica\\'s primitive years prior to their relocation to the Bay Area. Both James Hetfield and Lars Ulrich expressed their hatred of the hair metal scene in Los Angeles during the time and frequently attacked multiple up-and-coming local bands in multiple interviews, including Mötley Crüe.[284] Ulrich and Sixx had allegedly been involved in a spat prior to a show at the Troubadour in Hollywood in 1982. Then-lead guitarist Dave Mustaine insulted Mötley Crüe during a 1983 interview, claiming Crüe and glam metal were an abbreviation for \"Gay LA Music\".[285] Though despite their public disdain for glam metal, Metallica were impressed by the production and commercial success of Dr. Feelgood in 1989, later hiring the album\\'s producer Bob Rock to produce their self-titled fifth album in 1991. Several years later; both Sixx and Ulrich would reignite the feud after Ulrich accused Mötley Crüe of performing to a backing track at the 1997 American Music Awards. Sixx responded via an online forum in which he insulted numerous band members and also attacked Metallica\\'s then-recent album Load.[286][287] Despite this, Sixx would praise Metallica\\'s then-latest album St. Anger during a 2003 interview, contrary to the negative attention it received upon release.[288] In 2006, both Tommy Lee and former bassist Jason Newsted took part in a reality show entitled Rock Star: Supernova as they would both participate in creating a supergroup while the show\\'s premise revolved around finding a frontman via contest. During a 2011 meet-and-greet in Mexico City, Hetfield was approached by a fan attacking Mötley Crüe due to their public image and frequent appearances in tabloids. Hetfield refused to directly respond to the fan\\'s comments towards Mötley Crüe but laughed in his insults toward the band.[289] In 2015, drummer Tommy Lee reignited the feud when he tweeted a picture of Ulrich with the words \"Straight Outta Tempo\" superimposed over his face. Following the post by Lee, singer Vince Neil had stated online that he was unaware of the feud with Metallica; however, during a later interview with an Oregon radio show, Neil was again asked about the band\\'s current relationship with Metallica and hung up on the show\\'s host.[290] Things were alleged to have calmed down by 2017, when Hetfield appeared on Sixx\\'s radio show \\'Sixx Sense\\'.[291] During an interview in 2021, Sixx applauded Metallica\\'s longevity and praised several of their releases during an interview.[292]\\nJason Newsted\\n\\nFollowing his hiring in 1986, former bassist Jason Newsted had regularly experienced incidents of hazing and a perceived lack of acceptance from his bandmates despite his strong efforts in a majority of the band\\'s live performances.[293] Many fans and outlets cite the band\\'s fourth album\\'s unusual mixing to drown the bass tracks as a possible effort by Hetfield and Ulrich to minimize Newsted\\'s involvement.[294][295] This sentiment was further exacerbated by the fact that Newsted was only given songwriting credits on three songs during his 14-year span in the band which also saw him perform on four studio albums.[296] Tensions between Hetfield and Newsted reached a breaking point in 2000 after Hetfield repeatedly blocked Newsted\\'s request to venture into his side project Echobrain.[297][298] Discussions broke down and Newsted abruptly left the band in January 2001 prior to the recording of St. Anger.[299] Despite Newsted\\'s animosity surrounding his decision, he was later inducted into the hall of fame as a member of the band in 2009 and also appeared at the band\\'s 30th anniversary show in San Francisco in 2011.\\nBand members\\n\\nCurrent members\\n\\n    James Hetfield – lead vocals, rhythm guitar (1981–present)\\n    Kirk Hammett – lead guitar, backing vocals (1983–present)\\n    Robert Trujillo – bass, backing vocals (2003–present)\\n    Lars Ulrich – drums (1981–present)\\n\\nSession/touring musicians\\n\\n    Bob Rock – bass (2001–2003)\\n\\n\\t\\n\\nFormer members\\n\\n    Dave Mustaine – lead guitar, backing vocals (1981–1983)\\n    Ron McGovney – bass, backing vocals (1981–1982)\\n    Cliff Burton – bass, backing vocals (1982–1986; his death)\\n    Jason Newsted – bass, backing vocals (1986–2001)\\n\\nTimeline\\nDiscography\\nMain article: Metallica discography\\n\\nStudio albums\\n\\n    Kill \\'Em All (1983)\\n    Ride the Lightning (1984)\\n    Master of Puppets (1986)\\n    ...And Justice for All (1988)\\n    Metallica (1991)\\n    Load (1996)\\n    Reload (1997)\\n    St. Anger (2003)\\n    Death Magnetic (2008)\\n    Hardwired... to Self-Destruct (2016)\\n    72 Seasons (2023)\\n\\nTours\\nFor a more comprehensive list, see List of Metallica concert tours.\\nAwards and nominations\\nMain article: List of awards and nominations received by Metallica\\n\\nGrammy Awards[300]\\n\\n    1990: Best Metal Performance – \"One\"\\n    1991: Best Metal Performance – \"Stone Cold Crazy\"\\n    1992: Best Metal Performance – Metallica\\n    1999: Best Metal Performance – \"Better than You\"\\n    2000: Best Hard Rock Performance – \"Whiskey in the Jar\"\\n    2001: Best Rock Instrumental Performance – \"The Call of Ktulu\" (with Michael Kamen and the San Francisco Symphony)\\n    2004: Best Metal Performance – \"St. Anger\"\\n    2009: Best Metal Performance – \"My Apocalypse\"\\n    2009: Best Recording Package – Death Magnetic[301]\\n    2024: Best Metal Performance – \"72 Seasons\"\\n\\nSee also\\n\\n    Biography portal\\n\\n    List of artists who reached number one on the U.S. Mainstream Rock chart\\n    List of bands from the San Francisco Bay Area\\n    List of best-selling music artists\\n    List of heavy metal bands\\n    List of highest-grossing live music artists\\n    List of people from California\\n    List of Rock and Roll Hall of Fame inductees\\n    List of thrash metal bands\\n\\nNotes\\n\\n    The 1988 re-issue of Kill \\'Em All on Elektra Records also charted on the Billboard 200, peaking at number 120.[24]\\n\\nReferences\\n\\nPereira, Alyssa (August 12, 2016). \"Metallica\\'s Black Album turns 25: Here\\'s how local record stores reacted to its sales in 1991\". San Francisco Chronicle. Archived from the original on April 21, 2018. Retrieved April 20, 2018.\\n\"Band History\". Metallica official website. Archived from the original on October 30, 2015. Retrieved April 20, 2018.\\nSavage, Mark (February 14, 2018). \"Metallica to get \\'Nobel Prize of music\\'\". BBC. Archived from the original on August 8, 2020. Retrieved March 23, 2018.\\n\"Metallica – 100 Greatest Artists\". Rolling Stone. December 3, 2010. Archived from the original on April 23, 2015. Retrieved May 12, 2017.\\nTrust, Gary; Caulfield, Keith (March 21, 2014). \"Eminem Marks Sales, Hot 100 Milestones\". Billboard. Archived from the original on April 10, 2019. Retrieved September 7, 2014.\\nCaulfield, Keith (July 7, 2017). \"Billboard 200 Chart Moves: Metallica\\'s \\'Hardwired\\' Hits 1 Million Sold in the U.S.\" Billboard. Archived from the original on July 9, 2017. Retrieved July 7, 2017.\\nStern, Lauren (August 6, 2012). \"Metallica – Best Band Logos\". LoudWire. Archived from the original on October 9, 2017. Retrieved October 9, 2017.\\nKimmy, Jimmy. \"How Metallica Created Their Iconic Logo\". YouTube. Archived from the original on April 4, 2017. Retrieved October 9, 2017.\\n\"Metallica Timeline Early 1981 – Early 1982\". MTV. Archived from the original on March 15, 2009. Retrieved May 28, 2009.\\n\"History – Metallica\". Metallica. Archived from the original on April 1, 2020. Retrieved March 2, 2020.\\n\"1981: Events\". Metallica.com. Archived from the original on June 23, 2009. Retrieved December 26, 2009.\\nPolcaro, Rafael (January 5, 2018). \"Lars Ulrich tells how they chose the name Metallica for the band\". Rockandrollgrage.com. Archived from the original on May 3, 2019. Retrieved May 3, 2019.\\nSaulnier, Jason (January 4, 2012). \"Lloyd Grant Interview\". Music Legends. Archived from the original on March 23, 2016. Retrieved May 6, 2013.\\n\"Metallica Timeline March 14, 1982 – July 6, 1982\". MTV. Archived from the original on April 11, 2009. Retrieved May 28, 2009.\\nDome, Malcolm (February 23, 1984). \"Anthrax: Fistful Of Metal\". Kerrang!. Vol. 62. p. 8.\\n\"Metallica Timeline Fall 1982 – April 16, 1983\". MTV. Archived from the original on December 27, 2008. Retrieved May 31, 2009.\\nPillsbury 2006, p. 2\\nChriste 2003, p. 86\\nCecolini, Vinny (November 1998). \"Foreclosure of a Team\". Metal Hammer.\\n\"Anthrax;\". Metallipromo.com. December 24, 2010. Archived from the original on October 2, 2013. Retrieved March 18, 2013.\\n\"Dave Mustaine: James Hetfield Is Jealous of Me\". Blabbermouth.net. September 21, 2004. Archived from the original on January 30, 2009. Retrieved May 31, 2009.\\n\"Interview: Dave Mustaine news\". AskMen.com. IGN Entertainment. Archived from the original on December 2, 2008. Retrieved May 31, 2009.\\nDoe, Bernard. \"Megadeth — Love it to Death\". Metal Forces. Archived from the original on October 2, 2013. Retrieved June 16, 2012.\\nWhitburn, Joel. Top Pop Albums (2001): 578\\nLepage, Mark (October 31, 2009). \"Metal metamorphosis\". Ottawa Citizen. Archived from the original on December 28, 2014. Retrieved June 12, 2013.\\n\"Metallica Timeline May 10–27, 1983 – July 27 – September 3, 1983\". MTV. Archived from the original on January 13, 2009. Retrieved May 30, 2009.\\n\"Metallica Timeline October–December 1983 – August 1984\". MTV. Archived from the original on January 15, 2009. Retrieved May 30, 2009.\\n\"Metallica Chart Positions\". Allmusic. Archived from the original on September 23, 2010. Retrieved December 3, 2007.\\n\"Metallica Timeline Fall, 1984 – March 27, 1986\". MTV. Archived from the original on January 14, 2009. Retrieved June 2, 2009.\\nChriste 2003, p. 130\\n\"Discography – Metallica\". Billboard. Archived from the original on June 2, 2009. Retrieved June 2, 2009.\\n\"Gold & Platinum\". RIAA. Archived from the original on July 28, 2013. Retrieved May 26, 2010.\\nHuey, Steve. \"Metallica: Master of Puppets\". Allmusic. Archived from the original on June 2, 2009. Retrieved June 2, 2009.\\n\"Metallica timeline June 26, 1986 – September 27, 1986\". MTV. Archived from the original on December 17, 2007. Retrieved November 16, 2007.\\n\"Metallica timeline October 1986 – March 1987\". MTV. Archived from the original on April 11, 2009. Retrieved November 30, 2007.\\nDoughton, K.J. (August 1, 1993). Metallica Unbound. Grand Central Publishing. ISBN 978-0-446-39486-4.\\nMcIver, Joel (2004). Justice for All: The Truth About Metallica. Omnibus Press. p. 85. ISBN 978-1-84772-797-8.\\n\"Metallica timeline August 21, 1987 – December 4, 1987\". MTV. Archived from the original on April 11, 2009. Retrieved December 1, 2007.\\nChriste 2003, p. 196\\nHuey, Steve. \"Metallica: ...And Justice for All\". Allmusic. Archived from the original on September 23, 2010. Retrieved December 23, 2006.\\n\"Damaged Justice World Tour\". Metallica.com. Archived from the original on December 10, 2007. Retrieved December 9, 2007.\\n\"Rockin\\' on an Island\". Kerrang! 258. September 30, 1989.\\nEndelman, Michael. \"Grammy\\'s 10 Biggest Upsets\". Entertainment Weekly. Archived from the original on December 16, 2007. Retrieved December 3, 2007.\\n\"MTV: 100 Greatest Music Videos Ever Made\". Rockonthenet.com. Archived from the original on August 10, 2016. Retrieved December 8, 2007.\\n\"A.D.D. Videos: 25 Years of MTV\". MTV. Archived from the original on April 16, 2008. Retrieved March 12, 2006.\\n\"Metallica timeline February 1990 – August 13, 1991\". MTV. Archived from the original on October 25, 2011. Retrieved December 2, 2007.\\nGarcia, Guy (October 14, 1991). \"Heavy Metal Goes Platinum\". Time. Archived from the original on April 28, 2007. Retrieved December 12, 2007.\\n\"Top 100 Albums\". RIAA.com. Archived from the original on July 1, 2007. Retrieved December 2, 2007.\\n\"List of the most crowded music concerts in history\". The Economic Times. November 8, 2015. Archived from the original on November 11, 2020. Retrieved May 19, 2020.\\n\"Lars Ulrich Clarifies the Myth That 1.6 Million People Attended Metallica\\'s Moscow Concert in 1991\". June 7, 2020. Archived from the original on April 8, 2023. Retrieved March 30, 2022.\\nGeorg Purvis (2007). \"Queen: Complete Works\". p. 390. Reynolds & Hearn\\nMetallica, FULL VH1 Behind The Music episode. Retrieved August 6, 2021.\\n\"Metallica timeline August 9, 1992 – November 23, 1993\". MTV. Archived from the original on May 2, 2013. Retrieved December 1, 2007.\\n\"Metallica timeline December 1995 – June 27, 1996\". MTV. Archived from the original on April 13, 2013. Retrieved December 5, 2007.\\n\"The Playboy Interview – Metallica\". Playboy. Archived from the original on April 4, 2009. Retrieved December 3, 2007.\\nFricke, David (December 4, 1996). \"Load Rolling Stone review\". Rolling Stone. Archived from the original on November 27, 2007. Retrieved December 7, 2007.\\nSome Kind of Monster feature film, Metallica, January 2004, Paramount Pictures.\\n\"Metallica timeline November 18, 1997 – December 8, 1998\". MTV. Archived from the original on May 2, 2013. Retrieved December 5, 2007.\\n\"Metallica timeline February 24, 1999 – February 23, 2000\". MTV. Archived from the original on May 2, 2013. Retrieved December 5, 2007.\\n\"Testimony of Mr. Lars Ulrich\". United States Senate Committee on the Judiciary. July 11, 2000. Archived from the original on November 29, 2007. Retrieved December 5, 2007.\\nJones, Christopher (April 13, 2000). \"Metallica Rips Napster\". Wired. Archived from the original on May 16, 2008. Retrieved December 5, 2007.\\nPellegrini, Frank (March 6, 2001). \"The End of the Line for Royalties?\". Time. Archived from the original on March 7, 2001. Retrieved December 12, 2007.\\n\"Napster settles suits\". CNN. July 21, 2001. Archived from the original on September 23, 2009. Retrieved December 5, 2007.\\nEvangelista, Benny (September 4, 2002). \"Napster runs out of lives – judge rules against sale\". San Francisco Chronicle. Archived from the original on March 9, 2021. Retrieved January 2, 2008.\\n\"MTV\\'s Video Music Awards 2000: If only I have a brain\". NY Rock. September 7, 2011. Archived from the original on October 16, 2011.\\n\"Eminem and \\'N Sync Big VMA Winners\". ABC News. Archived from the original on January 22, 2021. Retrieved April 21, 2020.\\nBasham, David (January 17, 2001). \"Bassist Jason Newsted Leaves Metallica\". MTV. Archived from the original on July 26, 2008. Retrieved December 3, 2007.\\n\"Metallica timeline April 2001 – December 4, 2001\". MTV. Archived from the original on May 23, 2010. Retrieved December 5, 2007.\\n\"St. Anger by Metallica\". Metacritic. Archived from the original on September 12, 2010. Retrieved December 5, 2007.\\nMoreau, Kevin (June 23, 2003). \"Rattle and Ho-Hum\". Shakingthrough.net. Archived from the original on August 29, 2008. Retrieved December 5, 2007.\\nDiCrescenzo, Brent (June 16, 2003). \"Metallica St. Anger\". Pitchfork Media. Archived from the original on March 18, 2009. Retrieved December 5, 2007.\\n\"St. Anger by Metallica\". Metacritic.com. Archived from the original on September 12, 2010. Retrieved December 5, 2007.\\n\"Grammy Award winners – Metallica\". Grammy.com. Archived from the original on January 17, 2010. Retrieved December 5, 2007.\\n\"Metallica timeline January 3, 2002 – March 19, 2003\". MTV. Archived from the original on May 2, 2013. Retrieved December 5, 2007.\\nTonie Yde Mørch (June 27, 2009). \"Lars Ulrich – fra \\'total ass\\' til familiefar\". Berlingske Media. FRI.DK. Archived from the original on November 24, 2012. Retrieved June 7, 2011.\\n\"Metallica\\'s Lars Ulrich Hospitalized in Switzerland, Misses Show\". Yahoo Music. June 7, 2004. Archived from the original on May 1, 2010. Retrieved December 9, 2006.\\nKaufman, Gil (April 3, 2005). \"Metallica Opening for Rolling Stones in San Francisco\". MTV. Archived from the original on December 2, 2008. Retrieved December 5, 2007.\\n\"If You Want a Successful Album – Work with Rick Rubin\". Tixsearcher.com. Archived from the original on November 23, 2020. Retrieved August 19, 2014.\\nBlabbermouth (September 18, 2006). \"Bob Rock Says Metallica Fans\\' Petition To Dump Him Was \\'Hurtful\\' To His Kids\". Blabbermouth. Archived from the original on May 3, 2021. Retrieved May 3, 2021.\\n\"Metallica\\'s \\'Videos\\' beats Slipknot\\'s Voliminal\\' on Music Video Chart\". Blabbermouth.net. December 15, 2006. Archived from the original on December 19, 2007. Retrieved December 5, 2007.\\n\"Best Metal Performance\". Grammy.com. Archived from the original on December 8, 2007. Retrieved December 7, 2007.\\n\"We All Love Ennio Morricone\". Metallica.com. February 20, 2007. Archived from the original on January 24, 2015. Retrieved December 12, 2014.\\n\"Metallica\\'s \\'Death Magnetic\\' Sold Two Weeks Early at French Record Store?\". Blabbermouth.net. Roadrunner Records. Archived from the original on August 9, 2011. Retrieved November 7, 2010.\\n\"Metallica album leak...\" Kerrang!. Archived from the original on September 5, 2008. Retrieved September 17, 2008.\\nGundersen, Edna (September 11, 2008). \"Metallica remains calm over \\'Magnetic\\' leaks\". USA Today. Archived from the original on September 14, 2008. Retrieved September 17, 2008.\\n\"Metallica\\'s Death Magnetic Reigns on European Album Chart\". Blabbermouth.net. September 25, 2008. Archived from the original on September 28, 2008. Retrieved September 29, 2008.\\n\"Metallica\\'s Death Magnetic Is Fastest-Selling Album of the Year in Australia\". Blabbermouth.net. September 21, 2008. Archived from the original on September 25, 2008. Retrieved September 29, 2008.\\n\"Metallica\\'s Death Magnetic Tops Album Chart for Third Week in a Row\". EuroInvester. October 1, 2008. Archived from the original on February 17, 2012. Retrieved June 5, 2011.\\n\"Metallica nominated in the EMA\\'s and playing live at the VMA\\'s in Latin America\". Alternativeware. October 8, 2008. Archived from the original on August 5, 2009. Retrieved October 8, 2008.\\n\"Metallica Consider Releasing Next Album Online\". Ultimate-guitar.com. Archived from the original on September 25, 2009. Retrieved October 1, 2009.\\n\"Jimmy Page, Jimi Hendrix, Eddie Van Halen, Steve Vai Among Chop Shop\\'s Top Guitarists\". Blabbermouth.net. Roadrunner Records. Archived from the original on March 15, 2009. Retrieved October 1, 2009.\\nCohen, Jonathan (January 14, 2009). \"Metallica, Run D.M.C. Lead Rock Hall Inductees\". Billboard. Archived from the original on July 3, 2014. Retrieved January 14, 2009.\\n\"Jason Newsted to rejoin Metallica\". idiomag. March 30, 2009. Archived from the original on April 2, 2009. Retrieved March 30, 2009.\\n\"Jason Newsted: Trujillo won\\'t play with Metallica during Rock Hall induction\". idiomag. April 1, 2009. Archived from the original on April 6, 2009. Retrieved April 1, 2009.\\n\"Metallica rocks Hall of Fame with other new members\". Reuters. April 5, 2009. Archived from the original on March 6, 2016. Retrieved April 5, 2009.\\n\"Dave Mustaine to Metallica: \\'I Am So Very Proud of All You Have Accomplished\\'\". Blabbermouth.net. Roadrunner Records. February 27, 2009. Archived from the original on December 19, 2013. Retrieved October 1, 2009.\\nPaine, Andre (September 14, 2009). \"Metallica Heading to Cinemas\". Billboard. Archived from the original on February 12, 2013. Retrieved November 7, 2010.\\n\"Gold and Platinum\". Recording Industry Association of America. Archived from the original on December 25, 2013. Retrieved July 24, 2010.\\n\"Heading Down Under\". Metallica. September 16, 2010. Archived from the original on January 19, 2013. Retrieved October 12, 2010.\\n\"Final Release for 2010\". Metallica. October 25, 2010. Archived from the original on January 4, 2012. Retrieved November 15, 2010.\\n\"Metallica: \\'Live at Grimey\\'s\\' EP Due in November\". Blabbermouth.net. Roadrunner Records. October 6, 2010. Archived from the original on October 9, 2010. Retrieved October 12, 2010.\\n\"One More for 2010!\". Metallica.com. October 6, 2010. Archived from the original on October 10, 2010. Retrieved October 12, 2010.\\n\"Metallica\\'s Lars Ulrich: I Would Like to Make Another Album with Rick Rubin\". Blabbermouth.net. July 11, 2009. Archived from the original on July 15, 2009. Retrieved July 11, 2009.\\n\"METALLICA Is Open To Performing Full Albums In Concert Again\". Blabbermouth.net. October 15, 2009. Retrieved February 13, 2018.\\n\"Metallica to Begin Work on New Album\". Ultimate-Guitar. November 11, 2010. Archived from the original on November 12, 2010. Retrieved November 11, 2010.\\n\"Metallica Confirmed for Brazil\\'s Rock In Rio Festival\". Blabbermouth.net. Roadrunner Records. November 9, 2010. Archived from the original on February 11, 2011. Retrieved November 9, 2010.\\n\"Shows in 2011?!?!?!\". Metallica. November 9, 2010. Archived from the original on January 4, 2012. Retrieved June 8, 2011.\\n\"\\'Tallica at Sonisphere U.K.\" Metallica.com. December 13, 2010. Archived from the original on May 14, 2011. Retrieved December 13, 2010.\\n\"More Big 4!\". Metallica.com. December 17, 2010. Archived from the original on January 5, 2012. Retrieved June 8, 2011.\\n\"The Big Four Coming to the States\". Metallica.com. January 25, 2011. Archived from the original on April 10, 2011. Retrieved June 8, 2011.\\n\"The Big 4...European Edition Continued\". Metallica.com. February 17, 2011. Archived from the original on April 4, 2011. Retrieved June 8, 2011.\\n\"Big 4 Again!\". Metallica.com. February 22, 2011. Archived from the original on April 2, 2011. Retrieved June 8, 2011.\\n\"Big 4 to Sweden!\". Metallica.com. March 2, 2011. Archived from the original on April 4, 2011. Retrieved June 8, 2011.\\n\"\\'Big Four\\' at Yankee Stadium: Metallica, Slayer, Megadeth and Anthrax thrash for the masses\". New York Daily News. September 15, 2011. Archived from the original on March 4, 2016. Retrieved January 13, 2016.\\n\"Metallica to Re-Team with Producer Rick Rubin for Next Album, Says Bassist\". Blabbermouth.net. April 24, 2011. Archived from the original on April 26, 2011. Retrieved April 24, 2011.\\n\"Metallica \\'About to Start Writing\\' New Album, Says Producer Rick Rubin\". Blabbermouth.net. June 20, 2011. Archived from the original on June 23, 2011. Retrieved June 21, 2011.\\n\"Secret Recording Project?\". Metallica.com. June 15, 2011. Archived from the original on June 19, 2011. Retrieved June 16, 2011.\\nThiessen, Brock (August 19, 2011). \"Metallica and Lou Reed Set Release Date for Collaborative Album\". Exclaim!. Archived from the original on February 19, 2012. Retrieved August 21, 2011.\\n\"Lou Reed challenged Lars Ulrich to street fight\". 3 News NZ. May 7, 2012. Archived from the original on October 20, 2012. Retrieved December 2, 2012.\\nWarner, Brett (October 26, 2011). \"Metallica Begin Work on Their Next Studio Album\". Ology. Archived from the original on November 6, 2011. Retrieved October 30, 2011.\\n\"Metallica in India\". Withjim.Com. Archived from the original on February 5, 2012. Retrieved February 15, 2012.\\n\"Delhi Show Update\". Metallica.com. Archived from the original on October 30, 2011. Retrieved October 30, 2011.\\n\"Metallica: India gig organisers arrested\". BBC News. BBC. October 30, 2011. Archived from the original on November 3, 2011. Retrieved November 4, 2011.\\n\"Delhi Show Update\". IBN. Archived from the original on November 1, 2011.\\n\"Heavy metal heaven as heads bang in Bangalore\". DNA. October 31, 2011. Archived from the original on August 6, 2012. Retrieved October 31, 2011.\\n\"Metallica to headline Download Festival at Donington\" Archived February 28, 2014, at the Wayback Machine. BBC. Retrieved November 15, 2011.\\nMetallica (March 22, 2012). \"Metallica Celebrate 30-Year Anniversary at the Fillmore in San Francisco with Special Guests, New Beyond Magnetic EP\". The Audio Perv. Archived from the original on September 29, 2017. Retrieved March 26, 2012.\\n\"News | Thirty Years... A Week Long Celebration in San Francisco\". Metallica.com. Archived from the original on March 28, 2012. Retrieved March 26, 2012.\\n\"Metallica post two previously unreleased tracks online—listen\". NME. December 8, 2011. Archived from the original on January 7, 2012. Retrieved December 10, 2011.\\n\"Beyond Magnetic on iTunes\". Itunes.apple.com. Archived from the original on May 17, 2013. Retrieved July 15, 2013.\\n\"Beyond Magnetic EP\". Amazon.com. January 31, 2012. Archived from the original on July 1, 2019. Retrieved October 29, 2012.\\nStacey Anderson (February 7, 2012). \"Metallica Announce Orion Music Festival | Music News\". Rolling Stone. Archived from the original on May 1, 2012. Retrieved March 26, 2012.\\n\"No New Metallica Album Before 2014 at the Earliest, Says LARS ULRICH\". Blabbermouth.net. July 27, 2012. Archived from the original on February 20, 2021. Retrieved July 27, 2012.\\n\"Metallica Launch New Record Label\". Rolling Stone. November 30, 2012. Archived from the original on April 14, 2014. Retrieved April 6, 2014.\\n\"Metallica forms Blackened Recordings\". 3 News NZ. December 3, 2012. Archived from the original on February 1, 2014. Retrieved December 2, 2012.\\nRoberts, Randall (November 30, 2012). \"Metallica leaves Warner Music with its masters, forms Blackened Records\". Los Angeles Times. Archived from the original on December 5, 2012. Retrieved December 17, 2012.\\nHogan, Marc (November 30, 2012). \"Metallica Name Their New Label: Blackened Recordings | SPIN | Newswire\". SPIN. Archived from the original on November 24, 2015. Retrieved December 17, 2012.\\n\"News | More Magnetic... on DVD!\". Metallica.com. Archived from the original on September 23, 2012. Retrieved November 18, 2012.\\n\"Metallica: \\'Quebec Magnetic\\' DVD, Blu-Ray Artwork Unveiled\". Blabbermouth.net. October 22, 2012. Archived from the original on October 25, 2012. Retrieved November 22, 2012.\\nBarton, Geoff. \"Ulrich: Metallica 3D movie project influenced by Zeppelin\". Classic Rock Magazine. Archived from the original on January 13, 2013. Retrieved January 19, 2013.\\nRJ Cubarrubia (April 24, 2013). \"Metallica\\'s 3D Movie Headed to IMAX\". Rollingstone.com. Archived from the original on July 1, 2013. Retrieved July 15, 2013.\\n\"Metallica to Hit the Studio in 2014: \\'We\\'ll Run Out of Excuses for Not Doing It by Then\\'\". Ultimate-Guitar. Archived from the original on April 3, 2019. Retrieved July 25, 2013.\\nDekel, Jon (September 9, 2013). \"Metallica to record new album in 2014\". Postmedia News. Archived from the original on December 29, 2013. Retrieved December 26, 2013.\\n\"Metallica Surprise by Playing \\'Kill \\'Em All\\' Set Under Fake Name Dehaan\". Noisecreep. June 9, 2013. Archived from the original on December 14, 2013. Retrieved December 21, 2013.\\nGraff, Gary (June 8, 2013). \"Who Is Dehaan? It\\'s Metallica, Playing \\'Kill \\'Em All\\' at Orion Music Festival\". Billboard. Archived from the original on December 19, 2013. Retrieved December 21, 2013.\\nColeman, Miriam (December 9, 2013). \"Metallica Play a Dome in Antarctica\". Rolling Stone. Archived from the original on January 8, 2016. Retrieved December 11, 2013.\\nAdams, Gregory (December 19, 2013). \"Metallica Release \\'Freeze \\'Em All\\' Live Album\". Exclaim!. Archived from the original on January 3, 2014. Retrieved December 21, 2013.\\nNg, David (January 27, 2014). \"Grammys 2014: Lang Lang performs \\'One\\' with Metallica\". Los Angeles Times. Archived from the original on March 18, 2014. Retrieved March 18, 2014.\\n\"Metallica Announce Final Round of \"By Request\" Summer 2014 Tour Dates\". December 4, 2013. Archived from the original on August 1, 2017. Retrieved May 27, 2017.\\n\"METALLICA\\'s LARS ULRICH Says New Song \\'Lords Of Summer\\' Is \\'Going Down Well\\'\". June 23, 2014. Archived from the original on August 1, 2017. Retrieved May 27, 2017.\\nSavage, Mark (June 29, 2014). \"Metallica: Glastonbury experience was \\'sensational\\'\". BBC News. Archived from the original on June 29, 2014. Retrieved June 29, 2014.\\n\"Metallica Performing Live at BlizzCon® 2014\". Blizzard. October 21, 2014. Archived from the original on October 22, 2014. Retrieved July 19, 2015.\\n\"Metallica Night with the San Jose Sharks\". Metallica. December 15, 2014. Archived from the original on June 29, 2015. Retrieved June 15, 2015.\\n\"Return To Lolla!\". Metallica. March 25, 2015. Archived from the original on June 19, 2015. Retrieved June 15, 2015.\\n\"Metallica Day At AT&T\". Metallica. May 1, 2015. Archived from the original on June 17, 2015. Retrieved June 15, 2015.\\n\"Off to Austin\". Metallica. May 11, 2015. Archived from the original on June 7, 2015. Retrieved June 15, 2015.\\n\"Metallica\\'s Hetfield, Hammett to perform national anthem\" (Press release). National Basketball Association. June 13, 2015. Archived from the original on June 15, 2015. Retrieved June 15, 2015.\\n\"Go Warriors!\". Metallica. June 12, 2015. Archived from the original on June 14, 2015. Retrieved June 15, 2015.\\nMetallica Performs National Anthem Before Finals Game 5 (YouTube). National Basketball Association. June 14, 2015. Archived from the original on October 27, 2021.\\n\"New Site, New Club\". Metallica.com. Archived from the original on November 6, 2019. Retrieved November 6, 2019.\\n\"The Night Before\". Metallica.com. Archived from the original on November 6, 2019. Retrieved November 6, 2019.\\nBienstock, Richard (April 11, 2016). \"Lars Ulrich Takes Us Inside Metallica\\'s Record Store Day Vault, Teases New Album\". Billboard. Archived from the original on May 14, 2016. Retrieved April 30, 2016.\\n\"Hardwired – Metallica\". Metallica. August 18, 2016. Archived from the original on August 16, 2017. Retrieved August 18, 2016.\\n\"Metallica\\'s Hardwired…To Self-Destruct Out Today on Blackened Recordings\". Aussieosbourne.com. Archived from the original on February 2, 2017. Retrieved May 27, 2017.\\nCaulfield, Keith (November 28, 2016). \"Metallica Rocks With Sixth No. 1 Album on Billboard 200 Chart\". Billboard. Archived from the original on December 23, 2019. Retrieved November 28, 2016.\\n\"Metallica 2017 Tour With Avenged Sevenfold, Volbeat + Gojira\". Loudwire. February 13, 2017. Archived from the original on November 23, 2020. Retrieved May 27, 2017.\\n\"Fifth Annual Metallica Night with the San Francisco Giants | Metallica.com\". Metallica.com. Archived from the original on November 3, 2019. Retrieved November 6, 2019.\\n\"Reissues Re-Revisited – Garage Days EP Coming April 13th\". metallica.com. January 24, 2018. Archived from the original on February 9, 2018. Retrieved February 8, 2018.\\n\"Sixth Annual Metallica Night with the SF Giants\". metallica.com. February 5, 2018. Archived from the original on February 9, 2018. Retrieved February 8, 2018.\\n\"North America, Round Two!\". metallica.com. February 26, 2018. Archived from the original on February 27, 2018. Retrieved March 9, 2018.\\n\"METALLICA\\'s Next Album \\'Will Come A Lot Sooner Than The Previous Two Did,\\' Says ROBERT TRUJILLO\". Blabbermouth.net. March 14, 2019. Archived from the original on March 17, 2019. Retrieved March 14, 2019.\\n\"KIRK HAMMETT: \\'I Have A Ton Of Material\\' For METALLICA\\'s Next Album\". Blabbermouth.net. April 14, 2019. Archived from the original on April 15, 2019. Retrieved April 14, 2019.\\nJenke, Tyler (March 8, 2019). \"Metallica and Slipknot have announced a massive Australian tour\". Tone Deaf. Archived from the original on August 19, 2019. Retrieved August 19, 2019.\\nLangford, Jackson (March 8, 2019). \"Metallica Announce 2019 Australian Tour With Slipknot\". Music Feeds. Archived from the original on September 27, 2020. Retrieved August 19, 2019.\\nKennelty, Greg (March 18, 2019). \"METALLICA To Perform S&M 2 With Live Symphony This September\". Metal Injection. Archived from the original on August 8, 2019. Retrieved August 9, 2019.\\nDeriso, Nick (July 31, 2019). \"Metallica\\'s Commemorative \\'S&M2\\' Concert to Screen in Theaters\". Ultimate Classic Rock. Archived from the original on August 8, 2019. Retrieved August 9, 2019.\\nSpruch, Kirsten (August 7, 2019). \"Metallica and San Francisco Symphony Unveil Trailer For \\'S&M2\\' Concert Film: Watch\". Billboard. Archived from the original on August 8, 2019. Retrieved August 9, 2019.\\nGrow, Kory (September 7, 2019). \"Metallica and San Francisco Symphony Supersize the Hits at S&M2 Gig\". Rolling Stone. Archived from the original on September 27, 2019. Retrieved September 28, 2019.\\nHarrington, Jim (September 4, 2019). \"Metallica: An exclusive behind-the-scenes look at S&M2 concerts\". The Mercury News. Archived from the original on September 4, 2019. Retrieved September 5, 2019.\\nJones, Damian (October 16, 2019). \"Metallica\\'s \\'S&M2\\' live concert film is returning to cinemas for one night only\". NME. Archived from the original on September 18, 2020. Retrieved October 27, 2019.\\nRolli, Bryan (October 17, 2019). \"Metallica Smashes Global Box Office Record With \\'S&M2\\'\". Forbes. Archived from the original on October 25, 2019. Retrieved October 27, 2019.\\nChilders, Chad (October 16, 2019). \"Metallica \\'S&M2\\' Becomes Largest Global Rock Event Cinema Release\". Loudwire. Archived from the original on October 27, 2019. Retrieved October 27, 2019.\\nGrow, Kory (June 11, 2020). \"Metallica\\'s Lars Ulrich Teases \\'S&M2\\' Box Set on Kimmel\". Rolling Stone. Archived from the original on July 24, 2020. Retrieved July 23, 2020.\\n\"Metallica announce \\'S&M2\\' live album and concert film release\". chaospin.com. June 13, 2020. Archived from the original on June 14, 2020. Retrieved July 23, 2020.\\n\"METALLICA Announces April 2020 South American Stadium Tour With GRETA VAN FLEET\". Blabbermouth.net. August 14, 2019. Archived from the original on August 20, 2019. Retrieved August 19, 2019.\\nKaufman, Spencer (August 15, 2019). \"Metallica announce 2020 South American tour with Greta Van Fleet\". Consequence of Sound. Archived from the original on August 19, 2019. Retrieved August 19, 2019.\\nEhlrich, Brenna (September 26, 2019). \"Metallica, Billie Eilish, Miley Cyrus to Play 10-Hour Worldwide Concert\". Rolling Stone. Archived from the original on September 29, 2019. Retrieved September 30, 2019.\\nLavin, Will (September 28, 2019). \"Metallica postpones upcoming tour as James Hetfield returns to rehab\". NME. Archived from the original on September 28, 2019. Retrieved September 28, 2019.\\nLewry, Fraser (September 28, 2019). \"Metallica cancel tour as James Hetfield returns to rehab\". Classic Rock. Archived from the original on September 28, 2019. Retrieved September 28, 2019.\\nBond, Nick (September 28, 2019). \"\\'Devastated\\' Metallica cancel Australian stadium tour as frontman enters rehab\". news.com.au. Archived from the original on September 28, 2019. Retrieved September 28, 2019.\\nTrendell, Andrew (October 14, 2019). \"Metallica\\'s Lars Ulrich shares update on James Hetfield\\'s rehab recovery\". NME. Archived from the original on October 27, 2019. Retrieved October 27, 2019.\\nMoore, Sam (October 10, 2019). \"Metallica are headlining five major US festivals next year\". NME. Archived from the original on October 11, 2019. Retrieved October 27, 2019.\\nDaly, Rhian (February 24, 2020). \"Metallica cancel festival dates to support James Hetfield\\'s recovery\". NME. Archived from the original on July 17, 2020. Retrieved July 1, 2020.\\n\"Bourbon & Beyond, Hometown Rising, Louder Than Life all canceled this year\". WLKY. April 24, 2020. Archived from the original on July 2, 2020. Retrieved July 1, 2020.\\n\"#MetallicaMondays: Free, Weekly Concert Streaming Series | Metallica.com | Metallica.com\". metallica.com. Archived from the original on July 18, 2020. Retrieved July 18, 2020.\\nTrapp, Philip. \"Metallica to Stream Full Live Shows Each Monday, Watch the First One\". Loudwire. Archived from the original on August 18, 2020. Retrieved July 18, 2020.\\nMay 2020, Richard Bienstock 04 (May 4, 2020). \"Metallica share stripped-down acoustic reworking of Blackened in quarantine\". guitarworld. Archived from the original on August 8, 2020. Retrieved July 17, 2020.\\n\"METALLICA: \\'Blackened 2020\\' erschienen\". ROCK HARD Heavy-Metal-Magazin (in German). May 15, 2020. Archived from the original on August 6, 2020. Retrieved July 17, 2020.\\n\"Metallica Could Make New Album In Quarantine, Says Lars Ulrich\". Blabbermouth.net. July 1, 2019. Archived from the original on April 29, 2020. Retrieved July 1, 2019.\\n\"Metallica Is \\'Excited About Cultivating New Ideas\\' While In Quarantine, Says Robert Trujillo\". Blabbermouth.net. June 30, 2020. Archived from the original on July 2, 2020. Retrieved July 1, 2020.\\n\"Metallica\\'s Drive-In Concert Was Secretly Filmed At Northern California Winery\". Blabbermouth.net. August 29, 2020. Archived from the original on January 19, 2021. Retrieved January 11, 2021.\\nHadusek, Jon (May 21, 2021). \"Metallica Bring Back #MetallicaMondays for One Night, Tease \"#BlackAlbum2021\"\". Consequence of Sound. Archived from the original on May 21, 2021. Retrieved May 21, 2021.\\nKaufman, Gil (September 8, 2021). \"Metallica Celebrate Raising $377,000 For Metallica Scholars Initiative\". Billboard. Retrieved September 8, 2021.\\nDiVita, Joe (November 28, 2022). \"Metallica Announce New Album \\'72 Seasons\\', Debut Old School Sounding Song \\'Lux Aeterna\\'\". Loudwire. Retrieved May 8, 2023.\\nHesher, Keenan (November 28, 2022). \"Not A Drill: Metallica Have a New Album Coming Next February, First Single \"Lux Aeterna\" Out Now\". MetalSucks. Retrieved November 28, 2022.\\nGallagher, Alex (January 20, 2023). \"Metallica confront taboos on new single \\'Screaming Suicide\\': \"It\\'s a human experience, we should be able to talk about it\"\". NME. Retrieved May 8, 2023.\\nHussey, Allison (January 19, 2023). \"Metallica Share Video for New Song \"Screaming Suicide\": Watch\". Pitchfork. Retrieved January 22, 2023.\\n\"Metallica Previews New Song \\'If Darkness Had A Son\\'\". Blabbermouth.net. February 28, 2023. Retrieved May 8, 2023.\\nYoung, Simon (February 28, 2023). \"Metallica to release If Darkness Had a Son on March 1\". Metal Hammer. Retrieved May 8, 2023.\\nAlderslade, Merlin (March 31, 2023). \"Listen to the title track from new Metallica album 72 Seasons, alongside a brand new video\". Metal Hammer. Retrieved May 8, 2023.\\nCarter, Emily (March 30, 2023). \"Metallica have just released 72 Seasons\\' awesome title-track\". Kerrang!. Retrieved May 8, 2023.\\nArmstrong, Chuck (April 20, 2023). \"Photos – This Is What the Release of Metallica\\'s New Album, \\'72 Seasons,\\' Looked Like\". Loudwire. Retrieved May 8, 2023.\\nStephen Thomas Erlewine. \"Metallica AllMusic\". AllMusic. Archived from the original on October 26, 2020. Retrieved November 13, 2020.\\n\"\\'The ABCs of Metallica\\' — Heavy Metal Band Releasing Children\\'s Book\". WNEP. July 16, 2019. Archived from the original on November 9, 2020. Retrieved November 13, 2020.\\n\"Every Metallica Song Ranked\". Loudwire. July 16, 2019. Archived from the original on November 13, 2020. Retrieved November 13, 2020.\\n\"Metallica makes comeback in thrash metal with new album\". TRT World. August 16, 2016. Archived from the original on November 13, 2020. Retrieved November 13, 2020.\\nPhillips, William; Cogan, Brian (2009). Encyclopedia of Heavy Metal Music. Santa Barbara, California: ABC-CLIO. pp. 160–162. ISBN 978-0-313-34801-3.\\nJon Pareles (August 11, 1991). \"Recording View; Metallica\\'s Speed Metal, Without the Speed\". The New York Times. Archived from the original on August 8, 2019. Retrieved November 13, 2020.\\n\"30 on 30: The Greatest Guitarists Picked by the Greatest Guitarists\". guitarworld.com. Archived from the original on May 5, 2010. Retrieved April 28, 2010.\\n\"Raven\\'s debut album \\'Rock Until You Drop\\' getting released as \\'The 4CD Over The Top Edition\\'\". sleazeroxx.com. March 7, 2022. Retrieved March 7, 2022.\\n\"ACCEPT\\'s WOLF HOFFMANN Says KIRK HAMMETT Citing Him As An Influence Is \\'A Huge Honor\\'\". Blabbermouth.net. April 30, 2021. Retrieved February 9, 2022.\\n\"Heavy Metal Culture — 10 Metal Bands that Broke Up too Soon\". Heavy Metal Culture. July 4, 2021. Retrieved February 9, 2022.\\n\"James Hetfield\\'s official ballot for the 100 Greatest singers\". Rolling Stone. Archived from the original on January 29, 2009. Retrieved February 25, 2009.\\n\"Metallica Effect: How \\'Garage Inc.\\' Affected Bands They Covered\". Ultimate Classic Rock. November 23, 2018. Archived from the original on April 22, 2020. Retrieved April 28, 2020.\\nArriaga, Robert (February 24, 1999). \"Fast and Frightening\". SF Weekly. Archived from the original on February 9, 2022. Retrieved February 9, 2022.\\n\"Former Suicidal Tendencies Bassist Louiche Mayorga Sues For Unpaid Royalties\". Blabbermouth.net. December 9, 2016. Archived from the original on March 16, 2020. Retrieved April 28, 2020.\\n\"Metallica Lars Urlich Thanks Iron Maiden\". Loudwire.com. November 23, 2011. Archived from the original on February 6, 2021. Retrieved February 2, 2021.\\nHuey, Steve. \"Ride the Lightning – Metallica\". Allmusic. Archived from the original on September 23, 2010. Retrieved December 8, 2007.\\nHuey, Steve. \"Master of Puppets – Metallica\". Allmusic. Archived from the original on September 23, 2010. Retrieved December 8, 2007.\\nHuey, Steve. \"Metallica Allmusic review\". Allmusic. Retrieved December 5, 2007.\\nPalmer, Robert (January 21, 1997). \"Metallica Rolling Stone review\". Rolling Stone. Archived from the original on December 9, 2007. Retrieved December 5, 2007.\\nAli, Lorraine (November 20, 1997). \"ReLoad Rolling Stone review\". Rolling Stone. Archived from the original on January 5, 2008. Retrieved December 8, 2007.\\nSinclair, Tom (June 9, 2003). \"Music Review St. Anger\". Entertainment Weekly. Archived from the original on December 20, 2007. Retrieved December 8, 2007.\\nLoftus, Johnny. \"Allmusic – St. Anger\". Allmusic. Retrieved December 8, 2007.\\n\"Metallica Drummer on Producer Rick Rubin: \\'He\\'s Forced Us to Rethink Big-Picture Stuff\\'\". Blabbermouth.net. February 13, 2007. Archived from the original on December 16, 2007. Retrieved December 9, 2007.\\nEdmondson, Jacqueline (2013). Music in American Life: An Encyclopedia of the Songs, Styles, Stars, and Stories That Shaped Our Culture. ABC-CLIO. p. 708. ISBN 978-0-313-39348-8. Archived from the original on July 31, 2020. Retrieved August 22, 2017.\\nMetallica Scholars Initiative funds Central Community College, retrieved August 18, 2023\\n\"METALLICA\\'s All Within My Hands Foundation Supports World Central Kitchen\". BLABBERMOUTH.NET. April 4, 2022. Retrieved August 18, 2023.\\n\"Months of Giving: You Helped Us Raise $1M for World Central Kitchen!\". metallica.com. Retrieved August 18, 2023.\\nKROR, RockDaily. \"Metallica\\'s All Within My Hands Donates $200,000 To Maui Wildfire Relief\". Classic Rock 101.5 - The Tri-Cities Classic Rock Station. Retrieved August 18, 2023.\\nKaufman, Gil (February 8, 2023). \"Metallica\\'s All Within My Hands Foundation Helping Hands Concert & Auction Raises Millions For Charities\". Billboard. Retrieved August 18, 2023.\\nLee, Cosmo (May 7, 2007). \"Get Thrashed: The Story of Thrash Metal\". Stylus Magazine. Archived from the original on February 9, 2013. Retrieved January 3, 2008.\\n\"Top Selling Artists\". RIAA. Archived from the original on December 9, 2013. Retrieved May 26, 2010.\\n\"The Nielsen Company & Billboard\\'s 2012 Music Industry Report\" (Press release). Business Wire. January 4, 2013. Archived from the original on January 12, 2013. Retrieved July 1, 2013.\\n\"Metallica Biography\". Rolling Stone. Archived from the original on December 30, 2007. Retrieved January 19, 2008.\\nThomas Erlewine, Stephen & Prato, Greg. \"Metallica Biography\". AllMusic. Archived from the original on September 23, 2010. Retrieved January 19, 2008.\\n\"Why they Rule? Metallica\". MTV. Archived from the original on December 14, 2007. Retrieved December 5, 2007.\\nWright, James. \"Godsmack\". Blistering. Archived from the original on January 25, 2008. Retrieved January 19, 2008.\\n\"TESTAMENT\\'s Chuck Billy Talks Inspirations – \"METALLICA\\'s James Hetfield Has Always Been An Inspiration With Clever Lyrics\"\". Brave Words & Bloody Knuckles. August 14, 2013. Retrieved February 10, 2022.\\n\"TESTAMENT\\'s Chuck Billy: Thrash\\'s Native American Warrior – \"Express Yourself, Keep Speaking Up, Someone\\'s Going To Hear It Eventually\"\". Brave Words & Bloody Knuckles. November 2, 2013. Retrieved February 10, 2022.\\nPorter, Chad. \"Machine Head Exclusive Interview with lead singer/guitarist Robb Flynn\". Connect. Archived from the original on January 20, 2008. Retrieved January 19, 2008.\\nSoenen, Marie-Hélène (June 10, 2016). \"Les cinq albums de metal qui ont changé la vie de Gojira\" [The five metal albums that changed Gojira\\'s life]. Télérama (in French). Paris. Archived from the original on February 27, 2021. Retrieved March 2, 2021.\\n\"Trivium Interview\". Metal Theater. November 2, 2007. Archived from the original on January 23, 2008. Retrieved January 19, 2008.\\n\"Interview with Matt from Trivium at RoadRage \\'04\". Metal Underground. August 9, 2004. Archived from the original on September 1, 2013. Retrieved January 19, 2008.\\nBowar, Chad. \"Avenged Sevenfold Interview\". About.com. Archived from the original on November 7, 2016. Retrieved December 5, 2007.\\n\"God Forbid – The new wave of American metal has arrived\". f-p-e-.com. Archived from the original on November 7, 2007. Retrieved December 5, 2007.\\nSoghomonian, Talia. \"Interview with Dave Chavarri of Ill Niño\". nyrock.com. Archived from the original on February 22, 2008. Retrieved December 6, 2007.\\n\"Adema Drummer: We Are Influenced by Metallica and Pantera\". Blabbermouth.net. August 11, 2003. Archived from the original on October 1, 2007. Retrieved December 9, 2007.\\nMichaels, Sean (March 26, 2009). \"Metallica to reunite with bassist Jason Newsted\". The Guardian. Archived from the original on March 9, 2021. Retrieved January 22, 2017.\\nStosuy, Brandon (September 3, 2010). \"VH1 100 Greatest Artists of All Time\". STEREOGUM. Archived from the original on April 12, 2015. Retrieved January 22, 2017.\\n\"100 Greatest Artists of Hard Rock\". VH1. Archived from the original on September 13, 2008. Retrieved December 23, 2006.\\n\"VH1 Classic Top 20 Metal Bands\". VH1. Archived from the original on September 14, 2008. Retrieved December 5, 2007.\\n\"100 Greatest Artists: Metallica\". Rolling Stone. December 3, 2010. Archived from the original on April 23, 2015. Retrieved September 5, 2013.\\n\"The RS 500 greatest albums of all time\". Rolling Stone. May 31, 2009. Archived from the original on December 18, 2010. Retrieved June 5, 2011.\\n\"Q 50 Heaviest Albums of All Time\". Rocklistmusic.co.uk. Archived from the original on March 4, 2012. Retrieved December 5, 2007.\\n\"Top 25 Metal Albums\". IGN. January 19, 2007. Archived from the original on December 17, 2007. Retrieved December 5, 2007.\\n\"The Top 100 Heavy Metal Albums\". Metal-rules.com. Archived from the original on June 29, 2011. Retrieved December 5, 2007.\\n\"The RS 500 Greatest Songs of All Time\". Rolling Stone. Archived from the original on December 3, 2007. Retrieved December 5, 2007.\\n\"Metallica Rocks \\'The Simpsons\\'\". Spin. July 7, 2007. Archived from the original on November 25, 2015. Retrieved December 6, 2007.\\n\"Metalocalypse\". Metallica.com. September 5, 2006. Archived from the original on June 22, 2011. Retrieved June 9, 2011.\\nKaufman, Gil (May 16, 2005). \"Metallica Mash-Up Band Gets By with a Little Help from Its Friend ... Lars\". MTV. Archived from the original on April 30, 2008. Retrieved December 5, 2007.\\n\"Metallica Timeline\". Metallica.com. Archived from the original on January 12, 2012. Retrieved June 9, 2011.\\n\"Icon Performance Highlights\". MTV. Archived from the original on March 5, 2011. Retrieved December 5, 2007.\\nGaston, Martin (April 9, 2013). \"Metallica songs yanked from Rock Band DLC as licensing agreements expire\". Gamespot. Archived from the original on October 23, 2013. Retrieved August 26, 2014.\\n\"Elton John, Chad Smith and more to appear on Miley Cyrus\\' Metallica covers album\". NME. January 7, 2021. Archived from the original on January 10, 2021. Retrieved January 7, 2021.\\n\"MEGADETH\\'S DAVE MUSTAINE SAYS IT WAS \"DUMB\" TO PUNCH METALLICA\\'S JAMES HETFIELD\". September 21, 2022.\\nCrawford, Allyson B. (April 5, 2012). \"Megadeth Frontman Dave Mustaine\\'s Most Controversial Quotes\". Noisecreep. Retrieved November 21, 2013.\\nHartmann, Graham (August 31, 2012). \"Metallica vs. Dave Mustaine – Nastiest Rock Feuds\". Loudwire. Retrieved November 21, 2013.\\n\"Metallica / Megadeth / Suicidal Tendencies Jun 12, 1993 (30 years ago)\".\\nHay, Carla (January 17, 2004). \"\"Monster\" Film Reveals Metallica\\'s Dynamics\". Billboard. Vol. 116. p. 15. Retrieved November 21, 2013.\\nWiederhorn, Jon (July 20, 2004). \"Megadeth Frontman, Filmmakers At Odds Over Metallica Doc\". MTV. Retrieved November 21, 2013.\\n\"The Big 4 Put Aside Their Differences for Spectacular Metal Show\". Rolling Stone. April 25, 2011.\\n\"Flashback: Metallica Reunite With Dave Mustaine For Super Jam In 2011\". Rolling Stone. April 28, 2015.\\n\"Metallica on the \\'80s Metal Bands They Didn\\'t Get Along With\". YouTube.\\n\"Dave Mustaine talks about glam rock/metal\". YouTube.\\n\"How The Feud Between Metallica\\'s Lars Ulrich And Mötley Crüe\\'s Nikki Sixx Started\". July 3, 2021.\\n\"The Truth About Nikki Sixx\\'s Feud with Metallica\". October 7, 2020.\\n\"Crue Bassist Defends Metallica\". June 2, 2003.\\n\"JAMES HETFIELD MEETS A MOTLEY CRUE HATER (GETS REALLY UNCOMFORTABLE/CRINGY)\". YouTube.\\n\"Vince Neil Hangs Up On Radio Host Over Motley Crue/metallica Feud Questions\". September 30, 2015.\\n\"Deeper With Metallica\\'s James Hetfield (AUDIO)\". YouTube.\\n\"Nikki Sixx Discusses Metallica\\'s Success By Recalling A Stunning James Hetfield Moment\". October 11, 2021.\\n\"\"My forte, my strength in Metallica in my time, was the live show… Everything else came second\": Jason Newsted on what he brought to the Metallica table\".\\n\"Jason Newsted says he was \"f*cking livid\" when he first heard …And Justice For All\".\\n\"James Hetfield Says This is the Real Reason There\\'s No Bass Guitar on \\'…And Justice for All\\'\".\\n\"JASON NEWSTED – BIOGRAPHY\".\\n\"Newsted Makes Peace With Metallica Past\". Billboard. Retrieved January 2, 2013.\\n\"The Return of Jason Newsted\". Rolling Stone India. February 12, 2013. Retrieved February 10, 2014.\\n\"Jason Newsted Reveals \\'Very Origins\\' of His Beef With Metallica\".\\n\"Grammy Award winners – Metallica\". Grammy.com. Archived from the original on December 24, 2014. Retrieved April 14, 2015.\\n\\n    \"Grammy Award winners – Death Magnetic\". Grammy.com. Archived from the original on April 14, 2015. Retrieved April 14, 2015.\\n\\nGeneral sources\\n\\n    Chirazi, Steffan; Metallica (2004). So What!: The Good, The Mad, and The Ugly. Broadway Books. ISBN 978-0-7679-1881-7.\\n    Christe, Ian (2003). Sound of the Beast: The Complete Headbanging History of Heavy Metal. HarperCollins. ISBN 978-0-380-81127-4.\\n    Pillsbury, Glenn (2006). Damage Incorporated: Metallica and the Production of Musical Identity. Routledge. ISBN 978-0-415-97374-8. Archived from the original on July 22, 2021. Retrieved December 7, 2019.\\n\\nExternal links\\nMetallica\\nat Wikipedia\\'s sister projects\\n\\n    Media from Commons\\n    Quotations from Wikiquote\\n    Data from Wikidata\\n\\n    Official website\\n    Metallica at AllMusic Edit this at Wikidata\\n    Metallica at Curlie\\n    Metallica discography at Discogs Edit this at Wikidata\\n    Metallica discography at MusicBrainz\\n\\n    vte\\n\\nMetallica\\nAwards for Metallica\\nAuthority control databases Edit this at Wikidata\\nCategories:\\n\\n    Metallica1981 establishments in CaliforniaAmerican speed metal musical groupsElektra Records artistsGrammy Award winnersHeavy metal musical groups from CaliforniaKerrang! Awards winnersMegaforce Records artistsMusical groups established in 1981Musical groups from San FranciscoMusical groups from the San Francisco Bay AreaMusical quartets from CaliforniaNME Awards winnersThrash metal musical groups from CaliforniaUniversal Music Group artistsVertigo Records artistsWarner Records artists\\n\\n    This page was last edited on 18 March 2024, at 10:24 (UTC).\\n    Text is available under the Creative Commons Attribution-ShareAlike License 4.0; additional terms may apply. By using this site, you agree to the Terms of Use and Privacy Policy. Wikipedia® is a registered trademark of the Wikimedia Foundation, Inc., a non-profit organization.\\n', metadata={'source': 'metallica.txt'})]"
      ]
     },
     "execution_count": 6,
     "metadata": {},
     "output_type": "execute_result"
    }
   ],
   "source": [
    "documents"
   ]
  },
  {
   "cell_type": "code",
   "execution_count": 7,
   "metadata": {},
   "outputs": [],
   "source": [
    "text_splitter = RecursiveCharacterTextSplitter(\n",
    "    chunk_size=500,\n",
    "    chunk_overlap=0,\n",
    "    length_function=len,\n",
    ")"
   ]
  },
  {
   "cell_type": "code",
   "execution_count": 8,
   "metadata": {},
   "outputs": [],
   "source": [
    "docs = text_splitter.split_documents(documents)"
   ]
  },
  {
   "cell_type": "code",
   "execution_count": 10,
   "metadata": {},
   "outputs": [
    {
     "data": {
      "text/plain": [
       "Document(page_content=\"External links\\nMetallica\\nat Wikipedia's sister projects\\n\\n    Media from Commons\\n    Quotations from Wikiquote\\n    Data from Wikidata\\n\\n    Official website\\n    Metallica at AllMusic Edit this at Wikidata\\n    Metallica at Curlie\\n    Metallica discography at Discogs Edit this at Wikidata\\n    Metallica discography at MusicBrainz\\n\\n    vte\\n\\nMetallica\\nAwards for Metallica\\nAuthority control databases Edit this at Wikidata\\nCategories:\", metadata={'source': 'metallica.txt'})"
      ]
     },
     "execution_count": 10,
     "metadata": {},
     "output_type": "execute_result"
    }
   ],
   "source": [
    "len(docs)\n",
    "docs[311]"
   ]
  },
  {
   "cell_type": "code",
   "execution_count": 11,
   "metadata": {},
   "outputs": [],
   "source": [
    "embedding = OpenAIEmbeddings()"
   ]
  },
  {
   "cell_type": "code",
   "execution_count": 15,
   "metadata": {},
   "outputs": [
    {
     "name": "stdout",
     "output_type": "stream",
     "text": [
      "Collecting faiss-cpu\n",
      "  Using cached faiss_cpu-1.8.0-cp311-cp311-manylinux_2_17_x86_64.manylinux2014_x86_64.whl.metadata (3.6 kB)\n",
      "Requirement already satisfied: numpy in ./.venv/lib/python3.11/site-packages (from faiss-cpu) (1.26.4)\n",
      "Using cached faiss_cpu-1.8.0-cp311-cp311-manylinux_2_17_x86_64.manylinux2014_x86_64.whl (27.0 MB)\n",
      "Installing collected packages: faiss-cpu\n",
      "Successfully installed faiss-cpu-1.8.0\n",
      "Note: you may need to restart the kernel to use updated packages.\n"
     ]
    }
   ],
   "source": [
    "%pip install faiss-cpu"
   ]
  },
  {
   "cell_type": "code",
   "execution_count": 16,
   "metadata": {},
   "outputs": [],
   "source": [
    "import faiss"
   ]
  },
  {
   "cell_type": "code",
   "execution_count": 17,
   "metadata": {},
   "outputs": [],
   "source": [
    "library = FAISS.from_documents(docs, embedding)"
   ]
  },
  {
   "cell_type": "code",
   "execution_count": 18,
   "metadata": {},
   "outputs": [],
   "source": [
    "Query1 = \"Who replaced Cliff Burton in Metallica?\""
   ]
  },
  {
   "cell_type": "code",
   "execution_count": 19,
   "metadata": {},
   "outputs": [],
   "source": [
    "Query_Answer = library.similarity_search(Query1)"
   ]
  },
  {
   "cell_type": "code",
   "execution_count": 23,
   "metadata": {},
   "outputs": [
    {
     "name": "stdout",
     "output_type": "stream",
     "text": [
      "page_content=\"Burton's death left Metallica's future in doubt. The three remaining members decided Burton would want them to carry on, and with the Burton family's blessings, the band sought a replacement.[35] Roughly 40 people – including Hammett's childhood friend, Les Claypool of Primus; Troy Gregory of Prong; and Jason Newsted, formerly of Flotsam and Jetsam – auditioned for the band to fill Burton's spot. Newsted learned Metallica's entire setlist; after the audition, Metallica invited him to Tommy's\" metadata={'source': 'metallica.txt'}\n"
     ]
    }
   ],
   "source": [
    "print(Query_Answer[0])"
   ]
  },
  {
   "cell_type": "code",
   "execution_count": 24,
   "metadata": {},
   "outputs": [],
   "source": [
    "docs_and_scores = library.similarity_search_with_score(Query1)"
   ]
  },
  {
   "cell_type": "code",
   "execution_count": 25,
   "metadata": {},
   "outputs": [
    {
     "data": {
      "text/plain": [
       "(Document(page_content=\"Burton's death left Metallica's future in doubt. The three remaining members decided Burton would want them to carry on, and with the Burton family's blessings, the band sought a replacement.[35] Roughly 40 people – including Hammett's childhood friend, Les Claypool of Primus; Troy Gregory of Prong; and Jason Newsted, formerly of Flotsam and Jetsam – auditioned for the band to fill Burton's spot. Newsted learned Metallica's entire setlist; after the audition, Metallica invited him to Tommy's\", metadata={'source': 'metallica.txt'}),\n",
       " 0.2178742)"
      ]
     },
     "execution_count": 25,
     "metadata": {},
     "output_type": "execute_result"
    }
   ],
   "source": [
    "docs_and_scores[0]"
   ]
  },
  {
   "cell_type": "code",
   "execution_count": 26,
   "metadata": {},
   "outputs": [
    {
     "data": {
      "text/plain": [
       "(Document(page_content=\"1984–1986: Ride the Lightning, Master of Puppets, and Burton's death\\nCliff Burton (pictured in 1985) replaced Ron McGovney as the bassist in 1982 and played with the band until his death in 1986.\", metadata={'source': 'metallica.txt'}),\n",
       " 0.27124405)"
      ]
     },
     "execution_count": 26,
     "metadata": {},
     "output_type": "execute_result"
    }
   ],
   "source": [
    "docs_and_scores[1]"
   ]
  },
  {
   "cell_type": "code",
   "execution_count": 27,
   "metadata": {},
   "outputs": [
    {
     "data": {
      "text/plain": [
       "(Document(page_content=\"1986–1994: Newsted joins, ...And Justice for All and Metallica\\nJason Newsted (pictured in 2013) joined Metallica soon after Cliff Burton's death in 1986.\", metadata={'source': 'metallica.txt'}),\n",
       " 0.27820975)"
      ]
     },
     "execution_count": 27,
     "metadata": {},
     "output_type": "execute_result"
    }
   ],
   "source": [
    "docs_and_scores[2]"
   ]
  },
  {
   "cell_type": "code",
   "execution_count": 28,
   "metadata": {},
   "outputs": [
    {
     "data": {
      "text/plain": [
       "(Document(page_content='McGovney to leave because they thought he \"didn\\'t contribute anything, he just followed.\"[16] Although Burton initially declined the offer, by the end of the year, he had accepted on the condition that the band move to El Cerrito in the San Francisco Bay Area.[16] Metallica\\'s first live performance with Burton was at the nightclub The Stone in March 1983, and the first recording to feature Burton was the Megaforce demo (1983).[16]', metadata={'source': 'metallica.txt'}),\n",
       " 0.27859023)"
      ]
     },
     "execution_count": 28,
     "metadata": {},
     "output_type": "execute_result"
    }
   ],
   "source": [
    "docs_and_scores[3]"
   ]
  },
  {
   "cell_type": "code",
   "execution_count": 29,
   "metadata": {},
   "outputs": [],
   "source": [
    "retriever = library.as_retriever()\n"
   ]
  },
  {
   "cell_type": "code",
   "execution_count": 30,
   "metadata": {},
   "outputs": [],
   "source": [
    "qa = RetrievalQA.from_chain_type(llm=OpenAI(), chain_type=\"stuff\", retriever=retriever)"
   ]
  },
  {
   "cell_type": "code",
   "execution_count": 31,
   "metadata": {},
   "outputs": [],
   "source": [
    "retriever_query = 'What is the most hated Metallica Album'"
   ]
  },
  {
   "cell_type": "code",
   "execution_count": 32,
   "metadata": {},
   "outputs": [],
   "source": [
    "results = qa.invoke(retriever_query)"
   ]
  },
  {
   "cell_type": "markdown",
   "metadata": {},
   "source": []
  },
  {
   "cell_type": "code",
   "execution_count": 33,
   "metadata": {},
   "outputs": [
    {
     "name": "stdout",
     "output_type": "stream",
     "text": [
      "{'query': 'What is the most hated Metallica Album', 'result': ' According to the context given, the album that received the most criticism and mixed reactions from critics is St. Anger, released in 2003. However, it is not explicitly stated as the most hated album.'}\n"
     ]
    }
   ],
   "source": [
    "print(results)"
   ]
  },
  {
   "cell_type": "code",
   "execution_count": 34,
   "metadata": {},
   "outputs": [],
   "source": [
    "library.save_local(\"faiss_index_metallica\")"
   ]
  },
  {
   "cell_type": "code",
   "execution_count": 47,
   "metadata": {},
   "outputs": [],
   "source": [
    "metallica_saved = FAISS.load_local(\"faiss_index_metallica\", embedding,allow_dangerous_deserialization = True)"
   ]
  },
  {
   "cell_type": "code",
   "execution_count": 49,
   "metadata": {},
   "outputs": [],
   "source": [
    "qa = RetrievalQA.from_chain_type(llm=OpenAI(), chain_type=\"stuff\", retriever=metallica_saved.as_retriever())"
   ]
  },
  {
   "cell_type": "code",
   "execution_count": 52,
   "metadata": {},
   "outputs": [],
   "source": [
    "retriever_query2 = \"What Metallica album does fans hate the most?\""
   ]
  },
  {
   "cell_type": "code",
   "execution_count": 53,
   "metadata": {},
   "outputs": [],
   "source": [
    "results = qa.invoke(retriever_query2)"
   ]
  },
  {
   "cell_type": "code",
   "execution_count": 54,
   "metadata": {},
   "outputs": [
    {
     "name": "stdout",
     "output_type": "stream",
     "text": [
      "{'query': 'What Metallica album does fans hate the most?', 'result': ' Fans have expressed mixed reactions to Metallica\\'s eighth studio album, St. Anger (2003), with some criticizing the \"steely\" sounding snare drum and absence of guitar solos. However, it still debuted at number one on the Billboard 200 chart.'}\n"
     ]
    }
   ],
   "source": [
    "print(results)"
   ]
  },
  {
   "cell_type": "code",
   "execution_count": 58,
   "metadata": {},
   "outputs": [
    {
     "name": "stdout",
     "output_type": "stream",
     "text": [
      "Requirement already satisfied: PyPDF2 in /home/bkoo/miniconda3/envs/chainlit/lib/python3.12/site-packages (3.0.1)\n",
      "Note: you may need to restart the kernel to use updated packages.\n"
     ]
    }
   ],
   "source": [
    "%pip install PyPDF2"
   ]
  },
  {
   "cell_type": "code",
   "execution_count": 59,
   "metadata": {},
   "outputs": [],
   "source": [
    "import PyPDF2\n",
    "from langchain_community.embeddings import OllamaEmbeddings"
   ]
  },
  {
   "cell_type": "code",
   "execution_count": 60,
   "metadata": {},
   "outputs": [],
   "source": [
    "    pdf_file_name = \"BuddhistMeditation.pdf\"\n",
    "    #pdf_stream = BytesIO(content)\n",
    "    pdf = PyPDF2.PdfReader(pdf_file_name)\n",
    "    pdf_text = \"\"\n",
    "    for page in pdf.pages:\n",
    "        pdf_text += page.extract_text()"
   ]
  },
  {
   "cell_type": "code",
   "execution_count": 61,
   "metadata": {},
   "outputs": [
    {
     "data": {
      "text/plain": [
       "'靜坐參禪-1 ⼀、靜坐的注意事項靜坐是一個定心的方法，靜坐要得力，各方面都要調。調身是調靜坐的姿勢，靜坐時參禪、念佛、持咒、觀想或是數息，則屬於調心。平時要調飲食，飲是流體，食是固體，飲食要均衡。水喝太多，身體會虛、濕氣重、容易酸痛。水喝太少，身體燥氣重，就容易躁動，不容易得定。飲食要清淡一點、少一點，吃東西口味重或是吃太多就容易昏沈。最好吃素，少造殺業，多培養慈悲心。還要調睡眠，睡太少，精神不容易集中。睡太多，人容易生起妄念。\\t靜坐剛開始，姿勢調好之後，就接著調息，就是調呼吸的氣息。做三次吐納，用鼻子吸氣、用嘴巴吐氣，吸得慢、吐得慢。吸氣時觀想乾淨的空氣進到身體內，吐氣時觀想體內的髒空氣都從嘴巴吐出去。這樣的呼吸調整做三次就夠，不必多做，否則容易耗氣，不利身體健康。調息三次後，就開始專心靜坐調心，不管用數息、念佛、參禪、持咒或是修觀行，就是讓心定下來、平靜、寧靜，進而開悟契入空覺。\\t靜坐主要有四種坐姿：雙盤、單盤、散盤、掛腿坐。雙盤就是先將左腳盤到右大腿胯部，右腳再盤到左大腿胯部，佛像都是這樣雙盤。如果做不到，也可以反過來：先把右腳放在左大腿胯部，再把左腳放在右大腿胯部。雙盤的重心比較穩固，所以能夠雙盤就盡量雙盤，不能雙盤就單盤。單盤就是左腳放在右大腿上面，或是反過來右腳放左大腳上面。散盤就是兩腳交叉坐。\\t靜坐時不要直接坐在地板上，因為地板濕氣重，不利身體健康。如果沒有大椰墊，可以鋪舊棉被或是榻榻米墊，再坐在上面。雙盤就直接坐在墊子上面，臀部下面不必再墊小坐墊，但是也可以用毛巾或毯子墊一個薄的厚度在臀部下面，因為靜坐到某個程度，臀部的氣容易堵住，墊著薄坐墊能讓氣比較容易通。如果是單盤或散盤，就需要在臀部下面再墊一個小墊子，否則坐時肚子內縮，身體就無法坐直。但是臀部不要坐滿小墊子，只坐前緣。要注意單盤的一個問題，單盤時身體為了平第⾴1衡，很容易坐姿傾斜，慢慢脊椎也會傾斜，所以要盡量坐直。平常在辦公室或是穿裙子等不方便盤腿的情況下，可以採掛腿坐。掛腳坐就是坐在椅子上，上半身保持打坐的姿勢，兩腳打開與肩同寬。兩腳尖平行不打開，否則氣容易散掉。\\t靜坐時身體保持放鬆，不要刻意挺腰、挺胸，否則火氣會上升。但也不能坐腰、含胸拔背，這樣內臟沒有活動空間。可以先整個上身往前彎，再慢慢抬起來。收下顎，舌頭抵住上顎，脖子靠著後領子。再來手結印放在胯部上，如果是右腿在上，就結三昧定印，右手放在左手上面。如果是左腿盤上面，就結彌陀印，就是左手放在右手上面。\\t靜坐時不能靠牆，掛腿坐時也不要靠著椅背。偶爾累了或是腰不舒服時靠一下還可以，但是不要經常這樣做，否則長期下來會氣血堵塞，甚至引起吐血或是其他健康問題。靜坐時要穿寬鬆的衣服，這樣方便盤腿。手錶、眼鏡、首飾最好摘下來，免得干擾心念、氣息或是氣血流通。靜坐的環境要單純、安靜、通風，要遠離電視、電話、汽車等噪音。晚上靜坐時，燈全部關掉也可以，但是要小心昏沈瞌睡的問題。可以點小夜燈或是燈調暗一些，燈光要從後面照過來。如果燈光從前面照過來，心容易散亂。\\t靜坐時毛細孔會張開，所以要遠離窗戶、通風口，避免因為被風吹到受寒。要保護好頭部、後頸部、膝蓋等部分。可以用一個蓋腿布把膝蓋包起來保暖，讓血液循環好一點，腿比較不痛，可以坐久一點。最好不要開風扇或是冷氣，如果真的要開就離遠一點，不要直接吹到身體。剛打坐完毛細孔還是張開的狀態，不能洗冷水或喝冷水，平時也少喝冷水。如果濕氣跑進身體，就多拜佛出汗或是喝薑水出汗。\\t靜坐完準備下坐時，眼睛張開，不要急著鬆腿。身體微微搖動，兩手搓熱，稍微按摩一下頭部、臉部和身體，再慢慢把腿鬆開，由上往下按摩。在腳的大拇指跟食指中間有一個太衝穴，可以按這個穴，腳的麻痛就很快可以退掉。按摩腿和腳之後，再慢慢起身。因為打坐時心念比較微細，色身也會變得比較微細，所以下坐後色身由細變粗需要有一個過程，不能太快、太粗魯，否則會傷到身體。\\t第⾴2不要在沙發上、床上靜坐，要靜坐用功就在佛堂或是其他安靜的地方。飯後不要馬上靜坐，會影響消化，最好間隔四十分鐘到一個小時再坐。要養成每天靜坐的習慣，例如早上起來盥洗後，如果家裡有佛龕，就在上供點香之後靜坐。點香要用天然的香，自己靜坐時不點香也沒有關係。如果沒有佛龕，早上盥洗後就可以靜坐，讓心平靜、寧靜再去工作。晚上就寢前再坐一支香，讓一天的塵勞能夠化掉、歸零，這樣不容易作夢，睡眠品質更好。當然工作之餘有時間，即使是五分鐘、十分鐘，也可以靜坐閉目養神。\\t每次靜坐的身心狀況、環境狀況不一樣，效果就不一樣。所以不必得失心太重，不管坐得好不好，時間到就靜坐。如果靜坐時昏沈，可以把頭抬高或是鬆鬆肩膀，讓頸部動脈血流順暢一點，腦部比較不會缺氧而昏沈。也可以起來拜佛，等心比較定了，再繼續坐。昏沈可能是飲食問題、睡眠問題或是過去業的問題，不是單一的問題，就需要多方面去調。如果靜坐時妄念很多，代表心不受控。可以頭稍微低一點去壓制頸部的動脈，心就會比較定。其實當妄念起來，只要不理它，專心在方法上面用功，妄念就會不見。妄念之所以還在，是因為心繼續起妄念。靜坐參禪如果妄念很多，可以先持咒、念佛或數息，等心比較定了再繼續參禪。要注意：昏沈妄想都會成習慣，所以不能放任不管。\\t工欲善其事，必先利其器。盤腿是要練的，從散盤慢慢練成單盤、再慢慢變成雙盤，不能一直停在單盤、散盤。雖然有人天生腿腳比較好，一下子就可以雙盤，大部分人都是慢慢練來的。但是也不要躁進，否則容易受傷。靜坐時如果對身體有感覺，是由於色蘊不空，對身體的執著還在。有任何身體的感受，不要理會它，專心在方法上用功。心越專注，身體的感受越少。平常也可以拜佛或是多練習打坐，自然能夠坐得更久。雖然靜坐跟成道證果沒有直接關係，但是對於定心、靜心是有幫助的。\\t⼆、「迴光返照、返聞⾃性」的參禪⽅便禪宗是用參禪起疑情來破執著、開悟，這裡教大眾用一個「迴光返照、返聞自性」的參禪方便來參問：「誰是我本來面目？」本來面目就第⾴3是父母未生之前的面目，就是清淨本心，就是念佛的是誰。禪宗講，每個人都有清淨本心，這個清淨本心就是自己父母未生之前的本來面目，所以用「誰是我本來面目？」作為話頭，真正不了解「誰是我本來面目」，想要了解而參。\\t「誰是我本來面目？」的這個「誰」，就是讓你能夠看、能夠聽、能夠講話、能夠動作的生命源頭。雖然你邏輯上面了解，但是沒有親自見到，不是真正了解它是誰，它就不在你的控制裡，你的心就是無明、不清楚、不明白，沒有能力作主。所以要知道、證到、親自看到這個「誰」，就是參禪的目的。「誰是我本來面目？」是一個疑問，「誰？」是參的重點。如果參破執著、無明，開悟了，親自看到自己的本心，就會知道這個疑問的答案。不是真正開悟，所謂的答案是被教的、聽過的、自己想出來的，都是我執習氣產生的妄想。\\t這個參禪方法很簡單：眼睛張開往前面看，再把眼睛閉起來往後面看。不要想、不要認為、不要猜，就是單純地同一個介面往前看、再往後看。眼睛能夠往前看，也能夠往後看，也能夠往左看、往右看，都是心起作用才能看清楚。如果眼睛在看，但是心不往那個方向作用，就不能看清楚。能夠看的這個能力是從自己的本來面目出來的，現在往後看，要把能夠看的這個源頭找到，就是把心往外面看的力量收回來往裡面看。\\t人往前面看就會攀緣，往後面看就有收斂的效果。一般人都是心外求法往外面看，執著人時事地物，迷掉了，好像水的源頭一直流水流出去。現在要逆流而上，回到源頭，所以迴光返照，眼睛閉起來往後面看。沒有其他想法，不用觀照、觀想，也不要管身體酸麻脹痛冷熱癢搖等感受，只要專心，這些現象就會不見。就是專心直接往後看，要把後面的本來面目看穿、看透。\\t往後面看的同時，參：「誰？」心裡面起「誰？」就好，不用念出聲音。「誰？」是一個疑問，這個疑可以讓你往生命的源頭推進。練習時間久了，就能越靠近生命的源頭。這個簡易的參禪方法跟念佛、持咒一樣簡單、容易用功，靜坐當中可以用，動當中也可以用。日常生活中第⾴4眼睛張開往後面看，就和眼睛閉起來往後面看的感覺一樣，有收的力量。所以靜坐用這個方法一段時間後，日常生活中，心比較不會隨著境界跑掉。\\t當面對一切人時事地物，如果不扭曲它、定義它，它就是一個實相。但是凡夫的清淨本心被無明包覆住，這一層執著、無明是介於本心跟實相中間，這一層如果沒有破掉，人就有種種感受、經驗、邏輯、定義，就造成二元對立的虛幻、迷失的狀態，就會心外求法。你用本心被無明包覆的狀態去念佛、持咒、數息或觀想，把心定在佛號、咒、數字或觀想上面，水往外流的速度會變慢，無明、迷惑的距離沒有那麼深厚。但是不用功時，水流的速度又加快了。所以念佛、持咒、數息或觀想屬於生滅法，就像燈有時亮、有時不亮，定、不定，無法真正把包覆清淨本心的無明破掉。參禪是逆流，是主動地用心生出來的作用返照心的源頭，把執著無明破掉，找到「誰是我本來面目？」的這個本心。\\t迴光返照好比逆水行舟，不斷往心的源頭靠近。當參到沒有念頭，心好像虛空一般，這個地方稱為話頭。話頭就是話的頭、念的頭，念的頭就是沒有念，這時好比站在家門口往裡面看，但是還沒進到家裡，所以參到話頭還沒有開悟，我執還沒有破。這時候不要再起疑參，否則就是頭上安頭。參到話頭就安住話頭、照顧話頭，就是保持這個沒有念頭的狀態。如果習氣現前，妄念又起來，就再迴光返照，再參到沒有念頭的話頭，再安住話頭。一直這樣起疑、參、參到話頭、安住話頭，執著無明就會越來越薄，心會慢慢收斂、定下來。平常對人對事時，心也會比較平靜、寧靜。等因緣時節到了，話頭破了，執著無明破了，就悟道了。\\t這個方法的重點在於破執悟道，所以需要有很強的心力去參。參太久心力會變弱，所以參的時間設定在四十或四十五分鐘即可。如果靜坐剛開始心不定，無法直接迴光返照、參，可以先持一個短咒、念佛號或是數息二到五分鐘，等心比較定了，再來用迴光返照。如果參禪過了四十五分鐘，還想繼續用功，可以改成觀想，觀照自己的念頭起伏，等到體力恢復了再繼續參。如果念頭又很多了，可以用數息、持咒或念佛把第⾴5念頭收掉。就是這樣交互用功。\\t有疑情，參禪才有力量。當迴光返照到一個程度動不了，好像車子陷在泥坑裡，就必須有拉力來拉，疑情就有拉動的效果。疑情越深，悟得就越深。大疑大悟，小疑小悟，不疑不悟，所以要把「誰？」變成最強烈的念頭。如果參「誰？」的力量小於我執、習氣、貪嗔癡的力量，就無法降伏妄念。參「誰？」的這個作用在，就能破執著，心就慢慢收斂。這個方法很容易用功，開悟之前要這樣用功，開悟之後要保任開悟的狀態直到成道證果，也是要這樣用功。\\t三、迴光返照、返聞⾃性的重要修行先不相應外面的人時事地物，也就是見到境界心不動。達磨祖師《二入四行觀》講，凡夫的心被「客塵煩惱所覆，不能顯了」，所以要「凝住壁觀，無⾃無他，凡聖等⼀。」就是心如木石，看到任何境界都不起心動念。凡夫的清淨本心被無明包覆住，所以起心動念，無非是業、無非是罪。這個根本問題沒有解決，怎麼用功都是生滅。\\t《楞嚴經》講，要以無生滅性為因地心，才能圓成果地修證，才能成就佛道。所以禪宗用參禪破執著，把我執、無明破掉，無生滅性才能現前。修行首先不跟境界對應，看到、聽到、想到什麼，都不起念。一步一步從境界退，退到身、退到心，再從心慢慢退，把被無明包覆的妄想心所產生的虛妄作用一層一層破掉。\\t六祖惠能大師對惠明法師的開示可以說明迴光返照的道理。六祖講：「汝既為法⽽來，可屏息諸緣，勿⽣⼀念，吾為汝說。」什麼是屏息諸緣？凡夫起心動念，都是妄想心生出的二元對立作用、攀緣作用，都是依據「我」而有的「我認為、我覺得、我看、我要、我不要…」，這個「我」是清淨本心被無明包覆而產生的虛妄狀態。《金剛經》講「無我相、無人相、無眾生相、無壽者相」，就是沒有「我」的觀念，清淨本心才會顯現出來。\\t靜坐時眼睛閉起來、耳朵不聽，就是隔絕自己習慣攀緣的現象。有人講：「我在日常生活當中用功。」沒有靜坐用功、心不定，想在日常第⾴6生活當中磨練，就是泥裡洗土塊，越洗越髒。這樣是妄想、懶惰，不是用功。佛、菩薩、祖師都是靜當中用功之後，才在動當中磨練。所以靜坐用功先和外在隔開，再來對付心裡面的習氣。如果妄念一直起來，代表無法控制自己的習氣執著，心作不了主，只是妄想、執著、習氣的奴隸，還不是心的主人。\\t六祖叫惠明「屏息諸緣，勿生一念」，惠明就把心平靜下來，不往外面看。六祖就再進一步講：「不思善，不思惡，正與麼時，那個是明上座本來⾯⽬？」惠明就悟道了。唐朝的祖師幾句話就可以迴光返照、找到生命的源頭，我們把祖師破執著、悟道的過程，變成實際的自我鍛鍊：先屏息諸緣，離開對外面現象的攀緣，靜下來用功。再來要做到勿生一念，再來不思善、不思惡，就是不打妄想。再把不思善、不思惡這一層破掉，破掉能所的執著，才知道「如何是我的本來面目」。\\t香嚴智閑禪師悟道的公案，也和父母未生之前的面目有關。香嚴智閑禪師出家後在百丈禪師座下參學，因為他很聰明，攀緣的習氣太強，所以參禪不得。等到百丈禪師圓寂了，他就去找他的師兄溈山靈佑禪師。溈山對他講：「我聞汝在百丈先師處，問一答十，問十答百。此是汝聰明靈利，意解識想，生死根本。父母未生時，試道一句看。」意解識想就是以清淨本心被無明包覆的狀態去想，這是生死的根本。\\t溈山叫香嚴智閑禪師講父母未生之前的面目是什麼，他不知道怎麼回答，就回到寮房，把讀過的文字從頭看一遍，想要找答案。即使看再多經典理論，不是自己證到的就不是自己的。香嚴智閑禪師找不到答案，就感歎：畫餅不可充饑。他請求溈山靈佑禪師跟他講破答案，但是溈山講：「我若說似汝，汝已後罵我去。我說的是我的，終不干汝事。」於是他很灰心，就把他看的書全部燒掉，哭著離開溈山，打算從此做一個普通出家人過日子就好。\\t他在行腳時看到南陽慧忠國師寺廟的遺迹，就在這裡住下來。有一天在除草時，他隨手把一塊瓦礫丟掉，打到一叢竹子，發出聲音，這一刹那他就悟道了。因為他之前被溈山考驗，所學的都用不上，灰心了，原來執著的東西都放下了、空掉了，所以這個聲音刹那間讓他醒過來。第⾴7用功到真正放下的程度，例如安住話頭久了，可能聽到一個聲音、聽到一句話、或是走路跌倒，就是開悟的契機，就悟道了。\\t香嚴智閑禪師悟道後就趕快焚香，朝著溈山的方向禮拜，感謝溈山沒有為他說破。並且講了一個偈子：「⼀擊忘所知，更不假修持。動容揚古路，不墮悄然機。處處無蹤跡，聲⾊外威儀。諸⽅達道者，咸⾔上上機。」「一擊忘所知，更不假修持。」瓦礫擊到竹子，剎那間悟到本性。本性不是修來的，本性在凡不減，在聖不增。修行是把包覆本心本性的執著修掉、破掉，就像鏡子沾了灰塵髒污，所以照不清楚，修行是把鏡子的灰塵髒污除掉，而不是去造一面新鏡子。「動容揚古路」，古路就是本性作用的道路，心是古佛，一舉一動、行住坐臥，都是古佛在作用，都不離開本性。「不墮悄然機。處處無蹤跡，聲色外威儀」，沒有形相的心，就以動作語言來表達它。空沒有形相，以色、以現象來表達真空的作用。所以色即是空，空即是色，色空不二。「諸方達道者，咸言上上機。」每個悟道的人都知道這是向上一路。本性本空，依本性而起作用，就是向上一路。\\t靜坐不離開祖師用功的原則：屏息諸緣，勿生一念，不思善、不思惡，如何是我本來面目？現在就用「迴光返照、返聞自性」的參禪方法來幫助自己放下、破掉執著。先眼睛不看、耳朵不聽，外面不干擾了，再來處理內心的妄想習氣。如果外面的因緣沒有離，就看不到念頭起來，也就無法對治妄念。每當念頭起來，都不相應它，一次又一次不相應，妄念起來的習氣力量就會慢慢減退。\\t修行要有精進心、長遠心，羅馬不是一天造成，不是靜坐多久就能成道證果，要破執著、除習氣不是那麼容易。但是迴光返照這個方法用熟了，心慢慢收斂，日常生活當中就會減少很多煩惱、減少很多攀緣的力量，生活就會慢慢改變。所以自己試著用功看看，練習作主。\\t\\n第⾴8靜坐參禪-2  修行一定要修定，否則修到某個程度就無法更深入。修定最好的方法就是靜坐，所以靜坐的方法是修行能不能進步的重要關鍵。你聽經聞法或是看經典、看祖師的公案語錄，你不一定懂，但是你可以慢慢學。但是坐禪是一開始就要做對，因為如果一開始就做錯，可能這輩子都做錯。這不是小事，是關於自己每天實質的用功。\\t靜坐的目的一個是要定心，一個是要開悟。用功一定是靜中養成，動中磨練。如果修行人沒有每天花時間靜坐，是非常業餘的修行人。每天至少坐兩支香，例如早上起來盥洗後坐一支香，睡覺前再坐一支香。如果真的時間很緊，至少每天坐一支香，保持心不散掉。\\t古代不管哪個宗派的修行人都是要靜坐，現今卻是外道靜坐都比佛教徒好，很多佛教徒只是讀一些經典、聽一些開示，就以為自己在修行。外道興盛就是因為佛教徒知見偏差，懶惰不用功。靜坐是修行的核心，不靜坐就不是佛教修行。很多佛教徒念念佛、持持咒，或是學一點禪宗的道理，就想在日常生活當中磨練。沒有靜坐的功夫，動當中磨練是不可能的事。\\t靜坐要吃點苦頭，腿會酸麻脹痛，這些要忍耐，修行不要怕吃苦。大方向講，修行是要了生死、度眾生，小方向是讓心能夠定、清淨，對世間生活有所幫助。修行是心性的提升、人格的提升，所以從開始修行就能得利益，而不是等到未來。如果修行卻沒有得到利益，自己就要檢討是不是修錯了。如果修對了，心性提升，現象就提升，關係就提升。物以類聚，人以群分，你心散發出來的能量是什麼，就決定什麼人會跟你相處、什麼事會發生在你身上。要改變提升必須努力，也要有正確的方向，並且真正去做，一分正確的耕耘才有一分正確的收穫。\\t修行知見要正確，方法要對，還要有福報。不花時間來修正、提升自己的人格，讓心定、清淨，就要花更多時間去處理自己心不定、人格缺陷所造成的人生問題。一般人只在面臨不好的結果時才後悔，都已經來不及了。修行人要把自己當成農夫，自己的生命就是一畝田，要選對第⾴9的種子、播種在對的地方，要耕耘、施肥、澆水、修剪枝葉，到最後才能收穫想要的果實。要怎麼收穫先怎麼栽，就是佛法講的因果道理，種因得果，修因感果。\\t世間人都追求幸福圓滿，但是很少人真正幸福圓滿。家家有本難念的經，每個人的執著不一樣，障礙就不一樣。生活需要經營，生命需要經營，成道證果也需要經營。克念作聖，要克制自己的妄想習氣才能成聖。不管世間或出世間，各方面都是要努力經營才能有所成就，要起對的心念，還要去具體實踐。俗話講，事實勝於雄辯，從事實就可以了解自己的努力夠不夠。如果無法先知先覺，起碼要後知後覺，要從自己面臨的人時事地物來反觀、檢討自己做得夠不夠。\\t事實對，代表你可能對。事實不對，代表你一定不對。好比一個人開公司，他說自己的公司產品很好，員工很努力、很優秀，各方面都很好，但是公司都虧錢。有這樣的道理嗎？現象有問題，就要反省自己哪裡有錯。人要有自知之明，知道自己的缺點在哪裡，才能夠修正。如果沒有自知之明，起碼要從事實去了解自己的問題，也就是要見境知心、罪己求責。發生在自己身上的，就是自己的責任，難道不應該檢討自己嗎？檢討別人，把責任、罪過推給別人，這是愚痴。世間多少難耐事，自作自受，何妨大肚包容。\\t修行很實際，不是空洞的理論。先靜當中用功，等靜坐的功夫可以了，再從平靜、寧靜的心出來，面對自己造的業，慢慢去轉化。有人問：每天在這邊打坐，事情就會變好嗎？一個人心念的能量狀態就決定什麼人、什麼事會發生在他身上。靜坐時，心平靜、寧靜，能量、心念不斷提升，所相應的結果就不同，周圍人事的連接性就不一樣，所以靜坐是改變結果的因。\\t很多人問我：現在世界局勢很亂，怎麼辦？我就告訴他：多靜坐。如果每個人的心都平靜、寧靜、清淨，人跟人之間、國家跟國家之間少矛盾衝突，世界就太平了。凡事都要從因做起，果上求是沒有用的。不要小看靜坐，它是自我能量提升跟調整很重要的一個工具。所以最好每天都打坐，把心定下來用功，這樣對修行好，對人生也好。當修行的知第⾴10見對了、用功對了，自然有好的結果、好的改變。\\t凡夫有煩惱、有生死，是因為心當中有我執、法執、習氣，所以用功一定要破除我執、法執、習氣，否則講得再殊勝都沒有用，修行統統會落空。清淨本心被我執、法執、習氣包覆，把清淨本心變成無明心、妄想心，心不清楚、不明白，不知道一合相的道理，就會往外面求。所以無明是一種狀態，造成無明狀態的就是我執、法執、習氣，所以要破無明就必須把我執、法執、習氣破掉。無明是妄想心的狀態，般若是清淨本心現前的狀態。當清淨本心現前，就能夠體現出諸法實相。清淨本心在哪裡，諸法實相就在哪裡，此岸就是彼岸，這樣的狀態稱為般若現前。我們稱般若是智慧，這是清淨本心自然存在的一種狀態。修行就是要把我執、法執、習氣破掉，把無明破掉，讓般若現前。\\t凡夫都是以我執為核心，去定義周圍的人時事地物，再跟自己的定義互動。所以凡夫覺得自己聽到事實、看到事實，事實上是看到、聽到自己的定義。真正的事實已經存在，它不需要定義。事實的存在就是最高的因果，就是最圓滿的呈現。佛法講「如是」，「如是」是不一不二，一切法都是按照因果緣起而呈現、而消失，而不是按照人的定義。人依於我執而認為事實應該是這樣，但真正的事實是那樣，這當中有距離，人就會在這個距離當中補上情緒。因為我執習氣很強烈，所以一方面無法接受事實，一方面又放不下自己的定義，就卡在這裡動彈不得。縱使很努力要改變，但是是基於我執習氣的基礎去改變，就連事實都摸不到，怎麼改？\\t佛法告訴我們要放下，放下假的，放下自己的執著習氣，真的就現前。依據這個真，才會成就真的事實，才能真正改變。不管學禪、學淨、學律、學密，修行的核心是破執著、除習氣，就是把人格缺陷處理掉，否則就是迷信、走錯路。講某某宗派或法門很殊勝，就像講某一款的清潔劑或打掃工具好用，如果講半天卻沒有真正去掃，地上還是一樣髒。\\t只要有我執、法執、習氣，心就作不了主。人生氣、煩惱的時候，必須有人勸解、逛街、吃東西、玩樂等等，才能慢慢放下。這就是作不第⾴11了主，需要依靠。人生很現實，所以修行也要很現實。修行不是迷信，重點不是念佛、持咒、參禪、觀想種種法門，所有宗派的修行都是要除掉我執、法執、習氣，讓心作主。縱使開悟了，自己累劫以來的習氣、人格的缺陷不會因為開悟而不見，還是要依據自己悟到的道理，慢慢把我執、法執、習氣放下。\\t人在日常生活當中很忙，沒有能力察覺自己有很多妄想。靜坐時眼睛閉起來、耳朵不聽，才有機會發現自己心不受控的程度。每一個念頭都可能成為行動的指令，變成人生當中的事實。況且能量不滅，每一個念頭只要出現，縱使它沒有導向具體的行動，它還是在，能量在、法界也在、因果也在。假設你有五個念頭，你依照最強的念頭行動，但其他四個念頭也在發展成為你未來的人生。例如你現在想去逛街、吃飯、喝咖啡，可能你選擇喝咖啡而沒有去逛街、吃飯，但是這些念頭已經在，它們對你有吸引力，今天想、明天想、後天再想，慢慢這些念頭就變成事實，你就會去做。\\t如果同一類型的念頭不斷起、不斷累積，將來這一類型積聚的能量就對你有吸引力。每一個念頭就像一根繩子把你牽過去，你不得不去，你把自己投生在那裡、投射在那裡。凡夫每一刻都在製造自己的未來，現在起了念頭，沒有面對它、消化它，它就存在法界裡，將來累積最強能量的地方，自然就變成自己的下輩子。所以碰到未來的自己、碰到因果的自己是很正常的，輪迴是理所當然的事。所以禪宗講要無念，就是心起作用，當下作用的能量當下就消化掉。現在起念，心空、不攀緣，起的念頭變成當下的事實，而不是未來的事實，就是即因即果、即作即了、即空即有。\\t祖師講：「但復本時性，更無一法新。」用功是要恢復本性，不是有什麼新的東西。要恢復本性，就是要把包覆清淨本心的一層層無明破掉，把造成無明的我執、法執、習氣破掉。由於清淨本心被無明包覆，對人對事就有定義，就會扭曲事實，所以必須把自己的定義放下，呈現出事實。佛法講放下不是消極，是很積極放下自己對事實的錯誤認識。凡夫依據錯誤的認識去努力，就會落空。因為被無明包覆的妄心起再多第⾴12作用，都無非是業、無非是罪，所以心先不動。而要把妄動的心收斂、定下來不動，最好的方法就是靜坐。\\t修行是入流。清淨本心被無明包覆住，不斷起是非人我的作用，不斷心外求法，這是出流。能生出作用的只有清淨本心，無明不能生，我執習氣不能生。清淨本心生出來的都是實相，但是只要我執、法執、無明在，就會把實相扭曲。只要清淨本心被無明包覆住的狀態沒有解決，不管是參禪、念佛、持咒、觀想、數息，都是出流，只是用功時心比較定，流得比較少、比較短。不用功時就一直流出去，不斷往外面攀緣的力量很強。這樣心有時定、有時不定，根本問題沒有解決，再怎麼修都成生滅法。禪宗參禪不是修定，是要破執著，呈現出本性。再以這個不生滅的本性為因，圓成果地修證，圓成佛道。沒有依不生滅性為因，成就的是生滅法，就是定、不定，好、不好。\\t這個迴光返照的參禪方法是用心所生出來的參禪作用，破掉心被無明包覆住的狀態。就像鑽木取火，這個參禪方法就是用來鑽的小木頭，我執習氣就是被鑽的大木頭。這樣不斷鑽火，等火燒起來，小木頭、大木頭都燒掉、空了，本性就現前。\\t這個參禪方法很簡單，首先眼睛張開，但是不要相應外面，把眼睛對外面現象、境界接觸的力量收回來，心往後面看去。這個把看的力量收回來的過程不是想像的，是實質的心理操作。眼睛要看東西必須是心起作用，好比是探照燈一樣，現在要往後面照過去，眼神是收攝的，可以說是用意念往後面看，這樣會有抽離面前現象的感覺。不需要觀想，就很直接一個念頭轉過來往後面看，就是本來探照燈往前照，現在往後照。可以用一個形容，好像背後有人跟著你，雖然你往前走，但是背後長個眼睛，一直在注意後面那個人的動靜。\\t再來，眼睛閉起來，一樣用剛剛迴光返照往後面看的力量去看，往後面看的同時，參：「誰是我本來面目？」、「誰？」重點在「誰？」有這個疑問，參才有力量。\\t迴光返照好比逆水行舟、乘風破浪，尖的船頭把浪分開，這樣不斷第⾴13地破。只要清淨本心是被無明包覆住的狀態，人往外面攀緣的力量就很大，好像長江黃河的水不斷往下游沖，流下來的水有慣性的力量，就是習力。參禪參不到東西就是因為習力太強。百煉成鋼，熟能生巧。剛開始不熟，參不進去是正常的事情。如果還做不到，就先念佛或持咒，等心比較定的時候再繼續練習。先一個步驟、一個步驟練習，一層一層深入。靜當中用功久了，慢慢地，動當中不管是講話、走路、吃飯、讀書…，自然而然都可以迴光返照。\\t你一直迴光返照、參，到達沒有念頭的狀態時，就是到達話頭。你就是用這樣的狀態去起念，所以沒有起念的時候就是這樣的狀態。這時心如虛空，但無明還沒破，你就安住在沒有念頭的這個地方。安住得越久，定力就越深越廣。如果話頭不見了，意思就是又開始依於無明包覆本心的狀態起念頭，這樣話頭就又迷失掉。這時就再繼續迴光返照、參，再回到沒有念頭的話頭的狀態，又再安住話頭。久而久之，無明習氣就越來越薄，因緣時節到了，就能參破話頭悟道了。\\t參禪以開悟為主。開悟了，不生滅性現前，才能依不生滅性而解脫、成道證果。佛法的解脫就是放下自己心生出來的煩惱、習氣、執著、妄想、定義而得到自在，所以解脫不是從外面得到。「諸佛從心得解脫，心者清淨明無垢。」自己心清淨沒有染著，就解脫。修行好比跑障礙賽，跑道當中的柵欄是自己設的，不是別人。所以解脫不是從佛求，不是從上帝求，不是從師父求，是從自己求。\\t要達到自在、解脫，必須接受事實，不對事實加油添醋、下定義，才能依據現存的事實去改變事實。如果只能接受自己的定義，是無法改變事實，只會永遠在自己的定義裡面輪迴，不斷重複錯誤。執著習氣沒有變，人格特質沒有變，問題就不斷重複，縱使空間、條件、人事、環境不同，遭遇的問題本質都差不多。\\t人生不要白過，要為自己的生命提升做一點事。把惡緣變成善緣、善緣變成清淨緣、清淨緣變成法緣，一步一步提升。可以把人生當成一個試練場，考試不過就繼續回來這裡，考試過關就能升級。解脫不求人，解鈴還須繫鈴人，自己就是繫鈴人。\\t第⾴14靜坐參禪-3 參禪如登頂，未⾄不可停。光影⾨頭路，稍歇害⼈命。掉臂話頭處，破參從此⾏。因地若清淨，佛道⽅可成。有我執、法執就有生死，我執、法執是無明的根源。無明就像一盞燈或是一顆摩尼寶珠被遮住，光明無法顯現，或是像一面鏡子被塵垢染污，照不出什麼。凡夫的清淨本心被執著習氣包覆住，變成無明的狀態，依據這樣的狀態起出的種種作用基本上都不離開執著習氣，所以起心動念，無非是業，無非是罪。\\t生死輪迴的根就是我執、法執，換個角度講，我執、法執等於無明。什麼是我執？什麼事情都是我認為、我覺得、我要、我不要…，都是依「我」為核心起念。有我執就有煩惱，就有分段生死，也就是會讓人一輩子又一輩子來，生了又死、死了又生。什麼是法執？一切現象存在都是心生出來，是心緣起出來的因果。如果執著現象為實在有，像認為電腦是實在有、桌子是實在有、房間是實在有…，就是法執。法是指一切現象，法執包括對物理現象的執著，也包括對觀念知見、對佛法的執著，可以說法執是我執的延伸，我執跟法執就是修行要處理的根本問題。這個問題沒有破，生死輪迴不會停止。\\t佛法各個宗派都是要破除這個問題，把心變清淨，再從這邊開始修，就是《楞嚴經》講的，以「無⽣滅性為本修因，然後圓成果地修證。」清淨本性現前為清淨的因，才能慢慢成就解脫的果，乃至於成就佛果。只要我執、法執沒有破，無明沒有破，清淨本心還是我執、法執包覆住，就會扭曲心生出來的作用。縱使很用功精進，還是有很強烈向外攀緣、分割實相的念頭，還是認為有外在的人時事地物。用功的時候心慢慢定，不用功的時候就又退掉了。這樣就是修生滅法。\\t清淨本心被無明包覆住的這個狀態，就好比流浪漢不知道家在哪裡。流浪漢沒有回到家，就像沒有回到清淨本心，這樣念佛、誦經、持咒、拜佛等等用功，就像流浪漢買種種家具、電器，在外面裝潢房子，就算布置得再好，風雨一來都沒有了。所以修行要回到家，就是要開第⾴15悟，讓本具的清淨心現前。清淨本心沒有顯，被無明包覆住，就是生死的根。所以修一個宗派如果沒有破我執、法執、無明，修行力度是不夠的，知見和修行方向就是錯的。好比去看病，醫生不知道病因就隨便開藥，那就是庸醫了。\\t佛是大醫王，告訴我們怎麼找到生死的根源，並且要把這個生死根源破掉。為了這個目的而有佛教各個宗派，所以修什麼宗派不是問題。但是如果一個宗派的知見、用功的次第不是要破我執、法執，就是迷信、外道。這是很嚴肅的事情。經常有人講：某某法師這麼講、某某居士這麼講、某某高僧大德這麼講…。每個人講一套，公說公有理，婆說婆有理，這樣就不是佛法，而是凡夫的世界。於修證上，不管天臺宗、華嚴宗、禪宗、淨土宗、密宗…，所有祖師悟到的知見、所成就的知見基本上是一致的。諸佛菩薩、祖師同一鼻孔出氣，知見是一樣的，證道就是這樣，沒有證道才會各說各話。\\t修行就是要把我執、法執破掉，這不是到西方極樂世界就能解決，而是解決這個問題才能到西方極樂世界。因果要清楚。佛法的智慧是修證出來的，沒有修證，所做的參禪、念佛、持咒種種加行都是空的，所學的知見都是空的，沒有實質意義。面對自己的習氣執著才是真正的修行，所有佛法是方便、助緣，來幫助我們把我執、法執、無明的問題解決掉。\\t早期禪宗修行人根器好，一言半句或是一個動作就可以破執著開悟，後來的人根器不好了，才慢慢演變要參禪。把我執法執破掉，呈現出本心，這是參禪的基本要求。清淨本心起的作用是一合相、實相；當清淨本心被我執、法執包覆住，一樣是清淨本心才能生出作用，我執、法執是不能生作用的，但是我執、法執會造成實相的扭曲，把一合相、實相變成內外、能所種種二元對立。簡單講，師父說法、諸位聽法，大眾對我講的法產生認識、定義，每個人的定義不同，所以師父講了一個法卻變成很多種法。我講的是從我出來的，你認為師父講什麼是從你出來的，這樣就有二元對立、矛盾衝突。如果大眾的心是清淨的，雖然呈現出不同面相的事實，但都是事實，沒有扭曲相。\\t第⾴16《圓覺經》講：「⼀切菩薩及末世眾⽣，應當遠離⼀切幻化虛妄境界。」清淨本心被我執、法執包覆，對於實相有錯誤的認識，這個認識是虛幻的，要把它放下。為什麼會有這個狀態？因為有一個造成這個虛幻狀態的「我」，就是被我執包覆的妄想心，這個也要放下。能夠放下這個妄想心的背後還有一個智慧在，這是虛幻的智慧，這個虛幻的智慧一樣是妄想心的作用。所以虛妄的境界、虛妄的心、虛妄的智、虛妄的空，都是心被我執無明包覆住而作用出來的結果。什麼是虛妄的空？就是無明狀態，頑空，是被無明包覆住的本心沒有起作用的狀態。參到話頭就是這個狀態，就像水沒有流出來，但是心被包覆的狀態是在的。所以參到話頭還沒有開悟，必須參破話頭，才能顯現出清淨本心。\\t參禪就是用妄想心起的作用來破掉心的執著，慢慢溯流而上。參到話頭時，就好比黏在這個無明包覆的狀態外面，在這裡就沒有念頭，因為妄想心還沒有起作用，就有空、無量的感覺。但是仍在無明狀態，清淨本心還沒有顯，所以還沒有開悟。如果把話頭這裡作為安身立命的地方，除非有很大的福報、很強的道心，否則執著破不了，無法開悟。因為已經認為這裡是家了，就住在這裡不動，想要參破的心就沒有了。這是一個嚴重的事情。\\t用功要有正確的知見。既然花時間和精神修，就要有相對的成果，如果很認真修卻變成外道就可惜了。不去破我執、法執而修很多法，就變成外道，所以不是出家、在家、受三皈五戒、用功就是佛教徒。從古到今，從東到西，南傳、大乘、密教那麼多修行人，為什麼成道的人那麼少？大部分人的修行知見是不對的；縱使修行知見是對的，修行的力度不夠、生死心不夠切，都在生滅當中做文章。\\t用功的時候看到佛、看到光、看到種種殊勝境界，這些都不能依靠，因為都是清淨本心被無明包覆住而生出來的狀態。一個人心當中有很多貪嗔癡慢疑邪見，卻看到很殊勝的境界，這不是他的妄心相應的嗎？只有心很平靜、寧靜、清淨，無我相、無人相、無眾生相、無壽者相，才能顯現一合相的實相。所以禪宗講佛來佛斬、魔來魔斬，只要我執、法執在，心是被包覆住的，所有相都是虛妄相，不是真實的佛，也第⾴17不是真實的魔。一切有為法，如夢幻泡影，如露亦如電。這些虛幻都要放下，才能呈現出真。\\t我們用「迴光返照、返聞自性」的方法參禪破執著，好比一艘船要溯流而上，船首是尖的，不斷往前把浪分開，把妄想分開。迴光返照的力量在，妄想就進不來。用心所起的作用，反聞心的源頭、找生命的源頭。找到源頭了，這個地方沒有念頭，不必再參問「誰？」就住在這個地方。能安住在這裡，代表安住的力量和起妄念的習氣力量可以抵消，好比船定下來的力量能抵消水流往前沖的力量。安住得越久，往外面攀緣的習氣力量就越來越減少，所以能夠安住在話頭就等於在破出流攀緣的力量。如果安住話頭的力量小、時間少，縱使悟道了，還是要回來處理心出流的力量。\\t從心生出作用，好比水從源頭流出來。如果沒有回到源頭，用清淨本心被無明包覆住的這個狀態念佛，不知道誰在念佛、不知道這句佛號從哪裡來，只是接受念佛的念頭而念佛，就好像站在河流中間不動，沒有到源頭。必須回到源頭，證到、親見父母未生之前的面目，才能真正作主，才能當心的主人。成道的人生死能作主，要到哪裡去、要和哪裡相應都可以，而不是只能被業力牽引，不得不煩惱，不得不生氣，不得不想那個、做這個，作不了主。\\t用功的知見對了，修行方法對了，到是早晚的問題。如果知見不對、修行方法不對，到是沒有機會，像祖師講的：「大似西行卻向東。」雖然嚮往西方，卻往東方跑，就很可惜了。靜坐可以念佛、持咒、觀想、數息或參禪，目的都是要破我執、法執，這是佛法的根本。你要念佛就念到底，要參禪就參到底，要觀想就觀想到底，就一個方法到底。什麼是到底？無明破掉。《楞嚴經》講，念佛要念到「都攝六根，淨念相繼，入三摩地。」你眼睛張開，先往後面看，迴光返照，不攀緣，一直往內進，不相應外面的現象，這才是都攝六根。如果念佛妄想很多，就是控制不了無明、妄想的心，因為還在水流的半途，不是在源頭。越靠近源頭，妄念越少，心越定。\\t有人問青原行思禪師：「如何是祖師西來意？」青原行思禪師回第⾴18答：「廬陵米，作麼價？」沒有親到廬陵，就不知道廬陵的米價是什麼。修行就是要親證，你還沒到，跟你講，你也不懂。宋朝宏智正覺禪師為這個公案寫了一個頌：「明⽉蘆花⽔茫茫，激箭⾵⾈破冷光。親到廬陵酬⽶價，那時開⼝便相當。」「明月蘆花水茫茫」，就是清淨本心被無明妄想包覆住的不清楚狀態。「激箭風舟破冷光」，船首是尖的，箭頭也是尖的，船乘風破浪把水排開，就像箭頭一射，把光、空氣破開。就像迴光返照、返聞自性時，就把執著妄想破開。「親到廬陵酬米價，那時開口便相當。」你親自到廬陵去問米價多少，那時候開口才相當。\\t用這個迴光返照的參禪方法破執著是很有力量，所以一定要學會。一般念佛、持咒、觀想、數息等方法，就像背著水的源頭，定在這裡，避免被流下來的妄想沖走，但是不知道妄想從哪裡來。慢慢心越來越定、越來越成熟，就像慢慢後退接近源頭。迴光返照參禪不是要定在這裡，是用心所起的作用，返照心的源頭，好比面對著源頭溯流而上，作用力量是很不一樣的。\\t靜坐過程中，身體會有種種感受和變化。像酸麻脹痛這些不舒服的現象，都是妄想習氣執著或是生活中的壞習慣造成的障礙。繼續用功，並且放下壞習慣、放下執著，這些現象就會慢慢消失。打坐時，身體可能會有動、癢、輕、重、冷、暖、澀、滑等現象，稱為八觸。例如有些人打坐時身體會搖動，還會顫動、抖動，有這種情況時，可以張開眼睛，心念收攝，或是起來走走路、拜拜佛，再繼續坐。也可以不管它，只要繼續專心，它自然會停。任何現象，無論是看到光、看到佛菩薩、看到鬼、身體搖動或是身體種種感受，只要更加專注就可以克服。\\t\\t靜坐要克服的問題很多，包括：心不清淨、平靜、寧靜，參禪的疑情不在、話頭不在，或是念佛的佛號不在。另外妄想、昏沈、瞌睡是很嚴重的三個問題，如果靜坐時昏沈、瞌睡、妄想習慣了，這輩子的修行就廢掉了。真的就是這麼嚴重！不管是靜坐時念佛、參禪、持咒、觀想或數息，一定要按步就班做，有問題一定要克服，否則問題障在這裡，修行不會進步。\\t第⾴19《四十二章經》當中有一章講，一個出家眾晚上誦《迦葉佛遺教經》，就是迦葉佛往生前講的經。他越誦越悲哀，就起了退心。要用功很難，要起退心很容易。今天起一個「我不想修了」的念頭，就不修了。人懈怠墮落很容易，要提起很難。\\t佛知道了，就問這個出家眾：「你在家裡做什麼？」他說：「我在家裡喜歡彈琴。」佛就問他：「琴弦鬆了會如何？」他說：「彈不出聲音。」佛又問：「琴弦太緊又如何？」他又回答：「琴弦太緊就容易斷掉。」佛又問：「如果琴弦調得剛剛好，不鬆不緊呢？」他就講：「聲音就都剛剛好，很圓滿。」佛就開示：「修行就是要調，鬆緊要得宜。」修行除了要有精進心，還要有長遠心。修行太鬆散，就無法破執著、除習氣。修行太緊、太自責，也不好用功。所以要調。\\t五祖弘忍大師所著的《最上乘論》提到：「⼗地經云：眾⽣身中有⾦剛佛性。」每個眾生都有清淨本心、都有金剛佛性。「猶如⽇輪，體明圓滿，廣⼤無邊。」這個金剛佛性好像日輪，光明圓滿，空無邊、覺無邊。這是一個體證的境界，不是理論，也不是形容詞。「只為五陰⿊雲之所覆，如瓶內燈光不能照輝。」這個金剛佛性被五蘊黑雲所覆蓋，好像瓶子內的燈光不能現前。「⼀切眾⽣清淨之⼼，亦復如是，只為攀緣、妄念、煩惱、諸⾒⿊雲所覆。但能凝然守⼼，妄念不⽣，涅槃法⾃然顯現。」眾生的清淨本心被攀緣、妄想、煩惱種種黑雲所障蔽，如果能夠守住自己的本心，妄念不生，涅槃的法自然會現。本心是清淨的，只因為被妄想無明所遮。就像釋迦牟尼佛悟道時講：「奇哉！奇哉！⼀切眾⽣皆有如來智慧德相，只因妄想執著，不能證得。」\\t仰山慧寂禪師初見溈山靈佑禪師時，他問：「如何是真佛住處？」什麼地方才是真正佛住的地方？溈山就講：「以思無思之妙，返思靈焰之無窮，思盡還源，性相常住，事理不⼆，真佛如如。」這個回答說明參禪的道理：「以思無思之妙，返思靈焰之無窮。」靈焰就是指本心，靈焰無窮就是指本心這個生命源頭可以不斷起作用，作用當下就歸空。參禪就是用心這個生命源頭起出的作用，返照心的源頭。「思盡還源」，思盡了，無明破了，就還源。「性相常住」，境就是相，所以心第⾴20就是境，境就是心，心境不二。本性跟本性作用的相當下都在，就是性相常住的意思。「事理不二」，事跟理不二，當下就是真空妙有。「真佛如如」，清淨本心的空如清淨本心起的作用而不二，空有不二。心空才能夠如一切法，一切法都沒有罣礙。如果心不空、有執著，就會妄分別這個我要、那個我不要、這個不對、那個不對…。所以如如就是指心的空有如性，空能夠如一切現象，而呈現一切現象。\\t這裡講宋朝金陵俞道婆的公案，她是琅邪永起禪師的在家得法弟子。琅邪永起禪師是白雲守端禪師的弟子，和五祖法演禪師是師兄弟。俞道婆是賣油餈為生，平時常跟著信眾到寺廟向琅邪永起禪師參學，琅邪禪師就教她參究臨濟禪師「無位真人」這個話頭。臨濟禪師講：「赤肉團上有一無位真人，常在汝等諸人面門出入。」無位真人就是清淨本心、生命的源頭、佛性的意思。每個人都有本具的清淨心，透過眼耳鼻舌身意去起作用。\\t俞道婆就一心參究：「如何是無位真人？」有一天，她在街上賣油餈，忽然聽到一個乞丐唱蓮花落，就是一種乞討時唱的歌。俞道婆聽到這個乞丐唱：「不因柳毅傳書信，何緣得到洞庭湖？」這個乞丐唱的蓮花落是在講柳毅和洞庭湖龍王三女兒的故事。金陵俞道婆聽到這兩句，就悟道了。她就興奮地把手中裝油餈的盤子摔在地上打破了。她的丈夫在旁邊就瞪她，講：「你發瘋了？」俞道婆就打他一掌，說：「這不是你的境界。」俞道婆就不做生意了，馬上跑去見琅琊永起禪師。\\t琅琊永起禪師一看到她，就問：「那個是無位真人？」知道她開悟了，考考她。俞道婆講：「有⼀無位⼈，六臂三頭努⼒嗔。⼀擘華⼭分兩路，萬年流⽔不知春。」「六臂三頭努力嗔」，這個心沒有形相，但是心可以起出種種相、種種作用。「一掌華山分兩路」，一起心動念，世界就轉換了。悟道的人，十方法界都在他的手掌心，手掌一翻，世界就翻了。心一起作用，世界就變換了。「萬年流水不知春」，心這個生命源頭不斷起出流水，但是不隨著流水而流走。心不斷起作用，但是不隨著心所起的作用、現象而攀緣流轉，隨時安住當下，即作即了。\\t\\t琅琊禪師就給俞道婆印可，從此俞道婆的名聲就很大。她悟道以第⾴21後，只要看到有出家眾經過她的家門口，就叫喚：「兒！兒！」出家眾過來之後要開口，俞道婆就把門關起來。有一天，有一位佛燈守珣禪師，他是佛鑑慧懃禪師的弟子、五祖法演禪師的徒孫，他要去勘驗俞道婆。俞道婆看到守珣禪師，一樣對他叫喚：「兒！兒！」守珣禪師就問：「爺在甚麼處？」你說兒，那父親在哪裡？俞道婆就轉身拜露柱。心沒有形相，心的作用就表現出心在哪裡。\\t俞道婆轉身拜柱子時，守珣禪師一腳把她踏在地上，講：「將謂有多少奇特！」我以為你有多少奇特、厲害的地方，原來就這樣。守珣禪師講完，轉身就要離開。俞道婆很快從地上爬起來，喊：「兒！兒！來，惜你則個。」兒子來，我憐惜你！守珣禪師就一直走不理她。這個公案其實誰也沒有輸、誰也沒有贏。\\t有一天，一個安首座法師來見俞道婆，俞道婆就問：「甚處來？」安首座就講：「德山。」這個德山是住在德山的泰禪師。俞道婆就講：「德山泰乃老婆兒子。」德山泰禪師是我的兒子。安首座就講：「婆是甚人兒子？」俞道婆就講：「被上座一問，直得立地放尿。」我站著就拉尿了。從前面的對答可以看出這位安首座其實沒有開悟，他不懂，只是隨著文句攀緣。俞道婆是居士，不能打法師，也不能對他喝斥，只是用話來應對，這是當居士的困難。「立地放尿」就是葛藤、囉嗦的意思，沒有直入本心。\\t這裡解釋一下開頭師父寫的偈子：「參禪如登頂，未⾄不可停。光影⾨頭路，稍歇害⼈命。掉臂話頭處，破參從此⾏。因地若清淨，佛道⽅可成。」「參禪如登頂，未至不可停。」參禪好比要登到山頂，沒有到是不可以停。所以參禪過程中看到光、看到佛…，看到任何現象都不可以停。「光影門頭路，稍歇害人命。」看到種種現象，這些是光影門頭路。還沒有破執開悟，不要跟現象廝結在一起。一旦妄分別現象，就是妄想、攀緣，就害人命了。\\t「掉臂話頭處」，禪宗祖師講掉臂，手放下來，就是遇到人事都不攀緣的意思。百花叢裡過，片葉不沾身。掉臂話頭處就是迴光返照參話頭；「破參從此行」，破參開悟了，從這邊開始依無生滅性為因，然後第⾴22圓成果地修證。「因地若清淨」，因地若是清淨，「佛道方可成」。因地不清淨，就無法成就佛道，所以要好好用「迴光返照、返聞自性」這個參禪方法用功，讓清淨本心現前，才可能成道證果。\\t用功是自己的事情。修行不是空口說白話，講多殊勝就了事。殊勝天底下多的是，許多外道都有種種神通、感應，但這不是佛法所要的。修行要有依據，有經典的依據、祖師的依據，還要有修證的依據。修證之後要慢慢去驗證它，這樣才可以。\\t契此和尚有一個偈子：「⼿把⻘苗插滿⽥，低頭便⾒⽔中天。六根清淨⽅為道，退步原來是向前。」「手把青苗插滿田，低頭便見水中天」，插秧的時候身體要彎著，水田裡有水，低頭往後看，就會映出天空，就像迴光返照、返聞聞自性，從心所起的作用，返照心的源頭。「六根清淨方為道」，就是入流。「退步原來是向前」，越退就越靠近生命的源頭。\\t\\n第⾴23'"
      ]
     },
     "execution_count": 61,
     "metadata": {},
     "output_type": "execute_result"
    }
   ],
   "source": [
    "pdf_text"
   ]
  },
  {
   "cell_type": "code",
   "execution_count": 63,
   "metadata": {},
   "outputs": [],
   "source": [
    "    # Split the text into chunks\n",
    "    texts = text_splitter.split_text(pdf_text)\n",
    "\n",
    "    # Create a metadata for each chunk\n",
    "    metadatas = [{\"source\": f\"{i}-pl\"} for i in range(len(texts))]\n"
   ]
  },
  {
   "cell_type": "code",
   "execution_count": 64,
   "metadata": {},
   "outputs": [
    {
     "data": {
      "text/plain": [
       "['靜坐參禪-1',\n",
       " '⼀、靜坐的注意事項靜坐是一個定心的方法，靜坐要得力，各方面都要調。調身是調靜坐的姿勢，靜坐時參禪、念佛、持咒、觀想或是數息，則屬於調心。平時要調飲食，飲是流體，食是固體，飲食要均衡。水喝太多，身體會虛、濕氣重、容易酸痛。水喝太少，身體燥氣重，就容易躁動，不容易得定。飲食要清淡一點、少一點，吃東西口味重或是吃太多就容易昏沈。最好吃素，少造殺業，多培養慈悲心。還要調睡眠，睡太少，精神不容易集中。睡太多，人容易生起妄念。\\t靜坐剛開始，姿勢調好之後，就接著調息，就是調呼吸的氣息。做三次吐納，用鼻子吸氣、用嘴巴吐氣，吸得慢、吐得慢。吸氣時觀想乾淨的空氣進到身體內，吐氣時觀想體內的髒空氣都從嘴巴吐出去。這樣的呼吸調整做三次就夠，不必多做，否則容易耗氣，不利身體健康。調息三次後，就開始專心靜坐調心，不管用數息、念佛、參禪、持咒或是修觀行，就是讓心定下來、平靜、寧靜，進而開悟契入空覺。\\t靜坐主要有四種坐姿：雙盤、單盤、散盤、掛腿坐。雙盤就是先將左腳盤到右大腿胯部，右腳再盤到左大腿胯部，佛像都是這樣雙盤。如果做不到，也可以反過來：先把右腳放在左大腿胯部，再把左腳放在右大腿胯部。雙盤的重心比較穩固，所以',\n",
       " '能夠雙盤就盡量雙盤，不能雙盤就單盤。單盤就是左腳放在右大腿上面，或是反過來右腳放左大腳上面。散盤就是兩腳交叉坐。\\t靜坐時不要直接坐在地板上，因為地板濕氣重，不利身體健康。如果沒有大椰墊，可以鋪舊棉被或是榻榻米墊，再坐在上面。雙盤就直接坐在墊子上面，臀部下面不必再墊小坐墊，但是也可以用毛巾或毯子墊一個薄的厚度在臀部下面，因為靜坐到某個程度，臀部的氣容易堵住，墊著薄坐墊能讓氣比較容易通。如果是單盤或散盤，就需要在臀部下面再墊一個小墊子，否則坐時肚子內縮，身體就無法坐直。但是臀部不要坐滿小墊子，只坐前緣。要注意單盤的一個問題，單盤時身體為了平第⾴1衡，很容易坐姿傾斜，慢慢脊椎也會傾斜，所以要盡量坐直。平常在辦公室或是穿裙子等不方便盤腿的情況下，可以採掛腿坐。掛腳坐就是坐在椅子上，上半身保持打坐的姿勢，兩腳打開與肩同寬。兩腳尖平行不打開，否則氣容易散掉。\\t靜坐時身體保持放鬆，不要刻意挺腰、挺胸，否則火氣會上升。但也不能坐腰、含胸拔背，這樣內臟沒有活動空間。可以先整個上身往前彎，再慢慢抬起來。收下顎，舌頭抵住上顎，脖子靠著後領子。再來手結印放在胯部上，如果是右腿在上，就結三昧定印，右手放在左手上',\n",
       " '面。如果是左腿盤上面，就結彌陀印，就是左手放在右手上面。\\t靜坐時不能靠牆，掛腿坐時也不要靠著椅背。偶爾累了或是腰不舒服時靠一下還可以，但是不要經常這樣做，否則長期下來會氣血堵塞，甚至引起吐血或是其他健康問題。靜坐時要穿寬鬆的衣服，這樣方便盤腿。手錶、眼鏡、首飾最好摘下來，免得干擾心念、氣息或是氣血流通。靜坐的環境要單純、安靜、通風，要遠離電視、電話、汽車等噪音。晚上靜坐時，燈全部關掉也可以，但是要小心昏沈瞌睡的問題。可以點小夜燈或是燈調暗一些，燈光要從後面照過來。如果燈光從前面照過來，心容易散亂。\\t靜坐時毛細孔會張開，所以要遠離窗戶、通風口，避免因為被風吹到受寒。要保護好頭部、後頸部、膝蓋等部分。可以用一個蓋腿布把膝蓋包起來保暖，讓血液循環好一點，腿比較不痛，可以坐久一點。最好不要開風扇或是冷氣，如果真的要開就離遠一點，不要直接吹到身體。剛打坐完毛細孔還是張開的狀態，不能洗冷水或喝冷水，平時也少喝冷水。如果濕氣跑進身體，就多拜佛出汗或是喝薑水出汗。\\t靜坐完準備下坐時，眼睛張開，不要急著鬆腿。身體微微搖動，兩手搓熱，稍微按摩一下頭部、臉部和身體，再慢慢把腿鬆開，由上往下按摩。在腳的大拇指',\n",
       " '跟食指中間有一個太衝穴，可以按這個穴，腳的麻痛就很快可以退掉。按摩腿和腳之後，再慢慢起身。因為打坐時心念比較微細，色身也會變得比較微細，所以下坐後色身由細變粗需要有一個過程，不能太快、太粗魯，否則會傷到身體。\\t第⾴2不要在沙發上、床上靜坐，要靜坐用功就在佛堂或是其他安靜的地方。飯後不要馬上靜坐，會影響消化，最好間隔四十分鐘到一個小時再坐。要養成每天靜坐的習慣，例如早上起來盥洗後，如果家裡有佛龕，就在上供點香之後靜坐。點香要用天然的香，自己靜坐時不點香也沒有關係。如果沒有佛龕，早上盥洗後就可以靜坐，讓心平靜、寧靜再去工作。晚上就寢前再坐一支香，讓一天的塵勞能夠化掉、歸零，這樣不容易作夢，睡眠品質更好。當然工作之餘有時間，即使是五分鐘、十分鐘，也可以靜坐閉目養神。\\t每次靜坐的身心狀況、環境狀況不一樣，效果就不一樣。所以不必得失心太重，不管坐得好不好，時間到就靜坐。如果靜坐時昏沈，可以把頭抬高或是鬆鬆肩膀，讓頸部動脈血流順暢一點，腦部比較不會缺氧而昏沈。也可以起來拜佛，等心比較定了，再繼續坐。昏沈可能是飲食問題、睡眠問題或是過去業的問題，不是單一的問題，就需要多方面去調。如果靜坐時妄念很多，',\n",
       " '代表心不受控。可以頭稍微低一點去壓制頸部的動脈，心就會比較定。其實當妄念起來，只要不理它，專心在方法上面用功，妄念就會不見。妄念之所以還在，是因為心繼續起妄念。靜坐參禪如果妄念很多，可以先持咒、念佛或數息，等心比較定了再繼續參禪。要注意：昏沈妄想都會成習慣，所以不能放任不管。\\t工欲善其事，必先利其器。盤腿是要練的，從散盤慢慢練成單盤、再慢慢變成雙盤，不能一直停在單盤、散盤。雖然有人天生腿腳比較好，一下子就可以雙盤，大部分人都是慢慢練來的。但是也不要躁進，否則容易受傷。靜坐時如果對身體有感覺，是由於色蘊不空，對身體的執著還在。有任何身體的感受，不要理會它，專心在方法上用功。心越專注，身體的感受越少。平常也可以拜佛或是多練習打坐，自然能夠坐得更久。雖然靜坐跟成道證果沒有直接關係，但是對於定心、靜心是有幫助的。\\t⼆、「迴光返照、返聞⾃性」的參禪⽅便禪宗是用參禪起疑情來破執著、開悟，這裡教大眾用一個「迴光返照、返聞自性」的參禪方便來參問：「誰是我本來面目？」本來面目就第⾴3是父母未生之前的面目，就是清淨本心，就是念佛的是誰。禪宗講，每個人都有清淨本心，這個清淨本心就是自己父母未生之前的本來面目',\n",
       " '，所以用「誰是我本來面目？」作為話頭，真正不了解「誰是我本來面目」，想要了解而參。\\t「誰是我本來面目？」的這個「誰」，就是讓你能夠看、能夠聽、能夠講話、能夠動作的生命源頭。雖然你邏輯上面了解，但是沒有親自見到，不是真正了解它是誰，它就不在你的控制裡，你的心就是無明、不清楚、不明白，沒有能力作主。所以要知道、證到、親自看到這個「誰」，就是參禪的目的。「誰是我本來面目？」是一個疑問，「誰？」是參的重點。如果參破執著、無明，開悟了，親自看到自己的本心，就會知道這個疑問的答案。不是真正開悟，所謂的答案是被教的、聽過的、自己想出來的，都是我執習氣產生的妄想。\\t這個參禪方法很簡單：眼睛張開往前面看，再把眼睛閉起來往後面看。不要想、不要認為、不要猜，就是單純地同一個介面往前看、再往後看。眼睛能夠往前看，也能夠往後看，也能夠往左看、往右看，都是心起作用才能看清楚。如果眼睛在看，但是心不往那個方向作用，就不能看清楚。能夠看的這個能力是從自己的本來面目出來的，現在往後看，要把能夠看的這個源頭找到，就是把心往外面看的力量收回來往裡面看。\\t人往前面看就會攀緣，往後面看就有收斂的效果。一般人都是心外求法往外面看',\n",
       " '，執著人時事地物，迷掉了，好像水的源頭一直流水流出去。現在要逆流而上，回到源頭，所以迴光返照，眼睛閉起來往後面看。沒有其他想法，不用觀照、觀想，也不要管身體酸麻脹痛冷熱癢搖等感受，只要專心，這些現象就會不見。就是專心直接往後看，要把後面的本來面目看穿、看透。\\t往後面看的同時，參：「誰？」心裡面起「誰？」就好，不用念出聲音。「誰？」是一個疑問，這個疑可以讓你往生命的源頭推進。練習時間久了，就能越靠近生命的源頭。這個簡易的參禪方法跟念佛、持咒一樣簡單、容易用功，靜坐當中可以用，動當中也可以用。日常生活中第⾴4眼睛張開往後面看，就和眼睛閉起來往後面看的感覺一樣，有收的力量。所以靜坐用這個方法一段時間後，日常生活中，心比較不會隨著境界跑掉。\\t當面對一切人時事地物，如果不扭曲它、定義它，它就是一個實相。但是凡夫的清淨本心被無明包覆住，這一層執著、無明是介於本心跟實相中間，這一層如果沒有破掉，人就有種種感受、經驗、邏輯、定義，就造成二元對立的虛幻、迷失的狀態，就會心外求法。你用本心被無明包覆的狀態去念佛、持咒、數息或觀想，把心定在佛號、咒、數字或觀想上面，水往外流的速度會變慢，無明、迷惑的距離沒有',\n",
       " '那麼深厚。但是不用功時，水流的速度又加快了。所以念佛、持咒、數息或觀想屬於生滅法，就像燈有時亮、有時不亮，定、不定，無法真正把包覆清淨本心的無明破掉。參禪是逆流，是主動地用心生出來的作用返照心的源頭，把執著無明破掉，找到「誰是我本來面目？」的這個本心。\\t迴光返照好比逆水行舟，不斷往心的源頭靠近。當參到沒有念頭，心好像虛空一般，這個地方稱為話頭。話頭就是話的頭、念的頭，念的頭就是沒有念，這時好比站在家門口往裡面看，但是還沒進到家裡，所以參到話頭還沒有開悟，我執還沒有破。這時候不要再起疑參，否則就是頭上安頭。參到話頭就安住話頭、照顧話頭，就是保持這個沒有念頭的狀態。如果習氣現前，妄念又起來，就再迴光返照，再參到沒有念頭的話頭，再安住話頭。一直這樣起疑、參、參到話頭、安住話頭，執著無明就會越來越薄，心會慢慢收斂、定下來。平常對人對事時，心也會比較平靜、寧靜。等因緣時節到了，話頭破了，執著無明破了，就悟道了。\\t這個方法的重點在於破執悟道，所以需要有很強的心力去參。參太久心力會變弱，所以參的時間設定在四十或四十五分鐘即可。如果靜坐剛開始心不定，無法直接迴光返照、參，可以先持一個短咒、念佛號或是數',\n",
       " '息二到五分鐘，等心比較定了，再來用迴光返照。如果參禪過了四十五分鐘，還想繼續用功，可以改成觀想，觀照自己的念頭起伏，等到體力恢復了再繼續參。如果念頭又很多了，可以用數息、持咒或念佛把第⾴5念頭收掉。就是這樣交互用功。\\t有疑情，參禪才有力量。當迴光返照到一個程度動不了，好像車子陷在泥坑裡，就必須有拉力來拉，疑情就有拉動的效果。疑情越深，悟得就越深。大疑大悟，小疑小悟，不疑不悟，所以要把「誰？」變成最強烈的念頭。如果參「誰？」的力量小於我執、習氣、貪嗔癡的力量，就無法降伏妄念。參「誰？」的這個作用在，就能破執著，心就慢慢收斂。這個方法很容易用功，開悟之前要這樣用功，開悟之後要保任開悟的狀態直到成道證果，也是要這樣用功。\\t三、迴光返照、返聞⾃性的重要修行先不相應外面的人時事地物，也就是見到境界心不動。達磨祖師《二入四行觀》講，凡夫的心被「客塵煩惱所覆，不能顯了」，所以要「凝住壁觀，無⾃無他，凡聖等⼀。」就是心如木石，看到任何境界都不起心動念。凡夫的清淨本心被無明包覆住，所以起心動念，無非是業、無非是罪。這個根本問題沒有解決，怎麼用功都是生滅。\\t《楞嚴經》講，要以無生滅性為因地心，才能圓成果地',\n",
       " '修證，才能成就佛道。所以禪宗用參禪破執著，把我執、無明破掉，無生滅性才能現前。修行首先不跟境界對應，看到、聽到、想到什麼，都不起念。一步一步從境界退，退到身、退到心，再從心慢慢退，把被無明包覆的妄想心所產生的虛妄作用一層一層破掉。\\t六祖惠能大師對惠明法師的開示可以說明迴光返照的道理。六祖講：「汝既為法⽽來，可屏息諸緣，勿⽣⼀念，吾為汝說。」什麼是屏息諸緣？凡夫起心動念，都是妄想心生出的二元對立作用、攀緣作用，都是依據「我」而有的「我認為、我覺得、我看、我要、我不要…」，這個「我」是清淨本心被無明包覆而產生的虛妄狀態。《金剛經》講「無我相、無人相、無眾生相、無壽者相」，就是沒有「我」的觀念，清淨本心才會顯現出來。\\t靜坐時眼睛閉起來、耳朵不聽，就是隔絕自己習慣攀緣的現象。有人講：「我在日常生活當中用功。」沒有靜坐用功、心不定，想在日常第⾴6生活當中磨練，就是泥裡洗土塊，越洗越髒。這樣是妄想、懶惰，不是用功。佛、菩薩、祖師都是靜當中用功之後，才在動當中磨練。所以靜坐用功先和外在隔開，再來對付心裡面的習氣。如果妄念一直起來，代表無法控制自己的習氣執著，心作不了主，只是妄想、執著、習氣的奴隸，還',\n",
       " '不是心的主人。\\t六祖叫惠明「屏息諸緣，勿生一念」，惠明就把心平靜下來，不往外面看。六祖就再進一步講：「不思善，不思惡，正與麼時，那個是明上座本來⾯⽬？」惠明就悟道了。唐朝的祖師幾句話就可以迴光返照、找到生命的源頭，我們把祖師破執著、悟道的過程，變成實際的自我鍛鍊：先屏息諸緣，離開對外面現象的攀緣，靜下來用功。再來要做到勿生一念，再來不思善、不思惡，就是不打妄想。再把不思善、不思惡這一層破掉，破掉能所的執著，才知道「如何是我的本來面目」。\\t香嚴智閑禪師悟道的公案，也和父母未生之前的面目有關。香嚴智閑禪師出家後在百丈禪師座下參學，因為他很聰明，攀緣的習氣太強，所以參禪不得。等到百丈禪師圓寂了，他就去找他的師兄溈山靈佑禪師。溈山對他講：「我聞汝在百丈先師處，問一答十，問十答百。此是汝聰明靈利，意解識想，生死根本。父母未生時，試道一句看。」意解識想就是以清淨本心被無明包覆的狀態去想，這是生死的根本。\\t溈山叫香嚴智閑禪師講父母未生之前的面目是什麼，他不知道怎麼回答，就回到寮房，把讀過的文字從頭看一遍，想要找答案。即使看再多經典理論，不是自己證到的就不是自己的。香嚴智閑禪師找不到答案，就感歎：畫餅',\n",
       " '不可充饑。他請求溈山靈佑禪師跟他講破答案，但是溈山講：「我若說似汝，汝已後罵我去。我說的是我的，終不干汝事。」於是他很灰心，就把他看的書全部燒掉，哭著離開溈山，打算從此做一個普通出家人過日子就好。\\t他在行腳時看到南陽慧忠國師寺廟的遺迹，就在這裡住下來。有一天在除草時，他隨手把一塊瓦礫丟掉，打到一叢竹子，發出聲音，這一刹那他就悟道了。因為他之前被溈山考驗，所學的都用不上，灰心了，原來執著的東西都放下了、空掉了，所以這個聲音刹那間讓他醒過來。第⾴7用功到真正放下的程度，例如安住話頭久了，可能聽到一個聲音、聽到一句話、或是走路跌倒，就是開悟的契機，就悟道了。\\t香嚴智閑禪師悟道後就趕快焚香，朝著溈山的方向禮拜，感謝溈山沒有為他說破。並且講了一個偈子：「⼀擊忘所知，更不假修持。動容揚古路，不墮悄然機。處處無蹤跡，聲⾊外威儀。諸⽅達道者，咸⾔上上機。」「一擊忘所知，更不假修持。」瓦礫擊到竹子，剎那間悟到本性。本性不是修來的，本性在凡不減，在聖不增。修行是把包覆本心本性的執著修掉、破掉，就像鏡子沾了灰塵髒污，所以照不清楚，修行是把鏡子的灰塵髒污除掉，而不是去造一面新鏡子。「動容揚古路」，古路就是本性',\n",
       " '作用的道路，心是古佛，一舉一動、行住坐臥，都是古佛在作用，都不離開本性。「不墮悄然機。處處無蹤跡，聲色外威儀」，沒有形相的心，就以動作語言來表達它。空沒有形相，以色、以現象來表達真空的作用。所以色即是空，空即是色，色空不二。「諸方達道者，咸言上上機。」每個悟道的人都知道這是向上一路。本性本空，依本性而起作用，就是向上一路。\\t靜坐不離開祖師用功的原則：屏息諸緣，勿生一念，不思善、不思惡，如何是我本來面目？現在就用「迴光返照、返聞自性」的參禪方法來幫助自己放下、破掉執著。先眼睛不看、耳朵不聽，外面不干擾了，再來處理內心的妄想習氣。如果外面的因緣沒有離，就看不到念頭起來，也就無法對治妄念。每當念頭起來，都不相應它，一次又一次不相應，妄念起來的習氣力量就會慢慢減退。\\t修行要有精進心、長遠心，羅馬不是一天造成，不是靜坐多久就能成道證果，要破執著、除習氣不是那麼容易。但是迴光返照這個方法用熟了，心慢慢收斂，日常生活當中就會減少很多煩惱、減少很多攀緣的力量，生活就會慢慢改變。所以自己試著用功看看，練習作主。',\n",
       " '第⾴8靜坐參禪-2',\n",
       " '修行一定要修定，否則修到某個程度就無法更深入。修定最好的方法就是靜坐，所以靜坐的方法是修行能不能進步的重要關鍵。你聽經聞法或是看經典、看祖師的公案語錄，你不一定懂，但是你可以慢慢學。但是坐禪是一開始就要做對，因為如果一開始就做錯，可能這輩子都做錯。這不是小事，是關於自己每天實質的用功。\\t靜坐的目的一個是要定心，一個是要開悟。用功一定是靜中養成，動中磨練。如果修行人沒有每天花時間靜坐，是非常業餘的修行人。每天至少坐兩支香，例如早上起來盥洗後坐一支香，睡覺前再坐一支香。如果真的時間很緊，至少每天坐一支香，保持心不散掉。\\t古代不管哪個宗派的修行人都是要靜坐，現今卻是外道靜坐都比佛教徒好，很多佛教徒只是讀一些經典、聽一些開示，就以為自己在修行。外道興盛就是因為佛教徒知見偏差，懶惰不用功。靜坐是修行的核心，不靜坐就不是佛教修行。很多佛教徒念念佛、持持咒，或是學一點禪宗的道理，就想在日常生活當中磨練。沒有靜坐的功夫，動當中磨練是不可能的事。\\t靜坐要吃點苦頭，腿會酸麻脹痛，這些要忍耐，修行不要怕吃苦。大方向講，修行是要了生死、度眾生，小方向是讓心能夠定、清淨，對世間生活有所幫助。修行是心性的提升、',\n",
       " '人格的提升，所以從開始修行就能得利益，而不是等到未來。如果修行卻沒有得到利益，自己就要檢討是不是修錯了。如果修對了，心性提升，現象就提升，關係就提升。物以類聚，人以群分，你心散發出來的能量是什麼，就決定什麼人會跟你相處、什麼事會發生在你身上。要改變提升必須努力，也要有正確的方向，並且真正去做，一分正確的耕耘才有一分正確的收穫。\\t修行知見要正確，方法要對，還要有福報。不花時間來修正、提升自己的人格，讓心定、清淨，就要花更多時間去處理自己心不定、人格缺陷所造成的人生問題。一般人只在面臨不好的結果時才後悔，都已經來不及了。修行人要把自己當成農夫，自己的生命就是一畝田，要選對第⾴9的種子、播種在對的地方，要耕耘、施肥、澆水、修剪枝葉，到最後才能收穫想要的果實。要怎麼收穫先怎麼栽，就是佛法講的因果道理，種因得果，修因感果。\\t世間人都追求幸福圓滿，但是很少人真正幸福圓滿。家家有本難念的經，每個人的執著不一樣，障礙就不一樣。生活需要經營，生命需要經營，成道證果也需要經營。克念作聖，要克制自己的妄想習氣才能成聖。不管世間或出世間，各方面都是要努力經營才能有所成就，要起對的心念，還要去具體實踐。俗話講，',\n",
       " '事實勝於雄辯，從事實就可以了解自己的努力夠不夠。如果無法先知先覺，起碼要後知後覺，要從自己面臨的人時事地物來反觀、檢討自己做得夠不夠。\\t事實對，代表你可能對。事實不對，代表你一定不對。好比一個人開公司，他說自己的公司產品很好，員工很努力、很優秀，各方面都很好，但是公司都虧錢。有這樣的道理嗎？現象有問題，就要反省自己哪裡有錯。人要有自知之明，知道自己的缺點在哪裡，才能夠修正。如果沒有自知之明，起碼要從事實去了解自己的問題，也就是要見境知心、罪己求責。發生在自己身上的，就是自己的責任，難道不應該檢討自己嗎？檢討別人，把責任、罪過推給別人，這是愚痴。世間多少難耐事，自作自受，何妨大肚包容。\\t修行很實際，不是空洞的理論。先靜當中用功，等靜坐的功夫可以了，再從平靜、寧靜的心出來，面對自己造的業，慢慢去轉化。有人問：每天在這邊打坐，事情就會變好嗎？一個人心念的能量狀態就決定什麼人、什麼事會發生在他身上。靜坐時，心平靜、寧靜，能量、心念不斷提升，所相應的結果就不同，周圍人事的連接性就不一樣，所以靜坐是改變結果的因。\\t很多人問我：現在世界局勢很亂，怎麼辦？我就告訴他：多靜坐。如果每個人的心都平靜、寧靜',\n",
       " '、清淨，人跟人之間、國家跟國家之間少矛盾衝突，世界就太平了。凡事都要從因做起，果上求是沒有用的。不要小看靜坐，它是自我能量提升跟調整很重要的一個工具。所以最好每天都打坐，把心定下來用功，這樣對修行好，對人生也好。當修行的知第⾴10見對了、用功對了，自然有好的結果、好的改變。\\t凡夫有煩惱、有生死，是因為心當中有我執、法執、習氣，所以用功一定要破除我執、法執、習氣，否則講得再殊勝都沒有用，修行統統會落空。清淨本心被我執、法執、習氣包覆，把清淨本心變成無明心、妄想心，心不清楚、不明白，不知道一合相的道理，就會往外面求。所以無明是一種狀態，造成無明狀態的就是我執、法執、習氣，所以要破無明就必須把我執、法執、習氣破掉。無明是妄想心的狀態，般若是清淨本心現前的狀態。當清淨本心現前，就能夠體現出諸法實相。清淨本心在哪裡，諸法實相就在哪裡，此岸就是彼岸，這樣的狀態稱為般若現前。我們稱般若是智慧，這是清淨本心自然存在的一種狀態。修行就是要把我執、法執、習氣破掉，把無明破掉，讓般若現前。\\t凡夫都是以我執為核心，去定義周圍的人時事地物，再跟自己的定義互動。所以凡夫覺得自己聽到事實、看到事實，事實上是看到、聽',\n",
       " '到自己的定義。真正的事實已經存在，它不需要定義。事實的存在就是最高的因果，就是最圓滿的呈現。佛法講「如是」，「如是」是不一不二，一切法都是按照因果緣起而呈現、而消失，而不是按照人的定義。人依於我執而認為事實應該是這樣，但真正的事實是那樣，這當中有距離，人就會在這個距離當中補上情緒。因為我執習氣很強烈，所以一方面無法接受事實，一方面又放不下自己的定義，就卡在這裡動彈不得。縱使很努力要改變，但是是基於我執習氣的基礎去改變，就連事實都摸不到，怎麼改？\\t佛法告訴我們要放下，放下假的，放下自己的執著習氣，真的就現前。依據這個真，才會成就真的事實，才能真正改變。不管學禪、學淨、學律、學密，修行的核心是破執著、除習氣，就是把人格缺陷處理掉，否則就是迷信、走錯路。講某某宗派或法門很殊勝，就像講某一款的清潔劑或打掃工具好用，如果講半天卻沒有真正去掃，地上還是一樣髒。\\t只要有我執、法執、習氣，心就作不了主。人生氣、煩惱的時候，必須有人勸解、逛街、吃東西、玩樂等等，才能慢慢放下。這就是作不第⾴11了主，需要依靠。人生很現實，所以修行也要很現實。修行不是迷信，重點不是念佛、持咒、參禪、觀想種種法門，所有宗派的',\n",
       " '修行都是要除掉我執、法執、習氣，讓心作主。縱使開悟了，自己累劫以來的習氣、人格的缺陷不會因為開悟而不見，還是要依據自己悟到的道理，慢慢把我執、法執、習氣放下。\\t人在日常生活當中很忙，沒有能力察覺自己有很多妄想。靜坐時眼睛閉起來、耳朵不聽，才有機會發現自己心不受控的程度。每一個念頭都可能成為行動的指令，變成人生當中的事實。況且能量不滅，每一個念頭只要出現，縱使它沒有導向具體的行動，它還是在，能量在、法界也在、因果也在。假設你有五個念頭，你依照最強的念頭行動，但其他四個念頭也在發展成為你未來的人生。例如你現在想去逛街、吃飯、喝咖啡，可能你選擇喝咖啡而沒有去逛街、吃飯，但是這些念頭已經在，它們對你有吸引力，今天想、明天想、後天再想，慢慢這些念頭就變成事實，你就會去做。\\t如果同一類型的念頭不斷起、不斷累積，將來這一類型積聚的能量就對你有吸引力。每一個念頭就像一根繩子把你牽過去，你不得不去，你把自己投生在那裡、投射在那裡。凡夫每一刻都在製造自己的未來，現在起了念頭，沒有面對它、消化它，它就存在法界裡，將來累積最強能量的地方，自然就變成自己的下輩子。所以碰到未來的自己、碰到因果的自己是很正常的，輪',\n",
       " '迴是理所當然的事。所以禪宗講要無念，就是心起作用，當下作用的能量當下就消化掉。現在起念，心空、不攀緣，起的念頭變成當下的事實，而不是未來的事實，就是即因即果、即作即了、即空即有。\\t祖師講：「但復本時性，更無一法新。」用功是要恢復本性，不是有什麼新的東西。要恢復本性，就是要把包覆清淨本心的一層層無明破掉，把造成無明的我執、法執、習氣破掉。由於清淨本心被無明包覆，對人對事就有定義，就會扭曲事實，所以必須把自己的定義放下，呈現出事實。佛法講放下不是消極，是很積極放下自己對事實的錯誤認識。凡夫依據錯誤的認識去努力，就會落空。因為被無明包覆的妄心起再多第⾴12作用，都無非是業、無非是罪，所以心先不動。而要把妄動的心收斂、定下來不動，最好的方法就是靜坐。\\t修行是入流。清淨本心被無明包覆住，不斷起是非人我的作用，不斷心外求法，這是出流。能生出作用的只有清淨本心，無明不能生，我執習氣不能生。清淨本心生出來的都是實相，但是只要我執、法執、無明在，就會把實相扭曲。只要清淨本心被無明包覆住的狀態沒有解決，不管是參禪、念佛、持咒、觀想、數息，都是出流，只是用功時心比較定，流得比較少、比較短。不用功時就一直流出',\n",
       " '去，不斷往外面攀緣的力量很強。這樣心有時定、有時不定，根本問題沒有解決，再怎麼修都成生滅法。禪宗參禪不是修定，是要破執著，呈現出本性。再以這個不生滅的本性為因，圓成果地修證，圓成佛道。沒有依不生滅性為因，成就的是生滅法，就是定、不定，好、不好。\\t這個迴光返照的參禪方法是用心所生出來的參禪作用，破掉心被無明包覆住的狀態。就像鑽木取火，這個參禪方法就是用來鑽的小木頭，我執習氣就是被鑽的大木頭。這樣不斷鑽火，等火燒起來，小木頭、大木頭都燒掉、空了，本性就現前。\\t這個參禪方法很簡單，首先眼睛張開，但是不要相應外面，把眼睛對外面現象、境界接觸的力量收回來，心往後面看去。這個把看的力量收回來的過程不是想像的，是實質的心理操作。眼睛要看東西必須是心起作用，好比是探照燈一樣，現在要往後面照過去，眼神是收攝的，可以說是用意念往後面看，這樣會有抽離面前現象的感覺。不需要觀想，就很直接一個念頭轉過來往後面看，就是本來探照燈往前照，現在往後照。可以用一個形容，好像背後有人跟著你，雖然你往前走，但是背後長個眼睛，一直在注意後面那個人的動靜。\\t再來，眼睛閉起來，一樣用剛剛迴光返照往後面看的力量去看，往後面看的同時',\n",
       " '，參：「誰是我本來面目？」、「誰？」重點在「誰？」有這個疑問，參才有力量。\\t迴光返照好比逆水行舟、乘風破浪，尖的船頭把浪分開，這樣不斷第⾴13地破。只要清淨本心是被無明包覆住的狀態，人往外面攀緣的力量就很大，好像長江黃河的水不斷往下游沖，流下來的水有慣性的力量，就是習力。參禪參不到東西就是因為習力太強。百煉成鋼，熟能生巧。剛開始不熟，參不進去是正常的事情。如果還做不到，就先念佛或持咒，等心比較定的時候再繼續練習。先一個步驟、一個步驟練習，一層一層深入。靜當中用功久了，慢慢地，動當中不管是講話、走路、吃飯、讀書…，自然而然都可以迴光返照。\\t你一直迴光返照、參，到達沒有念頭的狀態時，就是到達話頭。你就是用這樣的狀態去起念，所以沒有起念的時候就是這樣的狀態。這時心如虛空，但無明還沒破，你就安住在沒有念頭的這個地方。安住得越久，定力就越深越廣。如果話頭不見了，意思就是又開始依於無明包覆本心的狀態起念頭，這樣話頭就又迷失掉。這時就再繼續迴光返照、參，再回到沒有念頭的話頭的狀態，又再安住話頭。久而久之，無明習氣就越來越薄，因緣時節到了，就能參破話頭悟道了。\\t參禪以開悟為主。開悟了，不生滅性現前，才',\n",
       " '能依不生滅性而解脫、成道證果。佛法的解脫就是放下自己心生出來的煩惱、習氣、執著、妄想、定義而得到自在，所以解脫不是從外面得到。「諸佛從心得解脫，心者清淨明無垢。」自己心清淨沒有染著，就解脫。修行好比跑障礙賽，跑道當中的柵欄是自己設的，不是別人。所以解脫不是從佛求，不是從上帝求，不是從師父求，是從自己求。\\t要達到自在、解脫，必須接受事實，不對事實加油添醋、下定義，才能依據現存的事實去改變事實。如果只能接受自己的定義，是無法改變事實，只會永遠在自己的定義裡面輪迴，不斷重複錯誤。執著習氣沒有變，人格特質沒有變，問題就不斷重複，縱使空間、條件、人事、環境不同，遭遇的問題本質都差不多。\\t人生不要白過，要為自己的生命提升做一點事。把惡緣變成善緣、善緣變成清淨緣、清淨緣變成法緣，一步一步提升。可以把人生當成一個試練場，考試不過就繼續回來這裡，考試過關就能升級。解脫不求人，解鈴還須繫鈴人，自己就是繫鈴人。\\t第⾴14靜坐參禪-3',\n",
       " '參禪如登頂，未⾄不可停。光影⾨頭路，稍歇害⼈命。掉臂話頭處，破參從此⾏。因地若清淨，佛道⽅可成。有我執、法執就有生死，我執、法執是無明的根源。無明就像一盞燈或是一顆摩尼寶珠被遮住，光明無法顯現，或是像一面鏡子被塵垢染污，照不出什麼。凡夫的清淨本心被執著習氣包覆住，變成無明的狀態，依據這樣的狀態起出的種種作用基本上都不離開執著習氣，所以起心動念，無非是業，無非是罪。\\t生死輪迴的根就是我執、法執，換個角度講，我執、法執等於無明。什麼是我執？什麼事情都是我認為、我覺得、我要、我不要…，都是依「我」為核心起念。有我執就有煩惱，就有分段生死，也就是會讓人一輩子又一輩子來，生了又死、死了又生。什麼是法執？一切現象存在都是心生出來，是心緣起出來的因果。如果執著現象為實在有，像認為電腦是實在有、桌子是實在有、房間是實在有…，就是法執。法是指一切現象，法執包括對物理現象的執著，也包括對觀念知見、對佛法的執著，可以說法執是我執的延伸，我執跟法執就是修行要處理的根本問題。這個問題沒有破，生死輪迴不會停止。\\t佛法各個宗派都是要破除這個問題，把心變清淨，再從這邊開始修，就是《楞嚴經》講的，以「無⽣滅性為本修因',\n",
       " '，然後圓成果地修證。」清淨本性現前為清淨的因，才能慢慢成就解脫的果，乃至於成就佛果。只要我執、法執沒有破，無明沒有破，清淨本心還是我執、法執包覆住，就會扭曲心生出來的作用。縱使很用功精進，還是有很強烈向外攀緣、分割實相的念頭，還是認為有外在的人時事地物。用功的時候心慢慢定，不用功的時候就又退掉了。這樣就是修生滅法。\\t清淨本心被無明包覆住的這個狀態，就好比流浪漢不知道家在哪裡。流浪漢沒有回到家，就像沒有回到清淨本心，這樣念佛、誦經、持咒、拜佛等等用功，就像流浪漢買種種家具、電器，在外面裝潢房子，就算布置得再好，風雨一來都沒有了。所以修行要回到家，就是要開第⾴15悟，讓本具的清淨心現前。清淨本心沒有顯，被無明包覆住，就是生死的根。所以修一個宗派如果沒有破我執、法執、無明，修行力度是不夠的，知見和修行方向就是錯的。好比去看病，醫生不知道病因就隨便開藥，那就是庸醫了。\\t佛是大醫王，告訴我們怎麼找到生死的根源，並且要把這個生死根源破掉。為了這個目的而有佛教各個宗派，所以修什麼宗派不是問題。但是如果一個宗派的知見、用功的次第不是要破我執、法執，就是迷信、外道。這是很嚴肅的事情。經常有人講：某某法師',\n",
       " '這麼講、某某居士這麼講、某某高僧大德這麼講…。每個人講一套，公說公有理，婆說婆有理，這樣就不是佛法，而是凡夫的世界。於修證上，不管天臺宗、華嚴宗、禪宗、淨土宗、密宗…，所有祖師悟到的知見、所成就的知見基本上是一致的。諸佛菩薩、祖師同一鼻孔出氣，知見是一樣的，證道就是這樣，沒有證道才會各說各話。\\t修行就是要把我執、法執破掉，這不是到西方極樂世界就能解決，而是解決這個問題才能到西方極樂世界。因果要清楚。佛法的智慧是修證出來的，沒有修證，所做的參禪、念佛、持咒種種加行都是空的，所學的知見都是空的，沒有實質意義。面對自己的習氣執著才是真正的修行，所有佛法是方便、助緣，來幫助我們把我執、法執、無明的問題解決掉。\\t早期禪宗修行人根器好，一言半句或是一個動作就可以破執著開悟，後來的人根器不好了，才慢慢演變要參禪。把我執法執破掉，呈現出本心，這是參禪的基本要求。清淨本心起的作用是一合相、實相；當清淨本心被我執、法執包覆住，一樣是清淨本心才能生出作用，我執、法執是不能生作用的，但是我執、法執會造成實相的扭曲，把一合相、實相變成內外、能所種種二元對立。簡單講，師父說法、諸位聽法，大眾對我講的法產生認識、定',\n",
       " '義，每個人的定義不同，所以師父講了一個法卻變成很多種法。我講的是從我出來的，你認為師父講什麼是從你出來的，這樣就有二元對立、矛盾衝突。如果大眾的心是清淨的，雖然呈現出不同面相的事實，但都是事實，沒有扭曲相。\\t第⾴16《圓覺經》講：「⼀切菩薩及末世眾⽣，應當遠離⼀切幻化虛妄境界。」清淨本心被我執、法執包覆，對於實相有錯誤的認識，這個認識是虛幻的，要把它放下。為什麼會有這個狀態？因為有一個造成這個虛幻狀態的「我」，就是被我執包覆的妄想心，這個也要放下。能夠放下這個妄想心的背後還有一個智慧在，這是虛幻的智慧，這個虛幻的智慧一樣是妄想心的作用。所以虛妄的境界、虛妄的心、虛妄的智、虛妄的空，都是心被我執無明包覆住而作用出來的結果。什麼是虛妄的空？就是無明狀態，頑空，是被無明包覆住的本心沒有起作用的狀態。參到話頭就是這個狀態，就像水沒有流出來，但是心被包覆的狀態是在的。所以參到話頭還沒有開悟，必須參破話頭，才能顯現出清淨本心。\\t參禪就是用妄想心起的作用來破掉心的執著，慢慢溯流而上。參到話頭時，就好比黏在這個無明包覆的狀態外面，在這裡就沒有念頭，因為妄想心還沒有起作用，就有空、無量的感覺。但是仍在無',\n",
       " '明狀態，清淨本心還沒有顯，所以還沒有開悟。如果把話頭這裡作為安身立命的地方，除非有很大的福報、很強的道心，否則執著破不了，無法開悟。因為已經認為這裡是家了，就住在這裡不動，想要參破的心就沒有了。這是一個嚴重的事情。\\t用功要有正確的知見。既然花時間和精神修，就要有相對的成果，如果很認真修卻變成外道就可惜了。不去破我執、法執而修很多法，就變成外道，所以不是出家、在家、受三皈五戒、用功就是佛教徒。從古到今，從東到西，南傳、大乘、密教那麼多修行人，為什麼成道的人那麼少？大部分人的修行知見是不對的；縱使修行知見是對的，修行的力度不夠、生死心不夠切，都在生滅當中做文章。\\t用功的時候看到佛、看到光、看到種種殊勝境界，這些都不能依靠，因為都是清淨本心被無明包覆住而生出來的狀態。一個人心當中有很多貪嗔癡慢疑邪見，卻看到很殊勝的境界，這不是他的妄心相應的嗎？只有心很平靜、寧靜、清淨，無我相、無人相、無眾生相、無壽者相，才能顯現一合相的實相。所以禪宗講佛來佛斬、魔來魔斬，只要我執、法執在，心是被包覆住的，所有相都是虛妄相，不是真實的佛，也第⾴17不是真實的魔。一切有為法，如夢幻泡影，如露亦如電。這些虛幻都要',\n",
       " '放下，才能呈現出真。\\t我們用「迴光返照、返聞自性」的方法參禪破執著，好比一艘船要溯流而上，船首是尖的，不斷往前把浪分開，把妄想分開。迴光返照的力量在，妄想就進不來。用心所起的作用，反聞心的源頭、找生命的源頭。找到源頭了，這個地方沒有念頭，不必再參問「誰？」就住在這個地方。能安住在這裡，代表安住的力量和起妄念的習氣力量可以抵消，好比船定下來的力量能抵消水流往前沖的力量。安住得越久，往外面攀緣的習氣力量就越來越減少，所以能夠安住在話頭就等於在破出流攀緣的力量。如果安住話頭的力量小、時間少，縱使悟道了，還是要回來處理心出流的力量。\\t從心生出作用，好比水從源頭流出來。如果沒有回到源頭，用清淨本心被無明包覆住的這個狀態念佛，不知道誰在念佛、不知道這句佛號從哪裡來，只是接受念佛的念頭而念佛，就好像站在河流中間不動，沒有到源頭。必須回到源頭，證到、親見父母未生之前的面目，才能真正作主，才能當心的主人。成道的人生死能作主，要到哪裡去、要和哪裡相應都可以，而不是只能被業力牽引，不得不煩惱，不得不生氣，不得不想那個、做這個，作不了主。\\t用功的知見對了，修行方法對了，到是早晚的問題。如果知見不對、修行方法不',\n",
       " '對，到是沒有機會，像祖師講的：「大似西行卻向東。」雖然嚮往西方，卻往東方跑，就很可惜了。靜坐可以念佛、持咒、觀想、數息或參禪，目的都是要破我執、法執，這是佛法的根本。你要念佛就念到底，要參禪就參到底，要觀想就觀想到底，就一個方法到底。什麼是到底？無明破掉。《楞嚴經》講，念佛要念到「都攝六根，淨念相繼，入三摩地。」你眼睛張開，先往後面看，迴光返照，不攀緣，一直往內進，不相應外面的現象，這才是都攝六根。如果念佛妄想很多，就是控制不了無明、妄想的心，因為還在水流的半途，不是在源頭。越靠近源頭，妄念越少，心越定。\\t有人問青原行思禪師：「如何是祖師西來意？」青原行思禪師回第⾴18答：「廬陵米，作麼價？」沒有親到廬陵，就不知道廬陵的米價是什麼。修行就是要親證，你還沒到，跟你講，你也不懂。宋朝宏智正覺禪師為這個公案寫了一個頌：「明⽉蘆花⽔茫茫，激箭⾵⾈破冷光。親到廬陵酬⽶價，那時開⼝便相當。」「明月蘆花水茫茫」，就是清淨本心被無明妄想包覆住的不清楚狀態。「激箭風舟破冷光」，船首是尖的，箭頭也是尖的，船乘風破浪把水排開，就像箭頭一射，把光、空氣破開。就像迴光返照、返聞自性時，就把執著妄想破開。「親到廬',\n",
       " '陵酬米價，那時開口便相當。」你親自到廬陵去問米價多少，那時候開口才相當。\\t用這個迴光返照的參禪方法破執著是很有力量，所以一定要學會。一般念佛、持咒、觀想、數息等方法，就像背著水的源頭，定在這裡，避免被流下來的妄想沖走，但是不知道妄想從哪裡來。慢慢心越來越定、越來越成熟，就像慢慢後退接近源頭。迴光返照參禪不是要定在這裡，是用心所起的作用，返照心的源頭，好比面對著源頭溯流而上，作用力量是很不一樣的。\\t靜坐過程中，身體會有種種感受和變化。像酸麻脹痛這些不舒服的現象，都是妄想習氣執著或是生活中的壞習慣造成的障礙。繼續用功，並且放下壞習慣、放下執著，這些現象就會慢慢消失。打坐時，身體可能會有動、癢、輕、重、冷、暖、澀、滑等現象，稱為八觸。例如有些人打坐時身體會搖動，還會顫動、抖動，有這種情況時，可以張開眼睛，心念收攝，或是起來走走路、拜拜佛，再繼續坐。也可以不管它，只要繼續專心，它自然會停。任何現象，無論是看到光、看到佛菩薩、看到鬼、身體搖動或是身體種種感受，只要更加專注就可以克服。\\t\\t靜坐要克服的問題很多，包括：心不清淨、平靜、寧靜，參禪的疑情不在、話頭不在，或是念佛的佛號不在。另外妄想、昏沈',\n",
       " '、瞌睡是很嚴重的三個問題，如果靜坐時昏沈、瞌睡、妄想習慣了，這輩子的修行就廢掉了。真的就是這麼嚴重！不管是靜坐時念佛、參禪、持咒、觀想或數息，一定要按步就班做，有問題一定要克服，否則問題障在這裡，修行不會進步。\\t第⾴19《四十二章經》當中有一章講，一個出家眾晚上誦《迦葉佛遺教經》，就是迦葉佛往生前講的經。他越誦越悲哀，就起了退心。要用功很難，要起退心很容易。今天起一個「我不想修了」的念頭，就不修了。人懈怠墮落很容易，要提起很難。\\t佛知道了，就問這個出家眾：「你在家裡做什麼？」他說：「我在家裡喜歡彈琴。」佛就問他：「琴弦鬆了會如何？」他說：「彈不出聲音。」佛又問：「琴弦太緊又如何？」他又回答：「琴弦太緊就容易斷掉。」佛又問：「如果琴弦調得剛剛好，不鬆不緊呢？」他就講：「聲音就都剛剛好，很圓滿。」佛就開示：「修行就是要調，鬆緊要得宜。」修行除了要有精進心，還要有長遠心。修行太鬆散，就無法破執著、除習氣。修行太緊、太自責，也不好用功。所以要調。\\t五祖弘忍大師所著的《最上乘論》提到：「⼗地經云：眾⽣身中有⾦剛佛性。」每個眾生都有清淨本心、都有金剛佛性。「猶如⽇輪，體明圓滿，廣⼤無邊。」這個金剛',\n",
       " '佛性好像日輪，光明圓滿，空無邊、覺無邊。這是一個體證的境界，不是理論，也不是形容詞。「只為五陰⿊雲之所覆，如瓶內燈光不能照輝。」這個金剛佛性被五蘊黑雲所覆蓋，好像瓶子內的燈光不能現前。「⼀切眾⽣清淨之⼼，亦復如是，只為攀緣、妄念、煩惱、諸⾒⿊雲所覆。但能凝然守⼼，妄念不⽣，涅槃法⾃然顯現。」眾生的清淨本心被攀緣、妄想、煩惱種種黑雲所障蔽，如果能夠守住自己的本心，妄念不生，涅槃的法自然會現。本心是清淨的，只因為被妄想無明所遮。就像釋迦牟尼佛悟道時講：「奇哉！奇哉！⼀切眾⽣皆有如來智慧德相，只因妄想執著，不能證得。」\\t仰山慧寂禪師初見溈山靈佑禪師時，他問：「如何是真佛住處？」什麼地方才是真正佛住的地方？溈山就講：「以思無思之妙，返思靈焰之無窮，思盡還源，性相常住，事理不⼆，真佛如如。」這個回答說明參禪的道理：「以思無思之妙，返思靈焰之無窮。」靈焰就是指本心，靈焰無窮就是指本心這個生命源頭可以不斷起作用，作用當下就歸空。參禪就是用心這個生命源頭起出的作用，返照心的源頭。「思盡還源」，思盡了，無明破了，就還源。「性相常住」，境就是相，所以心第⾴20就是境，境就是心，心境不二。本性跟本性作用的相',\n",
       " '當下都在，就是性相常住的意思。「事理不二」，事跟理不二，當下就是真空妙有。「真佛如如」，清淨本心的空如清淨本心起的作用而不二，空有不二。心空才能夠如一切法，一切法都沒有罣礙。如果心不空、有執著，就會妄分別這個我要、那個我不要、這個不對、那個不對…。所以如如就是指心的空有如性，空能夠如一切現象，而呈現一切現象。\\t這裡講宋朝金陵俞道婆的公案，她是琅邪永起禪師的在家得法弟子。琅邪永起禪師是白雲守端禪師的弟子，和五祖法演禪師是師兄弟。俞道婆是賣油餈為生，平時常跟著信眾到寺廟向琅邪永起禪師參學，琅邪禪師就教她參究臨濟禪師「無位真人」這個話頭。臨濟禪師講：「赤肉團上有一無位真人，常在汝等諸人面門出入。」無位真人就是清淨本心、生命的源頭、佛性的意思。每個人都有本具的清淨心，透過眼耳鼻舌身意去起作用。\\t俞道婆就一心參究：「如何是無位真人？」有一天，她在街上賣油餈，忽然聽到一個乞丐唱蓮花落，就是一種乞討時唱的歌。俞道婆聽到這個乞丐唱：「不因柳毅傳書信，何緣得到洞庭湖？」這個乞丐唱的蓮花落是在講柳毅和洞庭湖龍王三女兒的故事。金陵俞道婆聽到這兩句，就悟道了。她就興奮地把手中裝油餈的盤子摔在地上打破了。她的丈',\n",
       " '夫在旁邊就瞪她，講：「你發瘋了？」俞道婆就打他一掌，說：「這不是你的境界。」俞道婆就不做生意了，馬上跑去見琅琊永起禪師。\\t琅琊永起禪師一看到她，就問：「那個是無位真人？」知道她開悟了，考考她。俞道婆講：「有⼀無位⼈，六臂三頭努⼒嗔。⼀擘華⼭分兩路，萬年流⽔不知春。」「六臂三頭努力嗔」，這個心沒有形相，但是心可以起出種種相、種種作用。「一掌華山分兩路」，一起心動念，世界就轉換了。悟道的人，十方法界都在他的手掌心，手掌一翻，世界就翻了。心一起作用，世界就變換了。「萬年流水不知春」，心這個生命源頭不斷起出流水，但是不隨著流水而流走。心不斷起作用，但是不隨著心所起的作用、現象而攀緣流轉，隨時安住當下，即作即了。\\t\\t琅琊禪師就給俞道婆印可，從此俞道婆的名聲就很大。她悟道以第⾴21後，只要看到有出家眾經過她的家門口，就叫喚：「兒！兒！」出家眾過來之後要開口，俞道婆就把門關起來。有一天，有一位佛燈守珣禪師，他是佛鑑慧懃禪師的弟子、五祖法演禪師的徒孫，他要去勘驗俞道婆。俞道婆看到守珣禪師，一樣對他叫喚：「兒！兒！」守珣禪師就問：「爺在甚麼處？」你說兒，那父親在哪裡？俞道婆就轉身拜露柱。心沒有形相，心的',\n",
       " '作用就表現出心在哪裡。\\t俞道婆轉身拜柱子時，守珣禪師一腳把她踏在地上，講：「將謂有多少奇特！」我以為你有多少奇特、厲害的地方，原來就這樣。守珣禪師講完，轉身就要離開。俞道婆很快從地上爬起來，喊：「兒！兒！來，惜你則個。」兒子來，我憐惜你！守珣禪師就一直走不理她。這個公案其實誰也沒有輸、誰也沒有贏。\\t有一天，一個安首座法師來見俞道婆，俞道婆就問：「甚處來？」安首座就講：「德山。」這個德山是住在德山的泰禪師。俞道婆就講：「德山泰乃老婆兒子。」德山泰禪師是我的兒子。安首座就講：「婆是甚人兒子？」俞道婆就講：「被上座一問，直得立地放尿。」我站著就拉尿了。從前面的對答可以看出這位安首座其實沒有開悟，他不懂，只是隨著文句攀緣。俞道婆是居士，不能打法師，也不能對他喝斥，只是用話來應對，這是當居士的困難。「立地放尿」就是葛藤、囉嗦的意思，沒有直入本心。\\t這裡解釋一下開頭師父寫的偈子：「參禪如登頂，未⾄不可停。光影⾨頭路，稍歇害⼈命。掉臂話頭處，破參從此⾏。因地若清淨，佛道⽅可成。」「參禪如登頂，未至不可停。」參禪好比要登到山頂，沒有到是不可以停。所以參禪過程中看到光、看到佛…，看到任何現象都不可以停。',\n",
       " '「光影門頭路，稍歇害人命。」看到種種現象，這些是光影門頭路。還沒有破執開悟，不要跟現象廝結在一起。一旦妄分別現象，就是妄想、攀緣，就害人命了。\\t「掉臂話頭處」，禪宗祖師講掉臂，手放下來，就是遇到人事都不攀緣的意思。百花叢裡過，片葉不沾身。掉臂話頭處就是迴光返照參話頭；「破參從此行」，破參開悟了，從這邊開始依無生滅性為因，然後第⾴22圓成果地修證。「因地若清淨」，因地若是清淨，「佛道方可成」。因地不清淨，就無法成就佛道，所以要好好用「迴光返照、返聞自性」這個參禪方法用功，讓清淨本心現前，才可能成道證果。\\t用功是自己的事情。修行不是空口說白話，講多殊勝就了事。殊勝天底下多的是，許多外道都有種種神通、感應，但這不是佛法所要的。修行要有依據，有經典的依據、祖師的依據，還要有修證的依據。修證之後要慢慢去驗證它，這樣才可以。\\t契此和尚有一個偈子：「⼿把⻘苗插滿⽥，低頭便⾒⽔中天。六根清淨⽅為道，退步原來是向前。」「手把青苗插滿田，低頭便見水中天」，插秧的時候身體要彎著，水田裡有水，低頭往後看，就會映出天空，就像迴光返照、返聞聞自性，從心所起的作用，返照心的源頭。「六根清淨方為道」，就是入流。「退步',\n",
       " '原來是向前」，越退就越靠近生命的源頭。',\n",
       " '第⾴23']"
      ]
     },
     "execution_count": 64,
     "metadata": {},
     "output_type": "execute_result"
    }
   ],
   "source": [
    "texts"
   ]
  },
  {
   "cell_type": "code",
   "execution_count": 66,
   "metadata": {},
   "outputs": [
    {
     "data": {
      "text/plain": [
       "41"
      ]
     },
     "execution_count": 66,
     "metadata": {},
     "output_type": "execute_result"
    }
   ],
   "source": [
    "len(texts)"
   ]
  },
  {
   "cell_type": "code",
   "execution_count": 72,
   "metadata": {},
   "outputs": [
    {
     "data": {
      "text/plain": [
       "'代表心不受控。可以頭稍微低一點去壓制頸部的動脈，心就會比較定。其實當妄念起來，只要不理它，專心在方法上面用功，妄念就會不見。妄念之所以還在，是因為心繼續起妄念。靜坐參禪如果妄念很多，可以先持咒、念佛或數息，等心比較定了再繼續參禪。要注意：昏沈妄想都會成習慣，所以不能放任不管。\\t工欲善其事，必先利其器。盤腿是要練的，從散盤慢慢練成單盤、再慢慢變成雙盤，不能一直停在單盤、散盤。雖然有人天生腿腳比較好，一下子就可以雙盤，大部分人都是慢慢練來的。但是也不要躁進，否則容易受傷。靜坐時如果對身體有感覺，是由於色蘊不空，對身體的執著還在。有任何身體的感受，不要理會它，專心在方法上用功。心越專注，身體的感受越少。平常也可以拜佛或是多練習打坐，自然能夠坐得更久。雖然靜坐跟成道證果沒有直接關係，但是對於定心、靜心是有幫助的。\\t⼆、「迴光返照、返聞⾃性」的參禪⽅便禪宗是用參禪起疑情來破執著、開悟，這裡教大眾用一個「迴光返照、返聞自性」的參禪方便來參問：「誰是我本來面目？」本來面目就第⾴3是父母未生之前的面目，就是清淨本心，就是念佛的是誰。禪宗講，每個人都有清淨本心，這個清淨本心就是自己父母未生之前的本來面目'"
      ]
     },
     "execution_count": 72,
     "metadata": {},
     "output_type": "execute_result"
    }
   ],
   "source": [
    "texts[5]"
   ]
  },
  {
   "cell_type": "code",
   "execution_count": 76,
   "metadata": {},
   "outputs": [],
   "source": [
    "pdf_library = FAISS.from_texts(texts, embedding)"
   ]
  },
  {
   "cell_type": "code",
   "execution_count": 77,
   "metadata": {},
   "outputs": [],
   "source": [
    "pdf_retriever = pdf_library.as_retriever()"
   ]
  },
  {
   "cell_type": "code",
   "execution_count": 78,
   "metadata": {},
   "outputs": [],
   "source": [
    "pdf_retriever_query = '何謂參禪？ 請用中文回答'\n",
    "pdf_retriever_query2 = '何謂修行？ 請用中文回答'"
   ]
  },
  {
   "cell_type": "code",
   "execution_count": 79,
   "metadata": {},
   "outputs": [],
   "source": [
    "pdf_results = qa.invoke(pdf_retriever_query)"
   ]
  },
  {
   "cell_type": "code",
   "execution_count": 80,
   "metadata": {},
   "outputs": [
    {
     "name": "stdout",
     "output_type": "stream",
     "text": [
      "{'query': '何謂參禪？ 請用中文回答', 'result': ' 參禪是指參與禪宗的修行，通常指的是坐禪冥想。透過冥想來觀照自己內心的想法，達到心靈的平靜和覺醒。禪宗的修行強調實踐和親身體驗，而非僅僅是理解概念。參禪是一種內省的修行方式，可以幫助人們更好地了解自己，平靜心境，提升覺悟。'}\n"
     ]
    }
   ],
   "source": [
    "print(pdf_results)"
   ]
  },
  {
   "cell_type": "code",
   "execution_count": 1,
   "metadata": {},
   "outputs": [],
   "source": [
    "from langchain.prompts import PromptTemplate\n"
   ]
  },
  {
   "cell_type": "code",
   "execution_count": 5,
   "metadata": {},
   "outputs": [],
   "source": [
    "    prompt_template = \"\"\"Use the following pieces of context to answer the question at the end.\n",
    "    If you don't know the answer, just say that you dont know, don't try to make up an answer.\n",
    "    \n",
    "    {context}\n",
    "    \n",
    "    Question: {question}\n",
    "    Answer in {language_choice}:\n",
    "    \"\"\"\n",
    "    \n",
    "    PROMPT = PromptTemplate(\n",
    "        template=prompt_template, input_variables=[\"language_choice\"],\n",
    "    )\n",
    "    \n",
    "    languageDefined= PROMPT.format(language_choice=\"French\", context=\"{context}\", question=\"{question}\")"
   ]
  },
  {
   "cell_type": "code",
   "execution_count": 6,
   "metadata": {},
   "outputs": [
    {
     "name": "stdout",
     "output_type": "stream",
     "text": [
      "Use the following pieces of context to answer the question at the end.\n",
      "If you don't know the answer, just say that you dont know, don't try to make up an answer.\n",
      "\n",
      "{context}\n",
      "\n",
      "Question: {question}\n",
      "Answer in French:\n",
      "\n"
     ]
    }
   ],
   "source": [
    "print(languageDefined)"
   ]
  },
  {
   "cell_type": "code",
   "execution_count": 7,
   "metadata": {},
   "outputs": [
    {
     "data": {
      "text/plain": [
       "str"
      ]
     },
     "execution_count": 7,
     "metadata": {},
     "output_type": "execute_result"
    }
   ],
   "source": [
    "type(languageDefined)"
   ]
  },
  {
   "cell_type": "code",
   "execution_count": 8,
   "metadata": {},
   "outputs": [],
   "source": [
    "from langchain.chains import (\n",
    "    ConversationalRetrievalChain,\n",
    ")"
   ]
  },
  {
   "cell_type": "code",
   "execution_count": null,
   "metadata": {},
   "outputs": [],
   "source": [
    "    chain = ConversationalRetrievalChain.from_llm(\n",
    "        #ChatOpenAI(api_key=openai_api_key, model=\"gpt-4\"),\n",
    "        ChatOllama(model=chat_model_name),\n",
    "        chain_type=\"stuff\",\n",
    "        combine_docs_chain_kwargs=chain_type_kwargs,\n",
    "        retriever=docsearch.as_retriever(),\n",
    "        memory=memory,\n",
    "        return_source_documents=True,\n",
    "    )"
   ]
  },
  {
   "cell_type": "code",
   "execution_count": 12,
   "metadata": {},
   "outputs": [
    {
     "name": "stdout",
     "output_type": "stream",
     "text": [
      "Note: you may need to restart the kernel to use updated packages.\n",
      "Requirement already satisfied: langchain-community in ./.venv/lib/python3.11/site-packages (0.0.29)\n",
      "Requirement already satisfied: PyYAML>=5.3 in ./.venv/lib/python3.11/site-packages (from langchain-community) (6.0.1)\n",
      "Requirement already satisfied: SQLAlchemy<3,>=1.4 in ./.venv/lib/python3.11/site-packages (from langchain-community) (2.0.28)\n",
      "Requirement already satisfied: aiohttp<4.0.0,>=3.8.3 in ./.venv/lib/python3.11/site-packages (from langchain-community) (3.9.3)\n",
      "Requirement already satisfied: dataclasses-json<0.7,>=0.5.7 in ./.venv/lib/python3.11/site-packages (from langchain-community) (0.5.14)\n",
      "Requirement already satisfied: langchain-core<0.2.0,>=0.1.33 in ./.venv/lib/python3.11/site-packages (from langchain-community) (0.1.36)\n",
      "Requirement already satisfied: langsmith<0.2.0,>=0.1.0 in ./.venv/lib/python3.11/site-packages (from langchain-community) (0.1.22)\n",
      "Requirement already satisfied: numpy<2,>=1 in ./.venv/lib/python3.11/site-packages (from langchain-community) (1.26.4)\n",
      "Requirement already satisfied: requests<3,>=2 in ./.venv/lib/python3.11/site-packages (from langchain-community) (2.31.0)\n",
      "Requirement already satisfied: tenacity<9.0.0,>=8.1.0 in ./.venv/lib/python3.11/site-packages (from langchain-community) (8.2.3)\n",
      "Requirement already satisfied: aiosignal>=1.1.2 in ./.venv/lib/python3.11/site-packages (from aiohttp<4.0.0,>=3.8.3->langchain-community) (1.3.1)\n",
      "Requirement already satisfied: attrs>=17.3.0 in ./.venv/lib/python3.11/site-packages (from aiohttp<4.0.0,>=3.8.3->langchain-community) (23.2.0)\n",
      "Requirement already satisfied: frozenlist>=1.1.1 in ./.venv/lib/python3.11/site-packages (from aiohttp<4.0.0,>=3.8.3->langchain-community) (1.4.1)\n",
      "Requirement already satisfied: multidict<7.0,>=4.5 in ./.venv/lib/python3.11/site-packages (from aiohttp<4.0.0,>=3.8.3->langchain-community) (6.0.5)\n",
      "Requirement already satisfied: yarl<2.0,>=1.0 in ./.venv/lib/python3.11/site-packages (from aiohttp<4.0.0,>=3.8.3->langchain-community) (1.9.4)\n",
      "Requirement already satisfied: marshmallow<4.0.0,>=3.18.0 in ./.venv/lib/python3.11/site-packages (from dataclasses-json<0.7,>=0.5.7->langchain-community) (3.21.1)\n",
      "Requirement already satisfied: typing-inspect<1,>=0.4.0 in ./.venv/lib/python3.11/site-packages (from dataclasses-json<0.7,>=0.5.7->langchain-community) (0.9.0)\n",
      "Requirement already satisfied: jsonpatch<2.0,>=1.33 in ./.venv/lib/python3.11/site-packages (from langchain-core<0.2.0,>=0.1.33->langchain-community) (1.33)\n",
      "Requirement already satisfied: packaging<24.0,>=23.2 in ./.venv/lib/python3.11/site-packages (from langchain-core<0.2.0,>=0.1.33->langchain-community) (23.2)\n",
      "Requirement already satisfied: pydantic<3,>=1 in ./.venv/lib/python3.11/site-packages (from langchain-core<0.2.0,>=0.1.33->langchain-community) (2.6.3)\n",
      "Requirement already satisfied: orjson<4.0.0,>=3.9.14 in ./.venv/lib/python3.11/site-packages (from langsmith<0.2.0,>=0.1.0->langchain-community) (3.9.15)\n",
      "Requirement already satisfied: charset-normalizer<4,>=2 in ./.venv/lib/python3.11/site-packages (from requests<3,>=2->langchain-community) (3.3.2)\n",
      "Requirement already satisfied: idna<4,>=2.5 in ./.venv/lib/python3.11/site-packages (from requests<3,>=2->langchain-community) (3.6)\n",
      "Requirement already satisfied: urllib3<3,>=1.21.1 in ./.venv/lib/python3.11/site-packages (from requests<3,>=2->langchain-community) (2.2.1)\n",
      "Requirement already satisfied: certifi>=2017.4.17 in ./.venv/lib/python3.11/site-packages (from requests<3,>=2->langchain-community) (2024.2.2)\n",
      "Requirement already satisfied: typing-extensions>=4.6.0 in ./.venv/lib/python3.11/site-packages (from SQLAlchemy<3,>=1.4->langchain-community) (4.10.0)\n",
      "Requirement already satisfied: greenlet!=0.4.17 in ./.venv/lib/python3.11/site-packages (from SQLAlchemy<3,>=1.4->langchain-community) (3.0.3)\n",
      "Requirement already satisfied: jsonpointer>=1.9 in ./.venv/lib/python3.11/site-packages (from jsonpatch<2.0,>=1.33->langchain-core<0.2.0,>=0.1.33->langchain-community) (2.4)\n",
      "Requirement already satisfied: annotated-types>=0.4.0 in ./.venv/lib/python3.11/site-packages (from pydantic<3,>=1->langchain-core<0.2.0,>=0.1.33->langchain-community) (0.6.0)\n",
      "Requirement already satisfied: pydantic-core==2.16.3 in ./.venv/lib/python3.11/site-packages (from pydantic<3,>=1->langchain-core<0.2.0,>=0.1.33->langchain-community) (2.16.3)\n",
      "Requirement already satisfied: mypy-extensions>=0.3.0 in ./.venv/lib/python3.11/site-packages (from typing-inspect<1,>=0.4.0->dataclasses-json<0.7,>=0.5.7->langchain-community) (1.0.0)\n",
      "Note: you may need to restart the kernel to use updated packages.\n"
     ]
    }
   ],
   "source": [
    "%pip install -qU langchain-openai\n",
    "%pip install langchain-community"
   ]
  },
  {
   "cell_type": "code",
   "execution_count": 4,
   "metadata": {},
   "outputs": [],
   "source": [
    "import os\n",
    "from dotenv import load_dotenv"
   ]
  },
  {
   "cell_type": "code",
   "execution_count": 5,
   "metadata": {},
   "outputs": [],
   "source": [
    "load_dotenv()\n",
    "\n",
    "os.environ['OPENAI_API_KEY'] = os.getenv(\"OPENAI_API_KEY\")"
   ]
  },
  {
   "cell_type": "code",
   "execution_count": 6,
   "metadata": {},
   "outputs": [],
   "source": [
    "from langchain_openai import ChatOpenAI\n",
    "\n",
    "model = ChatOpenAI(model=\"gpt-3.5-turbo-0125\")"
   ]
  },
  {
   "cell_type": "code",
   "execution_count": 13,
   "metadata": {},
   "outputs": [
    {
     "name": "stdout",
     "output_type": "stream",
     "text": [
      "Requirement already satisfied: langchain in ./.venv/lib/python3.11/site-packages (0.1.11)\n",
      "Requirement already satisfied: PyYAML>=5.3 in ./.venv/lib/python3.11/site-packages (from langchain) (6.0.1)\n",
      "Requirement already satisfied: SQLAlchemy<3,>=1.4 in ./.venv/lib/python3.11/site-packages (from langchain) (2.0.28)\n",
      "Requirement already satisfied: aiohttp<4.0.0,>=3.8.3 in ./.venv/lib/python3.11/site-packages (from langchain) (3.9.3)\n",
      "Requirement already satisfied: dataclasses-json<0.7,>=0.5.7 in ./.venv/lib/python3.11/site-packages (from langchain) (0.5.14)\n",
      "Requirement already satisfied: jsonpatch<2.0,>=1.33 in ./.venv/lib/python3.11/site-packages (from langchain) (1.33)\n",
      "Requirement already satisfied: langchain-community<0.1,>=0.0.25 in ./.venv/lib/python3.11/site-packages (from langchain) (0.0.29)\n",
      "Requirement already satisfied: langchain-core<0.2,>=0.1.29 in ./.venv/lib/python3.11/site-packages (from langchain) (0.1.36)\n",
      "Requirement already satisfied: langchain-text-splitters<0.1,>=0.0.1 in ./.venv/lib/python3.11/site-packages (from langchain) (0.0.1)\n",
      "Requirement already satisfied: langsmith<0.2.0,>=0.1.17 in ./.venv/lib/python3.11/site-packages (from langchain) (0.1.22)\n",
      "Requirement already satisfied: numpy<2,>=1 in ./.venv/lib/python3.11/site-packages (from langchain) (1.26.4)\n",
      "Requirement already satisfied: pydantic<3,>=1 in ./.venv/lib/python3.11/site-packages (from langchain) (2.6.3)\n",
      "Requirement already satisfied: requests<3,>=2 in ./.venv/lib/python3.11/site-packages (from langchain) (2.31.0)\n",
      "Requirement already satisfied: tenacity<9.0.0,>=8.1.0 in ./.venv/lib/python3.11/site-packages (from langchain) (8.2.3)\n",
      "Requirement already satisfied: aiosignal>=1.1.2 in ./.venv/lib/python3.11/site-packages (from aiohttp<4.0.0,>=3.8.3->langchain) (1.3.1)\n",
      "Requirement already satisfied: attrs>=17.3.0 in ./.venv/lib/python3.11/site-packages (from aiohttp<4.0.0,>=3.8.3->langchain) (23.2.0)\n",
      "Requirement already satisfied: frozenlist>=1.1.1 in ./.venv/lib/python3.11/site-packages (from aiohttp<4.0.0,>=3.8.3->langchain) (1.4.1)\n",
      "Requirement already satisfied: multidict<7.0,>=4.5 in ./.venv/lib/python3.11/site-packages (from aiohttp<4.0.0,>=3.8.3->langchain) (6.0.5)\n",
      "Requirement already satisfied: yarl<2.0,>=1.0 in ./.venv/lib/python3.11/site-packages (from aiohttp<4.0.0,>=3.8.3->langchain) (1.9.4)\n",
      "Requirement already satisfied: marshmallow<4.0.0,>=3.18.0 in ./.venv/lib/python3.11/site-packages (from dataclasses-json<0.7,>=0.5.7->langchain) (3.21.1)\n",
      "Requirement already satisfied: typing-inspect<1,>=0.4.0 in ./.venv/lib/python3.11/site-packages (from dataclasses-json<0.7,>=0.5.7->langchain) (0.9.0)\n",
      "Requirement already satisfied: jsonpointer>=1.9 in ./.venv/lib/python3.11/site-packages (from jsonpatch<2.0,>=1.33->langchain) (2.4)\n",
      "Requirement already satisfied: packaging<24.0,>=23.2 in ./.venv/lib/python3.11/site-packages (from langchain-core<0.2,>=0.1.29->langchain) (23.2)\n",
      "Requirement already satisfied: orjson<4.0.0,>=3.9.14 in ./.venv/lib/python3.11/site-packages (from langsmith<0.2.0,>=0.1.17->langchain) (3.9.15)\n",
      "Requirement already satisfied: annotated-types>=0.4.0 in ./.venv/lib/python3.11/site-packages (from pydantic<3,>=1->langchain) (0.6.0)\n",
      "Requirement already satisfied: pydantic-core==2.16.3 in ./.venv/lib/python3.11/site-packages (from pydantic<3,>=1->langchain) (2.16.3)\n",
      "Requirement already satisfied: typing-extensions>=4.6.1 in ./.venv/lib/python3.11/site-packages (from pydantic<3,>=1->langchain) (4.10.0)\n",
      "Requirement already satisfied: charset-normalizer<4,>=2 in ./.venv/lib/python3.11/site-packages (from requests<3,>=2->langchain) (3.3.2)\n",
      "Requirement already satisfied: idna<4,>=2.5 in ./.venv/lib/python3.11/site-packages (from requests<3,>=2->langchain) (3.6)\n",
      "Requirement already satisfied: urllib3<3,>=1.21.1 in ./.venv/lib/python3.11/site-packages (from requests<3,>=2->langchain) (2.2.1)\n",
      "Requirement already satisfied: certifi>=2017.4.17 in ./.venv/lib/python3.11/site-packages (from requests<3,>=2->langchain) (2024.2.2)\n",
      "Requirement already satisfied: greenlet!=0.4.17 in ./.venv/lib/python3.11/site-packages (from SQLAlchemy<3,>=1.4->langchain) (3.0.3)\n",
      "Requirement already satisfied: mypy-extensions>=0.3.0 in ./.venv/lib/python3.11/site-packages (from typing-inspect<1,>=0.4.0->dataclasses-json<0.7,>=0.5.7->langchain) (1.0.0)\n",
      "Note: you may need to restart the kernel to use updated packages.\n"
     ]
    }
   ],
   "source": [
    "%pip install langchain"
   ]
  },
  {
   "cell_type": "code",
   "execution_count": 22,
   "metadata": {},
   "outputs": [
    {
     "name": "stdout",
     "output_type": "stream",
     "text": [
      "Requirement already satisfied: langchain[docarray] in ./.venv/lib/python3.11/site-packages (0.1.11)\n",
      "Requirement already satisfied: PyYAML>=5.3 in ./.venv/lib/python3.11/site-packages (from langchain[docarray]) (6.0.1)\n",
      "Requirement already satisfied: SQLAlchemy<3,>=1.4 in ./.venv/lib/python3.11/site-packages (from langchain[docarray]) (2.0.28)\n",
      "Requirement already satisfied: aiohttp<4.0.0,>=3.8.3 in ./.venv/lib/python3.11/site-packages (from langchain[docarray]) (3.9.3)\n",
      "Requirement already satisfied: dataclasses-json<0.7,>=0.5.7 in ./.venv/lib/python3.11/site-packages (from langchain[docarray]) (0.5.14)\n",
      "Requirement already satisfied: docarray<0.33.0,>=0.32.0 in ./.venv/lib/python3.11/site-packages (from docarray[hnswlib]<0.33.0,>=0.32.0; extra == \"docarray\"->langchain[docarray]) (0.32.1)\n",
      "Requirement already satisfied: jsonpatch<2.0,>=1.33 in ./.venv/lib/python3.11/site-packages (from langchain[docarray]) (1.33)\n",
      "Requirement already satisfied: langchain-community<0.1,>=0.0.25 in ./.venv/lib/python3.11/site-packages (from langchain[docarray]) (0.0.29)\n",
      "Requirement already satisfied: langchain-core<0.2,>=0.1.29 in ./.venv/lib/python3.11/site-packages (from langchain[docarray]) (0.1.36)\n",
      "Requirement already satisfied: langchain-text-splitters<0.1,>=0.0.1 in ./.venv/lib/python3.11/site-packages (from langchain[docarray]) (0.0.1)\n",
      "Requirement already satisfied: langsmith<0.2.0,>=0.1.17 in ./.venv/lib/python3.11/site-packages (from langchain[docarray]) (0.1.22)\n",
      "Requirement already satisfied: numpy<2,>=1 in ./.venv/lib/python3.11/site-packages (from langchain[docarray]) (1.26.4)\n",
      "Requirement already satisfied: pydantic<3,>=1 in ./.venv/lib/python3.11/site-packages (from langchain[docarray]) (2.6.3)\n",
      "Requirement already satisfied: requests<3,>=2 in ./.venv/lib/python3.11/site-packages (from langchain[docarray]) (2.31.0)\n",
      "Requirement already satisfied: tenacity<9.0.0,>=8.1.0 in ./.venv/lib/python3.11/site-packages (from langchain[docarray]) (8.2.3)\n",
      "Requirement already satisfied: aiosignal>=1.1.2 in ./.venv/lib/python3.11/site-packages (from aiohttp<4.0.0,>=3.8.3->langchain[docarray]) (1.3.1)\n",
      "Requirement already satisfied: attrs>=17.3.0 in ./.venv/lib/python3.11/site-packages (from aiohttp<4.0.0,>=3.8.3->langchain[docarray]) (23.2.0)\n",
      "Requirement already satisfied: frozenlist>=1.1.1 in ./.venv/lib/python3.11/site-packages (from aiohttp<4.0.0,>=3.8.3->langchain[docarray]) (1.4.1)\n",
      "Requirement already satisfied: multidict<7.0,>=4.5 in ./.venv/lib/python3.11/site-packages (from aiohttp<4.0.0,>=3.8.3->langchain[docarray]) (6.0.5)\n",
      "Requirement already satisfied: yarl<2.0,>=1.0 in ./.venv/lib/python3.11/site-packages (from aiohttp<4.0.0,>=3.8.3->langchain[docarray]) (1.9.4)\n",
      "Requirement already satisfied: marshmallow<4.0.0,>=3.18.0 in ./.venv/lib/python3.11/site-packages (from dataclasses-json<0.7,>=0.5.7->langchain[docarray]) (3.21.1)\n",
      "Requirement already satisfied: typing-inspect<1,>=0.4.0 in ./.venv/lib/python3.11/site-packages (from dataclasses-json<0.7,>=0.5.7->langchain[docarray]) (0.9.0)\n",
      "Requirement already satisfied: orjson>=3.8.2 in ./.venv/lib/python3.11/site-packages (from docarray<0.33.0,>=0.32.0->docarray[hnswlib]<0.33.0,>=0.32.0; extra == \"docarray\"->langchain[docarray]) (3.9.15)\n",
      "Requirement already satisfied: rich>=13.1.0 in ./.venv/lib/python3.11/site-packages (from docarray<0.33.0,>=0.32.0->docarray[hnswlib]<0.33.0,>=0.32.0; extra == \"docarray\"->langchain[docarray]) (13.7.1)\n",
      "Requirement already satisfied: types-requests>=2.28.11.6 in ./.venv/lib/python3.11/site-packages (from docarray<0.33.0,>=0.32.0->docarray[hnswlib]<0.33.0,>=0.32.0; extra == \"docarray\"->langchain[docarray]) (2.31.0.20240218)\n",
      "Requirement already satisfied: hnswlib>=0.6.2 in ./.venv/lib/python3.11/site-packages (from docarray[hnswlib]<0.33.0,>=0.32.0; extra == \"docarray\"->langchain[docarray]) (0.8.0)\n",
      "Requirement already satisfied: protobuf>=3.19.0 in ./.venv/lib/python3.11/site-packages (from docarray[hnswlib]<0.33.0,>=0.32.0; extra == \"docarray\"->langchain[docarray]) (4.25.3)\n",
      "Requirement already satisfied: jsonpointer>=1.9 in ./.venv/lib/python3.11/site-packages (from jsonpatch<2.0,>=1.33->langchain[docarray]) (2.4)\n",
      "Requirement already satisfied: packaging<24.0,>=23.2 in ./.venv/lib/python3.11/site-packages (from langchain-core<0.2,>=0.1.29->langchain[docarray]) (23.2)\n",
      "Requirement already satisfied: annotated-types>=0.4.0 in ./.venv/lib/python3.11/site-packages (from pydantic<3,>=1->langchain[docarray]) (0.6.0)\n",
      "Requirement already satisfied: pydantic-core==2.16.3 in ./.venv/lib/python3.11/site-packages (from pydantic<3,>=1->langchain[docarray]) (2.16.3)\n",
      "Requirement already satisfied: typing-extensions>=4.6.1 in ./.venv/lib/python3.11/site-packages (from pydantic<3,>=1->langchain[docarray]) (4.10.0)\n",
      "Requirement already satisfied: charset-normalizer<4,>=2 in ./.venv/lib/python3.11/site-packages (from requests<3,>=2->langchain[docarray]) (3.3.2)\n",
      "Requirement already satisfied: idna<4,>=2.5 in ./.venv/lib/python3.11/site-packages (from requests<3,>=2->langchain[docarray]) (3.6)\n",
      "Requirement already satisfied: urllib3<3,>=1.21.1 in ./.venv/lib/python3.11/site-packages (from requests<3,>=2->langchain[docarray]) (2.2.1)\n",
      "Requirement already satisfied: certifi>=2017.4.17 in ./.venv/lib/python3.11/site-packages (from requests<3,>=2->langchain[docarray]) (2024.2.2)\n",
      "Requirement already satisfied: greenlet!=0.4.17 in ./.venv/lib/python3.11/site-packages (from SQLAlchemy<3,>=1.4->langchain[docarray]) (3.0.3)\n",
      "Requirement already satisfied: markdown-it-py>=2.2.0 in ./.venv/lib/python3.11/site-packages (from rich>=13.1.0->docarray<0.33.0,>=0.32.0->docarray[hnswlib]<0.33.0,>=0.32.0; extra == \"docarray\"->langchain[docarray]) (3.0.0)\n",
      "Requirement already satisfied: pygments<3.0.0,>=2.13.0 in ./.venv/lib/python3.11/site-packages (from rich>=13.1.0->docarray<0.33.0,>=0.32.0->docarray[hnswlib]<0.33.0,>=0.32.0; extra == \"docarray\"->langchain[docarray]) (2.17.2)\n",
      "Requirement already satisfied: mypy-extensions>=0.3.0 in ./.venv/lib/python3.11/site-packages (from typing-inspect<1,>=0.4.0->dataclasses-json<0.7,>=0.5.7->langchain[docarray]) (1.0.0)\n",
      "Requirement already satisfied: mdurl~=0.1 in ./.venv/lib/python3.11/site-packages (from markdown-it-py>=2.2.0->rich>=13.1.0->docarray<0.33.0,>=0.32.0->docarray[hnswlib]<0.33.0,>=0.32.0; extra == \"docarray\"->langchain[docarray]) (0.1.2)\n",
      "Requirement already satisfied: docarray in ./.venv/lib/python3.11/site-packages (0.32.1)\n",
      "Collecting docarray\n",
      "  Downloading docarray-0.40.0-py3-none-any.whl.metadata (36 kB)\n",
      "Requirement already satisfied: langchain in ./.venv/lib/python3.11/site-packages (0.1.11)\n",
      "Collecting langchain\n",
      "  Downloading langchain-0.1.14-py3-none-any.whl.metadata (13 kB)\n",
      "Requirement already satisfied: numpy>=1.17.3 in ./.venv/lib/python3.11/site-packages (from docarray) (1.26.4)\n",
      "Requirement already satisfied: orjson>=3.8.2 in ./.venv/lib/python3.11/site-packages (from docarray) (3.9.15)\n",
      "Requirement already satisfied: pydantic>=1.10.8 in ./.venv/lib/python3.11/site-packages (from docarray) (2.6.3)\n",
      "Requirement already satisfied: rich>=13.1.0 in ./.venv/lib/python3.11/site-packages (from docarray) (13.7.1)\n",
      "Requirement already satisfied: types-requests>=2.28.11.6 in ./.venv/lib/python3.11/site-packages (from docarray) (2.31.0.20240218)\n",
      "Requirement already satisfied: typing-inspect>=0.8.0 in ./.venv/lib/python3.11/site-packages (from docarray) (0.9.0)\n",
      "Requirement already satisfied: PyYAML>=5.3 in ./.venv/lib/python3.11/site-packages (from langchain) (6.0.1)\n",
      "Requirement already satisfied: SQLAlchemy<3,>=1.4 in ./.venv/lib/python3.11/site-packages (from langchain) (2.0.28)\n",
      "Requirement already satisfied: aiohttp<4.0.0,>=3.8.3 in ./.venv/lib/python3.11/site-packages (from langchain) (3.9.3)\n",
      "Requirement already satisfied: dataclasses-json<0.7,>=0.5.7 in ./.venv/lib/python3.11/site-packages (from langchain) (0.5.14)\n",
      "Requirement already satisfied: jsonpatch<2.0,>=1.33 in ./.venv/lib/python3.11/site-packages (from langchain) (1.33)\n",
      "Collecting langchain-community<0.1,>=0.0.30 (from langchain)\n",
      "  Downloading langchain_community-0.0.31-py3-none-any.whl.metadata (8.4 kB)\n",
      "Collecting langchain-core<0.2.0,>=0.1.37 (from langchain)\n",
      "  Downloading langchain_core-0.1.39-py3-none-any.whl.metadata (5.9 kB)\n",
      "Requirement already satisfied: langchain-text-splitters<0.1,>=0.0.1 in ./.venv/lib/python3.11/site-packages (from langchain) (0.0.1)\n",
      "Requirement already satisfied: langsmith<0.2.0,>=0.1.17 in ./.venv/lib/python3.11/site-packages (from langchain) (0.1.22)\n",
      "Requirement already satisfied: requests<3,>=2 in ./.venv/lib/python3.11/site-packages (from langchain) (2.31.0)\n",
      "Requirement already satisfied: tenacity<9.0.0,>=8.1.0 in ./.venv/lib/python3.11/site-packages (from langchain) (8.2.3)\n",
      "Requirement already satisfied: aiosignal>=1.1.2 in ./.venv/lib/python3.11/site-packages (from aiohttp<4.0.0,>=3.8.3->langchain) (1.3.1)\n",
      "Requirement already satisfied: attrs>=17.3.0 in ./.venv/lib/python3.11/site-packages (from aiohttp<4.0.0,>=3.8.3->langchain) (23.2.0)\n",
      "Requirement already satisfied: frozenlist>=1.1.1 in ./.venv/lib/python3.11/site-packages (from aiohttp<4.0.0,>=3.8.3->langchain) (1.4.1)\n",
      "Requirement already satisfied: multidict<7.0,>=4.5 in ./.venv/lib/python3.11/site-packages (from aiohttp<4.0.0,>=3.8.3->langchain) (6.0.5)\n",
      "Requirement already satisfied: yarl<2.0,>=1.0 in ./.venv/lib/python3.11/site-packages (from aiohttp<4.0.0,>=3.8.3->langchain) (1.9.4)\n",
      "Requirement already satisfied: marshmallow<4.0.0,>=3.18.0 in ./.venv/lib/python3.11/site-packages (from dataclasses-json<0.7,>=0.5.7->langchain) (3.21.1)\n",
      "Requirement already satisfied: jsonpointer>=1.9 in ./.venv/lib/python3.11/site-packages (from jsonpatch<2.0,>=1.33->langchain) (2.4)\n",
      "Requirement already satisfied: packaging<24.0,>=23.2 in ./.venv/lib/python3.11/site-packages (from langchain-core<0.2.0,>=0.1.37->langchain) (23.2)\n",
      "Requirement already satisfied: annotated-types>=0.4.0 in ./.venv/lib/python3.11/site-packages (from pydantic>=1.10.8->docarray) (0.6.0)\n",
      "Requirement already satisfied: pydantic-core==2.16.3 in ./.venv/lib/python3.11/site-packages (from pydantic>=1.10.8->docarray) (2.16.3)\n",
      "Requirement already satisfied: typing-extensions>=4.6.1 in ./.venv/lib/python3.11/site-packages (from pydantic>=1.10.8->docarray) (4.10.0)\n",
      "Requirement already satisfied: charset-normalizer<4,>=2 in ./.venv/lib/python3.11/site-packages (from requests<3,>=2->langchain) (3.3.2)\n",
      "Requirement already satisfied: idna<4,>=2.5 in ./.venv/lib/python3.11/site-packages (from requests<3,>=2->langchain) (3.6)\n",
      "Requirement already satisfied: urllib3<3,>=1.21.1 in ./.venv/lib/python3.11/site-packages (from requests<3,>=2->langchain) (2.2.1)\n",
      "Requirement already satisfied: certifi>=2017.4.17 in ./.venv/lib/python3.11/site-packages (from requests<3,>=2->langchain) (2024.2.2)\n",
      "Requirement already satisfied: markdown-it-py>=2.2.0 in ./.venv/lib/python3.11/site-packages (from rich>=13.1.0->docarray) (3.0.0)\n",
      "Requirement already satisfied: pygments<3.0.0,>=2.13.0 in ./.venv/lib/python3.11/site-packages (from rich>=13.1.0->docarray) (2.17.2)\n",
      "Requirement already satisfied: greenlet!=0.4.17 in ./.venv/lib/python3.11/site-packages (from SQLAlchemy<3,>=1.4->langchain) (3.0.3)\n",
      "Requirement already satisfied: mypy-extensions>=0.3.0 in ./.venv/lib/python3.11/site-packages (from typing-inspect>=0.8.0->docarray) (1.0.0)\n",
      "Requirement already satisfied: mdurl~=0.1 in ./.venv/lib/python3.11/site-packages (from markdown-it-py>=2.2.0->rich>=13.1.0->docarray) (0.1.2)\n",
      "Downloading docarray-0.40.0-py3-none-any.whl (270 kB)\n",
      "\u001b[2K   \u001b[90m━━━━━━━━━━━━━━━━━━━━━━━━━━━━━━━━━━━━━━━━\u001b[0m \u001b[32m270.2/270.2 kB\u001b[0m \u001b[31m1.3 MB/s\u001b[0m eta \u001b[36m0:00:00\u001b[0ma \u001b[36m0:00:01\u001b[0mm\n",
      "\u001b[?25hDownloading langchain-0.1.14-py3-none-any.whl (812 kB)\n",
      "\u001b[2K   \u001b[90m━━━━━━━━━━━━━━━━━━━━━━━━━━━━━━━━━━━━━━━━\u001b[0m \u001b[32m812.8/812.8 kB\u001b[0m \u001b[31m5.5 MB/s\u001b[0m eta \u001b[36m0:00:00\u001b[0m00:01\u001b[0m00:01\u001b[0m\n",
      "\u001b[?25hDownloading langchain_community-0.0.31-py3-none-any.whl (1.9 MB)\n",
      "\u001b[2K   \u001b[90m━━━━━━━━━━━━━━━━━━━━━━━━━━━━━━━━━━━━━━━━\u001b[0m \u001b[32m1.9/1.9 MB\u001b[0m \u001b[31m8.0 MB/s\u001b[0m eta \u001b[36m0:00:00\u001b[0ma \u001b[36m0:00:01\u001b[0mm\n",
      "\u001b[?25hDownloading langchain_core-0.1.39-py3-none-any.whl (276 kB)\n",
      "\u001b[2K   \u001b[90m━━━━━━━━━━━━━━━━━━━━━━━━━━━━━━━━━━━━━━━━\u001b[0m \u001b[32m276.6/276.6 kB\u001b[0m \u001b[31m8.2 MB/s\u001b[0m eta \u001b[36m0:00:00\u001b[0m\n",
      "\u001b[?25hInstalling collected packages: docarray, langchain-core, langchain-community, langchain\n",
      "  Attempting uninstall: docarray\n",
      "    Found existing installation: docarray 0.32.1\n",
      "    Uninstalling docarray-0.32.1:\n",
      "      Successfully uninstalled docarray-0.32.1\n",
      "  Attempting uninstall: langchain-core\n",
      "    Found existing installation: langchain-core 0.1.36\n",
      "    Uninstalling langchain-core-0.1.36:\n",
      "      Successfully uninstalled langchain-core-0.1.36\n",
      "  Attempting uninstall: langchain-community\n",
      "    Found existing installation: langchain-community 0.0.29\n",
      "    Uninstalling langchain-community-0.0.29:\n",
      "      Successfully uninstalled langchain-community-0.0.29\n",
      "  Attempting uninstall: langchain\n",
      "    Found existing installation: langchain 0.1.11\n",
      "    Uninstalling langchain-0.1.11:\n",
      "      Successfully uninstalled langchain-0.1.11\n",
      "Successfully installed docarray-0.40.0 langchain-0.1.14 langchain-community-0.0.31 langchain-core-0.1.39\n",
      "Note: you may need to restart the kernel to use updated packages.\n"
     ]
    }
   ],
   "source": [
    "!pip install \"langchain[docarray]\" \n",
    "%pip install --upgrade docarray langchain"
   ]
  },
  {
   "cell_type": "code",
   "execution_count": 28,
   "metadata": {},
   "outputs": [
    {
     "data": {
      "text/plain": [
       "'Harrison worked at Kenosha.'"
      ]
     },
     "execution_count": 28,
     "metadata": {},
     "output_type": "execute_result"
    }
   ],
   "source": [
    "# Requires:\n",
    "# pip install langchain docarray tiktoken\n",
    "\n",
    "from langchain_community.vectorstores import DocArrayInMemorySearch\n",
    "import docarray\n",
    "from langchain_core.output_parsers import StrOutputParser\n",
    "from langchain_core.prompts import ChatPromptTemplate\n",
    "from langchain_core.runnables import RunnableParallel, RunnablePassthrough\n",
    "from langchain_openai import OpenAIEmbeddings\n",
    "\n",
    "vectorstore = DocArrayInMemorySearch.from_texts(\n",
    "    [\"harrison worked at Kenosha\", \"bears like to eat honey\"],\n",
    "    embedding=OpenAIEmbeddings(),\n",
    ")\n",
    "retriever = vectorstore.as_retriever()\n",
    "\n",
    "template = \"\"\"Answer the question based only on the following context:\n",
    "{context}\n",
    "\n",
    "Question: {question}\n",
    "\"\"\"\n",
    "prompt = ChatPromptTemplate.from_template(template)\n",
    "output_parser = StrOutputParser()\n",
    "\n",
    "setup_and_retrieval = RunnableParallel(\n",
    "    {\"context\": retriever, \"question\": RunnablePassthrough()}\n",
    ")\n",
    "chain = setup_and_retrieval | prompt | model | output_parser\n",
    "\n",
    "chain.invoke(\"where did harrison work?\")"
   ]
  },
  {
   "cell_type": "code",
   "execution_count": 29,
   "metadata": {},
   "outputs": [
    {
     "data": {
      "text/plain": [
       "[Document(page_content='harrison worked at Kenosha'),\n",
       " Document(page_content='bears like to eat honey')]"
      ]
     },
     "execution_count": 29,
     "metadata": {},
     "output_type": "execute_result"
    }
   ],
   "source": [
    "retriever.invoke(\"where did harrison work?\")"
   ]
  },
  {
   "cell_type": "code",
   "execution_count": 30,
   "metadata": {},
   "outputs": [],
   "source": [
    "setup_and_retrieval = RunnableParallel(\n",
    "    {\"context\": retriever, \"question\": RunnablePassthrough()}\n",
    ")"
   ]
  },
  {
   "cell_type": "code",
   "execution_count": 31,
   "metadata": {},
   "outputs": [],
   "source": [
    "setup_and_retrieval = RunnableParallel(\n",
    "    {\"context\": retriever, \"question\": RunnablePassthrough()}\n",
    ")\n",
    "chain = setup_and_retrieval | prompt | model | output_parser"
   ]
  },
  {
   "cell_type": "code",
   "execution_count": 32,
   "metadata": {},
   "outputs": [
    {
     "data": {
      "text/plain": [
       "'Harrison worked at Kenosha.'"
      ]
     },
     "execution_count": 32,
     "metadata": {},
     "output_type": "execute_result"
    }
   ],
   "source": [
    "chain.invoke(\"where did harrison work?\")"
   ]
  },
  {
   "cell_type": "code",
   "execution_count": null,
   "metadata": {},
   "outputs": [],
   "source": []
  }
 ],
 "metadata": {
  "kernelspec": {
   "display_name": "chainlit",
   "language": "python",
   "name": "python3"
  },
  "language_info": {
   "codemirror_mode": {
    "name": "ipython",
    "version": 3
   },
   "file_extension": ".py",
   "mimetype": "text/x-python",
   "name": "python",
   "nbconvert_exporter": "python",
   "pygments_lexer": "ipython3",
   "version": "3.11.5"
  }
 },
 "nbformat": 4,
 "nbformat_minor": 2
}
